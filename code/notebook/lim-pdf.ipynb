{
 "cells": [
  {
   "cell_type": "code",
   "execution_count": 4,
   "id": "b681453a",
   "metadata": {},
   "outputs": [],
   "source": [
    "import numpy as np\n",
    "import limpy.lline as ll\n",
    "import limpy.theory as lt\n",
    "import limpy.utils as lu\n",
    "import limpy.params as p\n",
    "import limpy.powerspectra as lp\n",
    "import matplotlib.pyplot as plt\n",
    "\n",
    "from limpy.plotsettings import *\n",
    "import matplotlib as mpl\n",
    "import matplotlib.colors as colors\n",
    "from matplotlib import gridspec\n",
    "\n",
    "import torch\n",
    "from sbi import utils as utils\n",
    "from sbi import analysis as analysis\n",
    "from sbi.inference.base import infer"
   ]
  },
  {
   "cell_type": "code",
   "execution_count": 5,
   "id": "c870f86d",
   "metadata": {},
   "outputs": [],
   "source": [
    "import limpy.params as p\n",
    "def configure_params_fisher(line_name=\"CII158\", step_size=50):\n",
    "    line_name=line_name\n",
    "    step_size=step_size\n",
    "    params_default=np.array(p.line_scattered_params(line_name))\n",
    "    params_fisher_names=['a_off', 'b_off']      \n",
    "    params_fisher={'a_off': params_default[0], \n",
    "                   'b_off':params_default[2]\n",
    "                  }\n",
    "\n",
    "    steps={'a_off': params_default[0]/step_size,\n",
    "           'b_off':params_default[2]/step_size\n",
    "          }\n",
    "    return params_fisher, steps\n",
    "\n",
    "\n",
    "params_fisher, steps= configure_params_fisher(line_name=\"CII158\", step_size=50)\n",
    "p\n",
    "arams_default=params_fisher"
   ]
  },
  {
   "cell_type": "code",
   "execution_count": 57,
   "id": "6fa9e876",
   "metadata": {},
   "outputs": [
    {
     "name": "stdout",
     "output_type": "stream",
     "text": [
      "[7.5670824 1.8317983] [4.461997  1.4023803]\n",
      "4.19781 1.6458603\n"
     ]
    },
    {
     "name": "stderr",
     "output_type": "stream",
     "text": [
      "\r",
      "Running 200 simulations.:   0%|                         | 0/200 [00:00<?, ?it/s]"
     ]
    },
    {
     "name": "stdout",
     "output_type": "stream",
     "text": [
      "9.430557 1.487789\n"
     ]
    },
    {
     "name": "stderr",
     "output_type": "stream",
     "text": [
      "\r",
      "Running 200 simulations.:   0%|                 | 1/200 [00:00<00:50,  3.96it/s]"
     ]
    },
    {
     "name": "stdout",
     "output_type": "stream",
     "text": [
      "6.380111 0.47084358\n"
     ]
    },
    {
     "name": "stderr",
     "output_type": "stream",
     "text": [
      "\r",
      "Running 200 simulations.:   1%|▏                | 2/200 [00:00<00:50,  3.95it/s]"
     ]
    },
    {
     "name": "stdout",
     "output_type": "stream",
     "text": [
      "9.292965 1.2922318\n"
     ]
    },
    {
     "name": "stderr",
     "output_type": "stream",
     "text": [
      "\r",
      "Running 200 simulations.:   2%|▎                | 3/200 [00:00<00:52,  3.77it/s]"
     ]
    },
    {
     "name": "stdout",
     "output_type": "stream",
     "text": [
      "4.1153364 0.82337713\n"
     ]
    },
    {
     "name": "stderr",
     "output_type": "stream",
     "text": [
      "\r",
      "Running 200 simulations.:   2%|▎                | 4/200 [00:01<00:50,  3.85it/s]"
     ]
    },
    {
     "name": "stdout",
     "output_type": "stream",
     "text": [
      "9.140484 1.8760034\n"
     ]
    },
    {
     "name": "stderr",
     "output_type": "stream",
     "text": [
      "\r",
      "Running 200 simulations.:   2%|▍                | 5/200 [00:01<00:49,  3.95it/s]"
     ]
    },
    {
     "name": "stdout",
     "output_type": "stream",
     "text": [
      "4.2315526 0.41618618\n"
     ]
    },
    {
     "name": "stderr",
     "output_type": "stream",
     "text": [
      "\r",
      "Running 200 simulations.:   3%|▌                | 6/200 [00:01<00:48,  4.01it/s]"
     ]
    },
    {
     "name": "stdout",
     "output_type": "stream",
     "text": [
      "9.076703 0.3330014\n"
     ]
    },
    {
     "name": "stderr",
     "output_type": "stream",
     "text": [
      "\r",
      "Running 200 simulations.:   4%|▌                | 7/200 [00:01<00:47,  4.04it/s]"
     ]
    },
    {
     "name": "stdout",
     "output_type": "stream",
     "text": [
      "7.830716 0.19665515\n"
     ]
    },
    {
     "name": "stderr",
     "output_type": "stream",
     "text": [
      "\r",
      "Running 200 simulations.:   4%|▋                | 8/200 [00:02<00:47,  4.01it/s]"
     ]
    },
    {
     "name": "stdout",
     "output_type": "stream",
     "text": [
      "5.659174 0.28671038\n"
     ]
    },
    {
     "name": "stderr",
     "output_type": "stream",
     "text": [
      "\r",
      "Running 200 simulations.:   4%|▊                | 9/200 [00:02<00:48,  3.92it/s]"
     ]
    },
    {
     "name": "stdout",
     "output_type": "stream",
     "text": [
      "7.355434 0.66208225\n"
     ]
    },
    {
     "name": "stderr",
     "output_type": "stream",
     "text": [
      "\r",
      "Running 200 simulations.:   5%|▊               | 10/200 [00:02<00:49,  3.86it/s]"
     ]
    },
    {
     "name": "stdout",
     "output_type": "stream",
     "text": [
      "5.966887 0.13472843\n"
     ]
    },
    {
     "name": "stderr",
     "output_type": "stream",
     "text": [
      "\r",
      "Running 200 simulations.:   6%|▉               | 11/200 [00:02<00:49,  3.80it/s]"
     ]
    },
    {
     "name": "stdout",
     "output_type": "stream",
     "text": [
      "7.9523783 0.5013427\n"
     ]
    },
    {
     "name": "stderr",
     "output_type": "stream",
     "text": [
      "\r",
      "Running 200 simulations.:   6%|▉               | 12/200 [00:03<00:49,  3.82it/s]"
     ]
    },
    {
     "name": "stdout",
     "output_type": "stream",
     "text": [
      "8.650689 1.1167836\n"
     ]
    },
    {
     "name": "stderr",
     "output_type": "stream",
     "text": [
      "\r",
      "Running 200 simulations.:   6%|█               | 13/200 [00:03<00:49,  3.81it/s]"
     ]
    },
    {
     "name": "stdout",
     "output_type": "stream",
     "text": [
      "4.0091515 0.41217095\n"
     ]
    },
    {
     "name": "stderr",
     "output_type": "stream",
     "text": [
      "\r",
      "Running 200 simulations.:   7%|█               | 14/200 [00:03<00:48,  3.84it/s]"
     ]
    },
    {
     "name": "stdout",
     "output_type": "stream",
     "text": [
      "6.857044 0.48459446\n"
     ]
    },
    {
     "name": "stderr",
     "output_type": "stream",
     "text": [
      "\r",
      "Running 200 simulations.:   8%|█▏              | 15/200 [00:03<00:46,  3.94it/s]"
     ]
    },
    {
     "name": "stdout",
     "output_type": "stream",
     "text": [
      "4.4681044 0.97367984\n"
     ]
    },
    {
     "name": "stderr",
     "output_type": "stream",
     "text": [
      "\r",
      "Running 200 simulations.:   8%|█▎              | 16/200 [00:04<00:46,  3.94it/s]"
     ]
    },
    {
     "name": "stdout",
     "output_type": "stream",
     "text": [
      "7.712639 1.0322914\n"
     ]
    },
    {
     "name": "stderr",
     "output_type": "stream",
     "text": [
      "\r",
      "Running 200 simulations.:   8%|█▎              | 17/200 [00:04<00:46,  3.96it/s]"
     ]
    },
    {
     "name": "stdout",
     "output_type": "stream",
     "text": [
      "7.3864775 1.678438\n"
     ]
    },
    {
     "name": "stderr",
     "output_type": "stream",
     "text": [
      "\r",
      "Running 200 simulations.:   9%|█▍              | 18/200 [00:04<00:46,  3.92it/s]"
     ]
    },
    {
     "name": "stdout",
     "output_type": "stream",
     "text": [
      "7.868862 1.0533016\n"
     ]
    },
    {
     "name": "stderr",
     "output_type": "stream",
     "text": [
      "\r",
      "Running 200 simulations.:  10%|█▌              | 19/200 [00:04<00:46,  3.89it/s]"
     ]
    },
    {
     "name": "stdout",
     "output_type": "stream",
     "text": [
      "7.055051 0.5798466\n"
     ]
    },
    {
     "name": "stderr",
     "output_type": "stream",
     "text": [
      "\r",
      "Running 200 simulations.:  10%|█▌              | 20/200 [00:05<00:45,  3.93it/s]"
     ]
    },
    {
     "name": "stdout",
     "output_type": "stream",
     "text": [
      "6.5492506 0.4732388\n"
     ]
    },
    {
     "name": "stderr",
     "output_type": "stream",
     "text": [
      "\r",
      "Running 200 simulations.:  10%|█▋              | 21/200 [00:05<00:46,  3.87it/s]"
     ]
    },
    {
     "name": "stdout",
     "output_type": "stream",
     "text": [
      "7.8119054 1.956007\n"
     ]
    },
    {
     "name": "stderr",
     "output_type": "stream",
     "text": [
      "\r",
      "Running 200 simulations.:  11%|█▊              | 22/200 [00:05<00:46,  3.85it/s]"
     ]
    },
    {
     "name": "stdout",
     "output_type": "stream",
     "text": [
      "4.8756037 1.2698643\n"
     ]
    },
    {
     "name": "stderr",
     "output_type": "stream",
     "text": [
      "\r",
      "Running 200 simulations.:  12%|█▊              | 23/200 [00:05<00:45,  3.91it/s]"
     ]
    },
    {
     "name": "stdout",
     "output_type": "stream",
     "text": [
      "9.993472 0.12936746\n"
     ]
    },
    {
     "name": "stderr",
     "output_type": "stream",
     "text": [
      "\r",
      "Running 200 simulations.:  12%|█▉              | 24/200 [00:06<00:44,  3.95it/s]"
     ]
    },
    {
     "name": "stdout",
     "output_type": "stream",
     "text": [
      "6.6700377 0.34607804\n"
     ]
    },
    {
     "name": "stderr",
     "output_type": "stream",
     "text": [
      "\r",
      "Running 200 simulations.:  12%|██              | 25/200 [00:06<00:44,  3.95it/s]"
     ]
    },
    {
     "name": "stdout",
     "output_type": "stream",
     "text": [
      "9.460457 1.5510013\n"
     ]
    },
    {
     "name": "stderr",
     "output_type": "stream",
     "text": [
      "\r",
      "Running 200 simulations.:  13%|██              | 26/200 [00:06<00:44,  3.94it/s]"
     ]
    },
    {
     "name": "stdout",
     "output_type": "stream",
     "text": [
      "7.084731 1.3860929\n"
     ]
    },
    {
     "name": "stderr",
     "output_type": "stream",
     "text": [
      "\r",
      "Running 200 simulations.:  14%|██▏             | 27/200 [00:06<00:44,  3.91it/s]"
     ]
    },
    {
     "name": "stdout",
     "output_type": "stream",
     "text": [
      "4.3926005 1.3361297\n"
     ]
    },
    {
     "name": "stderr",
     "output_type": "stream",
     "text": [
      "\r",
      "Running 200 simulations.:  14%|██▏             | 28/200 [00:07<00:43,  3.93it/s]"
     ]
    },
    {
     "name": "stdout",
     "output_type": "stream",
     "text": [
      "5.0174937 1.8565822\n"
     ]
    },
    {
     "name": "stderr",
     "output_type": "stream",
     "text": [
      "\r",
      "Running 200 simulations.:  14%|██▎             | 29/200 [00:07<00:45,  3.79it/s]"
     ]
    },
    {
     "name": "stdout",
     "output_type": "stream",
     "text": [
      "7.9793253 1.1281345\n"
     ]
    },
    {
     "name": "stderr",
     "output_type": "stream",
     "text": [
      "\r",
      "Running 200 simulations.:  15%|██▍             | 30/200 [00:07<00:46,  3.68it/s]"
     ]
    },
    {
     "name": "stdout",
     "output_type": "stream",
     "text": [
      "6.045536 1.1163343\n"
     ]
    },
    {
     "name": "stderr",
     "output_type": "stream",
     "text": [
      "\r",
      "Running 200 simulations.:  16%|██▍             | 31/200 [00:08<00:46,  3.60it/s]"
     ]
    },
    {
     "name": "stdout",
     "output_type": "stream",
     "text": [
      "7.754852 0.20065466\n"
     ]
    },
    {
     "name": "stderr",
     "output_type": "stream",
     "text": [
      "\r",
      "Running 200 simulations.:  16%|██▌             | 32/200 [00:08<00:47,  3.51it/s]"
     ]
    },
    {
     "name": "stdout",
     "output_type": "stream",
     "text": [
      "9.277081 0.57923186\n"
     ]
    },
    {
     "name": "stderr",
     "output_type": "stream",
     "text": [
      "\r",
      "Running 200 simulations.:  16%|██▋             | 33/200 [00:08<00:47,  3.52it/s]"
     ]
    },
    {
     "name": "stdout",
     "output_type": "stream",
     "text": [
      "4.0621405 1.5573071\n"
     ]
    },
    {
     "name": "stderr",
     "output_type": "stream",
     "text": [
      "\r",
      "Running 200 simulations.:  17%|██▋             | 34/200 [00:08<00:46,  3.54it/s]"
     ]
    },
    {
     "name": "stdout",
     "output_type": "stream",
     "text": [
      "6.0855165 0.42435503\n"
     ]
    },
    {
     "name": "stderr",
     "output_type": "stream",
     "text": [
      "\r",
      "Running 200 simulations.:  18%|██▊             | 35/200 [00:09<00:46,  3.55it/s]"
     ]
    },
    {
     "name": "stdout",
     "output_type": "stream",
     "text": [
      "5.8134346 0.1526017\n"
     ]
    },
    {
     "name": "stderr",
     "output_type": "stream",
     "text": [
      "\r",
      "Running 200 simulations.:  18%|██▉             | 36/200 [00:09<00:46,  3.55it/s]"
     ]
    },
    {
     "name": "stdout",
     "output_type": "stream",
     "text": [
      "5.696612 0.6459213\n"
     ]
    },
    {
     "name": "stderr",
     "output_type": "stream",
     "text": [
      "\r",
      "Running 200 simulations.:  18%|██▉             | 37/200 [00:09<00:50,  3.23it/s]"
     ]
    },
    {
     "name": "stdout",
     "output_type": "stream",
     "text": [
      "7.9168563 1.7442768\n"
     ]
    },
    {
     "name": "stderr",
     "output_type": "stream",
     "text": [
      "\r",
      "Running 200 simulations.:  19%|███             | 38/200 [00:10<00:53,  3.04it/s]"
     ]
    },
    {
     "name": "stdout",
     "output_type": "stream",
     "text": [
      "8.179222 0.92080677\n"
     ]
    },
    {
     "name": "stderr",
     "output_type": "stream",
     "text": [
      "\r",
      "Running 200 simulations.:  20%|███             | 39/200 [00:10<00:49,  3.27it/s]"
     ]
    },
    {
     "name": "stdout",
     "output_type": "stream",
     "text": [
      "8.078182 1.6356987\n"
     ]
    },
    {
     "name": "stderr",
     "output_type": "stream",
     "text": [
      "\r",
      "Running 200 simulations.:  20%|███▏            | 40/200 [00:10<00:47,  3.34it/s]"
     ]
    },
    {
     "name": "stdout",
     "output_type": "stream",
     "text": [
      "7.552771 1.3714294\n"
     ]
    },
    {
     "name": "stderr",
     "output_type": "stream",
     "text": [
      "\r",
      "Running 200 simulations.:  20%|███▎            | 41/200 [00:11<00:46,  3.45it/s]"
     ]
    },
    {
     "name": "stdout",
     "output_type": "stream",
     "text": [
      "5.046071 0.814152\n"
     ]
    },
    {
     "name": "stderr",
     "output_type": "stream",
     "text": [
      "\r",
      "Running 200 simulations.:  21%|███▎            | 42/200 [00:11<00:45,  3.49it/s]"
     ]
    },
    {
     "name": "stdout",
     "output_type": "stream",
     "text": [
      "6.4679227 0.7845533\n"
     ]
    },
    {
     "name": "stderr",
     "output_type": "stream",
     "text": [
      "\r",
      "Running 200 simulations.:  22%|███▍            | 43/200 [00:11<00:46,  3.40it/s]"
     ]
    },
    {
     "name": "stdout",
     "output_type": "stream",
     "text": [
      "5.359934 0.5823452\n"
     ]
    },
    {
     "name": "stderr",
     "output_type": "stream",
     "text": [
      "\r",
      "Running 200 simulations.:  22%|███▌            | 44/200 [00:11<00:47,  3.29it/s]"
     ]
    },
    {
     "name": "stdout",
     "output_type": "stream",
     "text": [
      "8.854468 0.7737203\n"
     ]
    },
    {
     "name": "stderr",
     "output_type": "stream",
     "text": [
      "\r",
      "Running 200 simulations.:  22%|███▌            | 45/200 [00:12<00:52,  2.93it/s]"
     ]
    },
    {
     "name": "stdout",
     "output_type": "stream",
     "text": [
      "4.530238 0.36694604\n"
     ]
    },
    {
     "name": "stderr",
     "output_type": "stream",
     "text": [
      "\r",
      "Running 200 simulations.:  23%|███▋            | 46/200 [00:12<00:54,  2.84it/s]"
     ]
    },
    {
     "name": "stdout",
     "output_type": "stream",
     "text": [
      "4.9888377 1.1811037\n"
     ]
    },
    {
     "name": "stderr",
     "output_type": "stream",
     "text": [
      "\r",
      "Running 200 simulations.:  24%|███▊            | 47/200 [00:12<00:49,  3.08it/s]"
     ]
    },
    {
     "name": "stdout",
     "output_type": "stream",
     "text": [
      "9.612557 1.345834\n"
     ]
    },
    {
     "name": "stderr",
     "output_type": "stream",
     "text": [
      "\r",
      "Running 200 simulations.:  24%|███▊            | 48/200 [00:13<00:45,  3.32it/s]"
     ]
    },
    {
     "name": "stdout",
     "output_type": "stream",
     "text": [
      "6.239953 1.2594249\n"
     ]
    },
    {
     "name": "stderr",
     "output_type": "stream",
     "text": [
      "\r",
      "Running 200 simulations.:  24%|███▉            | 49/200 [00:13<00:42,  3.53it/s]"
     ]
    },
    {
     "name": "stdout",
     "output_type": "stream",
     "text": [
      "7.3020043 0.8553346\n"
     ]
    },
    {
     "name": "stderr",
     "output_type": "stream",
     "text": [
      "\r",
      "Running 200 simulations.:  25%|████            | 50/200 [00:13<00:40,  3.70it/s]"
     ]
    },
    {
     "name": "stdout",
     "output_type": "stream",
     "text": [
      "5.9292927 0.72398543\n"
     ]
    },
    {
     "name": "stderr",
     "output_type": "stream",
     "text": [
      "\r",
      "Running 200 simulations.:  26%|████            | 51/200 [00:13<00:39,  3.76it/s]"
     ]
    },
    {
     "name": "stdout",
     "output_type": "stream",
     "text": [
      "7.3483105 0.44659382\n"
     ]
    },
    {
     "name": "stderr",
     "output_type": "stream",
     "text": [
      "\r",
      "Running 200 simulations.:  26%|████▏           | 52/200 [00:14<00:38,  3.84it/s]"
     ]
    },
    {
     "name": "stdout",
     "output_type": "stream",
     "text": [
      "7.4615173 1.2175108\n"
     ]
    },
    {
     "name": "stderr",
     "output_type": "stream",
     "text": [
      "\r",
      "Running 200 simulations.:  26%|████▏           | 53/200 [00:14<00:37,  3.90it/s]"
     ]
    },
    {
     "name": "stdout",
     "output_type": "stream",
     "text": [
      "5.2673 0.34382063\n"
     ]
    },
    {
     "name": "stderr",
     "output_type": "stream",
     "text": [
      "\r",
      "Running 200 simulations.:  27%|████▎           | 54/200 [00:14<00:37,  3.88it/s]"
     ]
    },
    {
     "name": "stdout",
     "output_type": "stream",
     "text": [
      "6.8889885 1.404477\n"
     ]
    },
    {
     "name": "stderr",
     "output_type": "stream",
     "text": [
      "\r",
      "Running 200 simulations.:  28%|████▍           | 55/200 [00:14<00:37,  3.88it/s]"
     ]
    },
    {
     "name": "stdout",
     "output_type": "stream",
     "text": [
      "4.16888 1.9089749\n"
     ]
    },
    {
     "name": "stderr",
     "output_type": "stream",
     "text": [
      "\r",
      "Running 200 simulations.:  28%|████▍           | 56/200 [00:15<00:37,  3.88it/s]"
     ]
    },
    {
     "name": "stdout",
     "output_type": "stream",
     "text": [
      "5.766142 1.6289487\n"
     ]
    },
    {
     "name": "stderr",
     "output_type": "stream",
     "text": [
      "\r",
      "Running 200 simulations.:  28%|████▌           | 57/200 [00:15<00:38,  3.71it/s]"
     ]
    },
    {
     "name": "stdout",
     "output_type": "stream",
     "text": [
      "7.0515714 1.2591119\n"
     ]
    },
    {
     "name": "stderr",
     "output_type": "stream",
     "text": [
      "\r",
      "Running 200 simulations.:  29%|████▋           | 58/200 [00:15<00:37,  3.81it/s]"
     ]
    },
    {
     "name": "stdout",
     "output_type": "stream",
     "text": [
      "8.956648 0.24909288\n"
     ]
    },
    {
     "name": "stderr",
     "output_type": "stream",
     "text": [
      "\r",
      "Running 200 simulations.:  30%|████▋           | 59/200 [00:16<00:36,  3.89it/s]"
     ]
    },
    {
     "name": "stdout",
     "output_type": "stream",
     "text": [
      "6.4920473 1.9765866\n"
     ]
    },
    {
     "name": "stderr",
     "output_type": "stream",
     "text": [
      "\r",
      "Running 200 simulations.:  30%|████▊           | 60/200 [00:16<00:35,  3.92it/s]"
     ]
    },
    {
     "name": "stdout",
     "output_type": "stream",
     "text": [
      "7.7667766 1.9747281\n"
     ]
    },
    {
     "name": "stderr",
     "output_type": "stream",
     "text": [
      "\r",
      "Running 200 simulations.:  30%|████▉           | 61/200 [00:16<00:35,  3.97it/s]"
     ]
    },
    {
     "name": "stdout",
     "output_type": "stream",
     "text": [
      "5.735119 1.2126852\n"
     ]
    },
    {
     "name": "stderr",
     "output_type": "stream",
     "text": [
      "\r",
      "Running 200 simulations.:  31%|████▉           | 62/200 [00:16<00:34,  4.04it/s]"
     ]
    },
    {
     "name": "stdout",
     "output_type": "stream",
     "text": [
      "4.7052207 0.9679792\n"
     ]
    },
    {
     "name": "stderr",
     "output_type": "stream",
     "text": [
      "\r",
      "Running 200 simulations.:  32%|█████           | 63/200 [00:17<00:33,  4.03it/s]"
     ]
    },
    {
     "name": "stdout",
     "output_type": "stream",
     "text": [
      "4.9267116 0.949295\n"
     ]
    },
    {
     "name": "stderr",
     "output_type": "stream",
     "text": [
      "\r",
      "Running 200 simulations.:  32%|█████           | 64/200 [00:17<00:33,  4.03it/s]"
     ]
    },
    {
     "name": "stdout",
     "output_type": "stream",
     "text": [
      "7.7318707 0.12533149\n"
     ]
    },
    {
     "name": "stderr",
     "output_type": "stream",
     "text": [
      "\r",
      "Running 200 simulations.:  32%|█████▏          | 65/200 [00:17<00:33,  4.01it/s]"
     ]
    },
    {
     "name": "stdout",
     "output_type": "stream",
     "text": [
      "5.1407137 1.7818753\n"
     ]
    },
    {
     "name": "stderr",
     "output_type": "stream",
     "text": [
      "\r",
      "Running 200 simulations.:  33%|█████▎          | 66/200 [00:17<00:33,  4.03it/s]"
     ]
    },
    {
     "name": "stdout",
     "output_type": "stream",
     "text": [
      "6.181191 0.78547406\n"
     ]
    },
    {
     "name": "stderr",
     "output_type": "stream",
     "text": [
      "\r",
      "Running 200 simulations.:  34%|█████▎          | 67/200 [00:18<00:33,  3.98it/s]"
     ]
    },
    {
     "name": "stdout",
     "output_type": "stream",
     "text": [
      "5.859772 0.38376644\n"
     ]
    },
    {
     "name": "stderr",
     "output_type": "stream",
     "text": [
      "\r",
      "Running 200 simulations.:  34%|█████▍          | 68/200 [00:18<00:33,  3.99it/s]"
     ]
    },
    {
     "name": "stdout",
     "output_type": "stream",
     "text": [
      "5.44263 1.1829405\n"
     ]
    },
    {
     "name": "stderr",
     "output_type": "stream",
     "text": [
      "\r",
      "Running 200 simulations.:  34%|█████▌          | 69/200 [00:18<00:32,  4.01it/s]"
     ]
    },
    {
     "name": "stdout",
     "output_type": "stream",
     "text": [
      "7.959301 1.702079\n"
     ]
    },
    {
     "name": "stderr",
     "output_type": "stream",
     "text": [
      "\r",
      "Running 200 simulations.:  35%|█████▌          | 70/200 [00:18<00:31,  4.07it/s]"
     ]
    },
    {
     "name": "stdout",
     "output_type": "stream",
     "text": [
      "6.222698 1.7416972\n"
     ]
    },
    {
     "name": "stderr",
     "output_type": "stream",
     "text": [
      "\r",
      "Running 200 simulations.:  36%|█████▋          | 71/200 [00:18<00:31,  4.05it/s]"
     ]
    },
    {
     "name": "stdout",
     "output_type": "stream",
     "text": [
      "5.8025327 0.7072902\n"
     ]
    },
    {
     "name": "stderr",
     "output_type": "stream",
     "text": [
      "\r",
      "Running 200 simulations.:  36%|█████▊          | 72/200 [00:19<00:32,  3.99it/s]"
     ]
    },
    {
     "name": "stdout",
     "output_type": "stream",
     "text": [
      "6.6752086 0.4941495\n"
     ]
    },
    {
     "name": "stderr",
     "output_type": "stream",
     "text": [
      "\r",
      "Running 200 simulations.:  36%|█████▊          | 73/200 [00:19<00:31,  4.03it/s]"
     ]
    },
    {
     "name": "stdout",
     "output_type": "stream",
     "text": [
      "8.536328 0.542891\n"
     ]
    },
    {
     "name": "stderr",
     "output_type": "stream",
     "text": [
      "\r",
      "Running 200 simulations.:  37%|█████▉          | 74/200 [00:19<00:31,  4.02it/s]"
     ]
    },
    {
     "name": "stdout",
     "output_type": "stream",
     "text": [
      "6.6100864 1.3232268\n"
     ]
    },
    {
     "name": "stderr",
     "output_type": "stream",
     "text": [
      "\r",
      "Running 200 simulations.:  38%|██████          | 75/200 [00:20<00:31,  3.94it/s]"
     ]
    },
    {
     "name": "stdout",
     "output_type": "stream",
     "text": [
      "5.7533174 1.4705255\n"
     ]
    },
    {
     "name": "stderr",
     "output_type": "stream",
     "text": [
      "\r",
      "Running 200 simulations.:  38%|██████          | 76/200 [00:20<00:32,  3.82it/s]"
     ]
    },
    {
     "name": "stdout",
     "output_type": "stream",
     "text": [
      "6.1007214 1.4680666\n"
     ]
    },
    {
     "name": "stderr",
     "output_type": "stream",
     "text": [
      "\r",
      "Running 200 simulations.:  38%|██████▏         | 77/200 [00:20<00:32,  3.84it/s]"
     ]
    },
    {
     "name": "stdout",
     "output_type": "stream",
     "text": [
      "9.2769985 0.9643285\n"
     ]
    },
    {
     "name": "stderr",
     "output_type": "stream",
     "text": [
      "\r",
      "Running 200 simulations.:  39%|██████▏         | 78/200 [00:20<00:31,  3.91it/s]"
     ]
    },
    {
     "name": "stdout",
     "output_type": "stream",
     "text": [
      "5.453151 1.1368015\n"
     ]
    },
    {
     "name": "stderr",
     "output_type": "stream",
     "text": [
      "\r",
      "Running 200 simulations.:  40%|██████▎         | 79/200 [00:21<00:31,  3.89it/s]"
     ]
    },
    {
     "name": "stdout",
     "output_type": "stream",
     "text": [
      "8.859185 0.80988824\n"
     ]
    },
    {
     "name": "stderr",
     "output_type": "stream",
     "text": [
      "\r",
      "Running 200 simulations.:  40%|██████▍         | 80/200 [00:21<00:37,  3.23it/s]"
     ]
    },
    {
     "name": "stdout",
     "output_type": "stream",
     "text": [
      "9.274169 0.9066148\n"
     ]
    },
    {
     "name": "stderr",
     "output_type": "stream",
     "text": [
      "\r",
      "Running 200 simulations.:  40%|██████▍         | 81/200 [00:21<00:35,  3.34it/s]"
     ]
    },
    {
     "name": "stdout",
     "output_type": "stream",
     "text": [
      "9.0994425 0.8084369\n"
     ]
    },
    {
     "name": "stderr",
     "output_type": "stream",
     "text": [
      "\r",
      "Running 200 simulations.:  41%|██████▌         | 82/200 [00:22<00:35,  3.29it/s]"
     ]
    },
    {
     "name": "stdout",
     "output_type": "stream",
     "text": [
      "6.2148085 0.8253045\n"
     ]
    },
    {
     "name": "stderr",
     "output_type": "stream",
     "text": [
      "\r",
      "Running 200 simulations.:  42%|██████▋         | 83/200 [00:22<00:38,  3.02it/s]"
     ]
    },
    {
     "name": "stdout",
     "output_type": "stream",
     "text": [
      "8.346367 0.6853496\n"
     ]
    },
    {
     "name": "stderr",
     "output_type": "stream",
     "text": [
      "\r",
      "Running 200 simulations.:  42%|██████▋         | 84/200 [00:22<00:36,  3.14it/s]"
     ]
    },
    {
     "name": "stdout",
     "output_type": "stream",
     "text": [
      "9.33036 0.44893944\n"
     ]
    },
    {
     "name": "stderr",
     "output_type": "stream",
     "text": [
      "\r",
      "Running 200 simulations.:  42%|██████▊         | 85/200 [00:23<00:36,  3.18it/s]"
     ]
    },
    {
     "name": "stdout",
     "output_type": "stream",
     "text": [
      "6.773157 1.3139498\n"
     ]
    },
    {
     "name": "stderr",
     "output_type": "stream",
     "text": [
      "\r",
      "Running 200 simulations.:  43%|██████▉         | 86/200 [00:23<00:38,  2.97it/s]"
     ]
    },
    {
     "name": "stdout",
     "output_type": "stream",
     "text": [
      "8.212467 0.44626528\n"
     ]
    },
    {
     "name": "stderr",
     "output_type": "stream",
     "text": [
      "\r",
      "Running 200 simulations.:  44%|██████▉         | 87/200 [00:23<00:35,  3.19it/s]"
     ]
    },
    {
     "name": "stdout",
     "output_type": "stream",
     "text": [
      "5.937225 1.1455704\n"
     ]
    },
    {
     "name": "stderr",
     "output_type": "stream",
     "text": [
      "\r",
      "Running 200 simulations.:  44%|███████         | 88/200 [00:23<00:32,  3.41it/s]"
     ]
    },
    {
     "name": "stdout",
     "output_type": "stream",
     "text": [
      "7.076005 1.8887662\n"
     ]
    },
    {
     "name": "stderr",
     "output_type": "stream",
     "text": [
      "\r",
      "Running 200 simulations.:  44%|███████         | 89/200 [00:24<00:31,  3.54it/s]"
     ]
    },
    {
     "name": "stdout",
     "output_type": "stream",
     "text": [
      "8.136763 1.9318075\n"
     ]
    },
    {
     "name": "stderr",
     "output_type": "stream",
     "text": [
      "\r",
      "Running 200 simulations.:  45%|███████▏        | 90/200 [00:24<00:31,  3.53it/s]"
     ]
    },
    {
     "name": "stdout",
     "output_type": "stream",
     "text": [
      "8.97451 0.4882157\n"
     ]
    },
    {
     "name": "stderr",
     "output_type": "stream",
     "text": [
      "\r",
      "Running 200 simulations.:  46%|███████▎        | 91/200 [00:24<00:30,  3.53it/s]"
     ]
    },
    {
     "name": "stdout",
     "output_type": "stream",
     "text": [
      "9.372728 0.89412606\n"
     ]
    },
    {
     "name": "stderr",
     "output_type": "stream",
     "text": [
      "\r",
      "Running 200 simulations.:  46%|███████▎        | 92/200 [00:25<00:29,  3.65it/s]"
     ]
    },
    {
     "name": "stdout",
     "output_type": "stream",
     "text": [
      "8.918663 1.4636621\n"
     ]
    },
    {
     "name": "stderr",
     "output_type": "stream",
     "text": [
      "\r",
      "Running 200 simulations.:  46%|███████▍        | 93/200 [00:25<00:28,  3.70it/s]"
     ]
    },
    {
     "name": "stdout",
     "output_type": "stream",
     "text": [
      "4.838604 1.6509842\n"
     ]
    },
    {
     "name": "stderr",
     "output_type": "stream",
     "text": [
      "\r",
      "Running 200 simulations.:  47%|███████▌        | 94/200 [00:25<00:29,  3.61it/s]"
     ]
    },
    {
     "name": "stdout",
     "output_type": "stream",
     "text": [
      "4.7679386 0.8096792\n"
     ]
    },
    {
     "name": "stderr",
     "output_type": "stream",
     "text": [
      "\r",
      "Running 200 simulations.:  48%|███████▌        | 95/200 [00:25<00:29,  3.57it/s]"
     ]
    },
    {
     "name": "stdout",
     "output_type": "stream",
     "text": [
      "9.0163 0.70104915\n"
     ]
    },
    {
     "name": "stderr",
     "output_type": "stream",
     "text": [
      "\r",
      "Running 200 simulations.:  48%|███████▋        | 96/200 [00:26<00:28,  3.66it/s]"
     ]
    },
    {
     "name": "stdout",
     "output_type": "stream",
     "text": [
      "5.789753 0.55763185\n"
     ]
    },
    {
     "name": "stderr",
     "output_type": "stream",
     "text": [
      "\r",
      "Running 200 simulations.:  48%|███████▊        | 97/200 [00:26<00:28,  3.56it/s]"
     ]
    },
    {
     "name": "stdout",
     "output_type": "stream",
     "text": [
      "9.142246 0.21088952\n"
     ]
    },
    {
     "name": "stderr",
     "output_type": "stream",
     "text": [
      "\r",
      "Running 200 simulations.:  49%|███████▊        | 98/200 [00:26<00:28,  3.62it/s]"
     ]
    },
    {
     "name": "stdout",
     "output_type": "stream",
     "text": [
      "6.813855 0.25110927\n"
     ]
    },
    {
     "name": "stderr",
     "output_type": "stream",
     "text": [
      "\r",
      "Running 200 simulations.:  50%|███████▉        | 99/200 [00:26<00:27,  3.67it/s]"
     ]
    },
    {
     "name": "stdout",
     "output_type": "stream",
     "text": [
      "7.6242023 1.5275413\n"
     ]
    },
    {
     "name": "stderr",
     "output_type": "stream",
     "text": [
      "\r",
      "Running 200 simulations.:  50%|███████▌       | 100/200 [00:27<00:26,  3.75it/s]"
     ]
    },
    {
     "name": "stdout",
     "output_type": "stream",
     "text": [
      "8.184811 1.1966279\n"
     ]
    },
    {
     "name": "stderr",
     "output_type": "stream",
     "text": [
      "\r",
      "Running 200 simulations.:  50%|███████▌       | 101/200 [00:27<00:25,  3.81it/s]"
     ]
    },
    {
     "name": "stdout",
     "output_type": "stream",
     "text": [
      "6.716422 0.5738374\n"
     ]
    },
    {
     "name": "stderr",
     "output_type": "stream",
     "text": [
      "\r",
      "Running 200 simulations.:  51%|███████▋       | 102/200 [00:27<00:25,  3.90it/s]"
     ]
    },
    {
     "name": "stdout",
     "output_type": "stream",
     "text": [
      "9.577228 1.1076959\n"
     ]
    },
    {
     "name": "stderr",
     "output_type": "stream",
     "text": [
      "\r",
      "Running 200 simulations.:  52%|███████▋       | 103/200 [00:27<00:24,  3.96it/s]"
     ]
    },
    {
     "name": "stdout",
     "output_type": "stream",
     "text": [
      "8.998763 1.3868495\n"
     ]
    },
    {
     "name": "stderr",
     "output_type": "stream",
     "text": [
      "\r",
      "Running 200 simulations.:  52%|███████▊       | 104/200 [00:28<00:25,  3.82it/s]"
     ]
    },
    {
     "name": "stdout",
     "output_type": "stream",
     "text": [
      "6.535031 1.9946423\n"
     ]
    },
    {
     "name": "stderr",
     "output_type": "stream",
     "text": [
      "\r",
      "Running 200 simulations.:  52%|███████▉       | 105/200 [00:28<00:24,  3.84it/s]"
     ]
    },
    {
     "name": "stdout",
     "output_type": "stream",
     "text": [
      "5.5879936 1.6746278\n"
     ]
    },
    {
     "name": "stderr",
     "output_type": "stream",
     "text": [
      "\r",
      "Running 200 simulations.:  53%|███████▉       | 106/200 [00:28<00:24,  3.91it/s]"
     ]
    },
    {
     "name": "stdout",
     "output_type": "stream",
     "text": [
      "7.3043056 1.4383476\n"
     ]
    },
    {
     "name": "stderr",
     "output_type": "stream",
     "text": [
      "\r",
      "Running 200 simulations.:  54%|████████       | 107/200 [00:28<00:23,  3.94it/s]"
     ]
    },
    {
     "name": "stdout",
     "output_type": "stream",
     "text": [
      "4.7827816 1.2815727\n"
     ]
    },
    {
     "name": "stderr",
     "output_type": "stream",
     "text": [
      "\r",
      "Running 200 simulations.:  54%|████████       | 108/200 [00:29<00:23,  3.96it/s]"
     ]
    },
    {
     "name": "stdout",
     "output_type": "stream",
     "text": [
      "6.676592 0.3891042\n"
     ]
    },
    {
     "name": "stderr",
     "output_type": "stream",
     "text": [
      "\r",
      "Running 200 simulations.:  55%|████████▏      | 109/200 [00:29<00:23,  3.94it/s]"
     ]
    },
    {
     "name": "stdout",
     "output_type": "stream",
     "text": [
      "7.941169 0.796824\n"
     ]
    },
    {
     "name": "stderr",
     "output_type": "stream",
     "text": [
      "\r",
      "Running 200 simulations.:  55%|████████▎      | 110/200 [00:29<00:22,  3.97it/s]"
     ]
    },
    {
     "name": "stdout",
     "output_type": "stream",
     "text": [
      "8.429882 0.5870304\n"
     ]
    },
    {
     "name": "stderr",
     "output_type": "stream",
     "text": [
      "\r",
      "Running 200 simulations.:  56%|████████▎      | 111/200 [00:29<00:22,  4.00it/s]"
     ]
    },
    {
     "name": "stdout",
     "output_type": "stream",
     "text": [
      "7.606944 1.2790266\n"
     ]
    },
    {
     "name": "stderr",
     "output_type": "stream",
     "text": [
      "\r",
      "Running 200 simulations.:  56%|████████▍      | 112/200 [00:30<00:21,  4.00it/s]"
     ]
    },
    {
     "name": "stdout",
     "output_type": "stream",
     "text": [
      "5.386209 1.5012375\n"
     ]
    },
    {
     "name": "stderr",
     "output_type": "stream",
     "text": [
      "\r",
      "Running 200 simulations.:  56%|████████▍      | 113/200 [00:30<00:22,  3.93it/s]"
     ]
    },
    {
     "name": "stdout",
     "output_type": "stream",
     "text": [
      "7.3732653 1.077586\n"
     ]
    },
    {
     "name": "stderr",
     "output_type": "stream",
     "text": [
      "\r",
      "Running 200 simulations.:  57%|████████▌      | 114/200 [00:30<00:22,  3.84it/s]"
     ]
    },
    {
     "name": "stdout",
     "output_type": "stream",
     "text": [
      "8.669512 0.38580492\n"
     ]
    },
    {
     "name": "stderr",
     "output_type": "stream",
     "text": [
      "\r",
      "Running 200 simulations.:  57%|████████▋      | 115/200 [00:31<00:23,  3.70it/s]"
     ]
    },
    {
     "name": "stdout",
     "output_type": "stream",
     "text": [
      "6.786409 1.961784\n"
     ]
    },
    {
     "name": "stderr",
     "output_type": "stream",
     "text": [
      "\r",
      "Running 200 simulations.:  58%|████████▋      | 116/200 [00:31<00:23,  3.65it/s]"
     ]
    },
    {
     "name": "stdout",
     "output_type": "stream",
     "text": [
      "6.1182394 1.1860671\n"
     ]
    },
    {
     "name": "stderr",
     "output_type": "stream",
     "text": [
      "\r",
      "Running 200 simulations.:  58%|████████▊      | 117/200 [00:31<00:22,  3.69it/s]"
     ]
    },
    {
     "name": "stdout",
     "output_type": "stream",
     "text": [
      "4.3298597 1.7180632\n"
     ]
    },
    {
     "name": "stderr",
     "output_type": "stream",
     "text": [
      "\r",
      "Running 200 simulations.:  59%|████████▊      | 118/200 [00:31<00:23,  3.53it/s]"
     ]
    },
    {
     "name": "stdout",
     "output_type": "stream",
     "text": [
      "5.259517 1.4341211\n"
     ]
    },
    {
     "name": "stderr",
     "output_type": "stream",
     "text": [
      "\r",
      "Running 200 simulations.:  60%|████████▉      | 119/200 [00:32<00:23,  3.50it/s]"
     ]
    },
    {
     "name": "stdout",
     "output_type": "stream",
     "text": [
      "8.422902 0.7237436\n"
     ]
    },
    {
     "name": "stderr",
     "output_type": "stream",
     "text": [
      "\r",
      "Running 200 simulations.:  60%|█████████      | 120/200 [00:32<00:22,  3.59it/s]"
     ]
    },
    {
     "name": "stdout",
     "output_type": "stream",
     "text": [
      "4.7955866 1.3579954\n"
     ]
    },
    {
     "name": "stderr",
     "output_type": "stream",
     "text": [
      "\r",
      "Running 200 simulations.:  60%|█████████      | 121/200 [00:32<00:21,  3.67it/s]"
     ]
    },
    {
     "name": "stdout",
     "output_type": "stream",
     "text": [
      "6.8985953 0.9652908\n"
     ]
    },
    {
     "name": "stderr",
     "output_type": "stream",
     "text": [
      "\r",
      "Running 200 simulations.:  61%|█████████▏     | 122/200 [00:32<00:20,  3.75it/s]"
     ]
    },
    {
     "name": "stdout",
     "output_type": "stream",
     "text": [
      "8.6215725 1.165686\n"
     ]
    },
    {
     "name": "stderr",
     "output_type": "stream",
     "text": [
      "\r",
      "Running 200 simulations.:  62%|█████████▏     | 123/200 [00:33<00:20,  3.83it/s]"
     ]
    },
    {
     "name": "stdout",
     "output_type": "stream",
     "text": [
      "5.588253 1.5034978\n"
     ]
    },
    {
     "name": "stderr",
     "output_type": "stream",
     "text": [
      "\r",
      "Running 200 simulations.:  62%|█████████▎     | 124/200 [00:33<00:19,  3.85it/s]"
     ]
    },
    {
     "name": "stdout",
     "output_type": "stream",
     "text": [
      "4.0926914 1.0214545\n"
     ]
    },
    {
     "name": "stderr",
     "output_type": "stream",
     "text": [
      "\r",
      "Running 200 simulations.:  62%|█████████▍     | 125/200 [00:33<00:18,  3.98it/s]"
     ]
    },
    {
     "name": "stdout",
     "output_type": "stream",
     "text": [
      "5.1631703 0.43787298\n"
     ]
    },
    {
     "name": "stderr",
     "output_type": "stream",
     "text": [
      "\r",
      "Running 200 simulations.:  63%|█████████▍     | 126/200 [00:33<00:18,  4.07it/s]"
     ]
    },
    {
     "name": "stdout",
     "output_type": "stream",
     "text": [
      "7.5641713 1.4713633\n"
     ]
    },
    {
     "name": "stderr",
     "output_type": "stream",
     "text": [
      "\r",
      "Running 200 simulations.:  64%|█████████▌     | 127/200 [00:34<00:19,  3.82it/s]"
     ]
    },
    {
     "name": "stdout",
     "output_type": "stream",
     "text": [
      "7.530661 1.3965718\n"
     ]
    },
    {
     "name": "stderr",
     "output_type": "stream",
     "text": [
      "\r",
      "Running 200 simulations.:  64%|█████████▌     | 128/200 [00:34<00:18,  3.82it/s]"
     ]
    },
    {
     "name": "stdout",
     "output_type": "stream",
     "text": [
      "4.634139 1.7514691\n"
     ]
    },
    {
     "name": "stderr",
     "output_type": "stream",
     "text": [
      "\r",
      "Running 200 simulations.:  64%|█████████▋     | 129/200 [00:34<00:18,  3.88it/s]"
     ]
    },
    {
     "name": "stdout",
     "output_type": "stream",
     "text": [
      "8.508565 0.12967946\n"
     ]
    },
    {
     "name": "stderr",
     "output_type": "stream",
     "text": [
      "\r",
      "Running 200 simulations.:  65%|█████████▊     | 130/200 [00:35<00:17,  3.93it/s]"
     ]
    },
    {
     "name": "stdout",
     "output_type": "stream",
     "text": [
      "5.6613426 1.9513483\n"
     ]
    },
    {
     "name": "stderr",
     "output_type": "stream",
     "text": [
      "\r",
      "Running 200 simulations.:  66%|█████████▊     | 131/200 [00:35<00:17,  3.93it/s]"
     ]
    },
    {
     "name": "stdout",
     "output_type": "stream",
     "text": [
      "6.3982844 1.651018\n"
     ]
    },
    {
     "name": "stderr",
     "output_type": "stream",
     "text": [
      "\r",
      "Running 200 simulations.:  66%|█████████▉     | 132/200 [00:35<00:17,  3.84it/s]"
     ]
    },
    {
     "name": "stdout",
     "output_type": "stream",
     "text": [
      "4.7108746 0.5284405\n"
     ]
    },
    {
     "name": "stderr",
     "output_type": "stream",
     "text": [
      "\r",
      "Running 200 simulations.:  66%|█████████▉     | 133/200 [00:35<00:17,  3.87it/s]"
     ]
    },
    {
     "name": "stdout",
     "output_type": "stream",
     "text": [
      "5.5559783 1.8962114\n"
     ]
    },
    {
     "name": "stderr",
     "output_type": "stream",
     "text": [
      "\r",
      "Running 200 simulations.:  67%|██████████     | 134/200 [00:36<00:16,  3.91it/s]"
     ]
    },
    {
     "name": "stdout",
     "output_type": "stream",
     "text": [
      "6.9555187 1.2456529\n"
     ]
    },
    {
     "name": "stderr",
     "output_type": "stream",
     "text": [
      "\r",
      "Running 200 simulations.:  68%|██████████▏    | 135/200 [00:36<00:16,  3.92it/s]"
     ]
    },
    {
     "name": "stdout",
     "output_type": "stream",
     "text": [
      "5.2742004 1.052704\n"
     ]
    },
    {
     "name": "stderr",
     "output_type": "stream",
     "text": [
      "\r",
      "Running 200 simulations.:  68%|██████████▏    | 136/200 [00:36<00:16,  3.94it/s]"
     ]
    },
    {
     "name": "stdout",
     "output_type": "stream",
     "text": [
      "5.450608 1.9034688\n"
     ]
    },
    {
     "name": "stderr",
     "output_type": "stream",
     "text": [
      "\r",
      "Running 200 simulations.:  68%|██████████▎    | 137/200 [00:36<00:15,  4.00it/s]"
     ]
    },
    {
     "name": "stdout",
     "output_type": "stream",
     "text": [
      "7.5247808 1.8317649\n"
     ]
    },
    {
     "name": "stderr",
     "output_type": "stream",
     "text": [
      "\r",
      "Running 200 simulations.:  69%|██████████▎    | 138/200 [00:37<00:15,  3.99it/s]"
     ]
    },
    {
     "name": "stdout",
     "output_type": "stream",
     "text": [
      "6.151285 1.538823\n"
     ]
    },
    {
     "name": "stderr",
     "output_type": "stream",
     "text": [
      "\r",
      "Running 200 simulations.:  70%|██████████▍    | 139/200 [00:37<00:15,  3.94it/s]"
     ]
    },
    {
     "name": "stdout",
     "output_type": "stream",
     "text": [
      "6.667723 1.4214224\n"
     ]
    },
    {
     "name": "stderr",
     "output_type": "stream",
     "text": [
      "\r",
      "Running 200 simulations.:  70%|██████████▌    | 140/200 [00:37<00:15,  3.79it/s]"
     ]
    },
    {
     "name": "stdout",
     "output_type": "stream",
     "text": [
      "9.359821 1.8333977\n"
     ]
    },
    {
     "name": "stderr",
     "output_type": "stream",
     "text": [
      "\r",
      "Running 200 simulations.:  70%|██████████▌    | 141/200 [00:37<00:16,  3.62it/s]"
     ]
    },
    {
     "name": "stdout",
     "output_type": "stream",
     "text": [
      "9.93597 1.6353093\n"
     ]
    },
    {
     "name": "stderr",
     "output_type": "stream",
     "text": [
      "\r",
      "Running 200 simulations.:  71%|██████████▋    | 142/200 [00:38<00:15,  3.74it/s]"
     ]
    },
    {
     "name": "stdout",
     "output_type": "stream",
     "text": [
      "7.5981035 1.3247962\n"
     ]
    },
    {
     "name": "stderr",
     "output_type": "stream",
     "text": [
      "\r",
      "Running 200 simulations.:  72%|██████████▋    | 143/200 [00:38<00:15,  3.78it/s]"
     ]
    },
    {
     "name": "stdout",
     "output_type": "stream",
     "text": [
      "4.0265737 0.47408068\n"
     ]
    },
    {
     "name": "stderr",
     "output_type": "stream",
     "text": [
      "\r",
      "Running 200 simulations.:  72%|██████████▊    | 144/200 [00:38<00:14,  3.88it/s]"
     ]
    },
    {
     "name": "stdout",
     "output_type": "stream",
     "text": [
      "9.751568 0.6090434\n"
     ]
    },
    {
     "name": "stderr",
     "output_type": "stream",
     "text": [
      "\r",
      "Running 200 simulations.:  72%|██████████▉    | 145/200 [00:38<00:13,  4.05it/s]"
     ]
    },
    {
     "name": "stdout",
     "output_type": "stream",
     "text": [
      "6.593735 1.6589767\n"
     ]
    },
    {
     "name": "stderr",
     "output_type": "stream",
     "text": [
      "\r",
      "Running 200 simulations.:  73%|██████████▉    | 146/200 [00:39<00:13,  4.05it/s]"
     ]
    },
    {
     "name": "stdout",
     "output_type": "stream",
     "text": [
      "7.0935364 1.5728089\n"
     ]
    },
    {
     "name": "stderr",
     "output_type": "stream",
     "text": [
      "\r",
      "Running 200 simulations.:  74%|███████████    | 147/200 [00:39<00:13,  4.01it/s]"
     ]
    },
    {
     "name": "stdout",
     "output_type": "stream",
     "text": [
      "8.515206 0.5778185\n"
     ]
    },
    {
     "name": "stderr",
     "output_type": "stream",
     "text": [
      "\r",
      "Running 200 simulations.:  74%|███████████    | 148/200 [00:39<00:13,  3.95it/s]"
     ]
    },
    {
     "name": "stdout",
     "output_type": "stream",
     "text": [
      "8.9509 0.76869595\n"
     ]
    },
    {
     "name": "stderr",
     "output_type": "stream",
     "text": [
      "\r",
      "Running 200 simulations.:  74%|███████████▏   | 149/200 [00:39<00:13,  3.90it/s]"
     ]
    },
    {
     "name": "stdout",
     "output_type": "stream",
     "text": [
      "4.891412 1.6521046\n"
     ]
    },
    {
     "name": "stderr",
     "output_type": "stream",
     "text": [
      "\r",
      "Running 200 simulations.:  75%|███████████▎   | 150/200 [00:40<00:13,  3.65it/s]"
     ]
    },
    {
     "name": "stdout",
     "output_type": "stream",
     "text": [
      "9.530768 1.2079043\n"
     ]
    },
    {
     "name": "stderr",
     "output_type": "stream",
     "text": [
      "\r",
      "Running 200 simulations.:  76%|███████████▎   | 151/200 [00:40<00:13,  3.59it/s]"
     ]
    },
    {
     "name": "stdout",
     "output_type": "stream",
     "text": [
      "9.2993965 1.9590898\n"
     ]
    },
    {
     "name": "stderr",
     "output_type": "stream",
     "text": [
      "\r",
      "Running 200 simulations.:  76%|███████████▍   | 152/200 [00:40<00:13,  3.61it/s]"
     ]
    },
    {
     "name": "stdout",
     "output_type": "stream",
     "text": [
      "9.776888 0.34688708\n"
     ]
    },
    {
     "name": "stderr",
     "output_type": "stream",
     "text": [
      "\r",
      "Running 200 simulations.:  76%|███████████▍   | 153/200 [00:41<00:12,  3.73it/s]"
     ]
    },
    {
     "name": "stdout",
     "output_type": "stream",
     "text": [
      "9.415588 1.899855\n"
     ]
    },
    {
     "name": "stderr",
     "output_type": "stream",
     "text": [
      "\r",
      "Running 200 simulations.:  77%|███████████▌   | 154/200 [00:41<00:12,  3.76it/s]"
     ]
    },
    {
     "name": "stdout",
     "output_type": "stream",
     "text": [
      "9.0 1.9484777\n"
     ]
    },
    {
     "name": "stderr",
     "output_type": "stream",
     "text": [
      "\r",
      "Running 200 simulations.:  78%|███████████▋   | 155/200 [00:41<00:11,  3.75it/s]"
     ]
    },
    {
     "name": "stdout",
     "output_type": "stream",
     "text": [
      "9.963319 0.90427583\n"
     ]
    },
    {
     "name": "stderr",
     "output_type": "stream",
     "text": [
      "\r",
      "Running 200 simulations.:  78%|███████████▋   | 156/200 [00:41<00:11,  3.71it/s]"
     ]
    },
    {
     "name": "stdout",
     "output_type": "stream",
     "text": [
      "5.5672398 0.6810955\n"
     ]
    },
    {
     "name": "stderr",
     "output_type": "stream",
     "text": [
      "\r",
      "Running 200 simulations.:  78%|███████████▊   | 157/200 [00:42<00:11,  3.62it/s]"
     ]
    },
    {
     "name": "stdout",
     "output_type": "stream",
     "text": [
      "9.868714 0.606484\n"
     ]
    },
    {
     "name": "stderr",
     "output_type": "stream",
     "text": [
      "\r",
      "Running 200 simulations.:  79%|███████████▊   | 158/200 [00:42<00:11,  3.60it/s]"
     ]
    },
    {
     "name": "stdout",
     "output_type": "stream",
     "text": [
      "5.605487 0.39112172\n"
     ]
    },
    {
     "name": "stderr",
     "output_type": "stream",
     "text": [
      "\r",
      "Running 200 simulations.:  80%|███████████▉   | 159/200 [00:42<00:11,  3.62it/s]"
     ]
    },
    {
     "name": "stdout",
     "output_type": "stream",
     "text": [
      "4.424341 1.8400832\n"
     ]
    },
    {
     "name": "stderr",
     "output_type": "stream",
     "text": [
      "\r",
      "Running 200 simulations.:  80%|████████████   | 160/200 [00:42<00:11,  3.56it/s]"
     ]
    },
    {
     "name": "stdout",
     "output_type": "stream",
     "text": [
      "8.539584 0.40343356\n"
     ]
    },
    {
     "name": "stderr",
     "output_type": "stream",
     "text": [
      "\r",
      "Running 200 simulations.:  80%|████████████   | 161/200 [00:43<00:15,  2.53it/s]"
     ]
    },
    {
     "name": "stdout",
     "output_type": "stream",
     "text": [
      "8.50837 0.6137489\n"
     ]
    },
    {
     "name": "stderr",
     "output_type": "stream",
     "text": [
      "\r",
      "Running 200 simulations.:  81%|████████████▏  | 162/200 [00:43<00:13,  2.84it/s]"
     ]
    },
    {
     "name": "stdout",
     "output_type": "stream",
     "text": [
      "6.883234 1.9231483\n"
     ]
    },
    {
     "name": "stderr",
     "output_type": "stream",
     "text": [
      "\r",
      "Running 200 simulations.:  82%|████████████▏  | 163/200 [00:44<00:12,  3.04it/s]"
     ]
    },
    {
     "name": "stdout",
     "output_type": "stream",
     "text": [
      "4.5569506 0.39120847\n"
     ]
    },
    {
     "name": "stderr",
     "output_type": "stream",
     "text": [
      "\r",
      "Running 200 simulations.:  82%|████████████▎  | 164/200 [00:44<00:11,  3.26it/s]"
     ]
    },
    {
     "name": "stdout",
     "output_type": "stream",
     "text": [
      "9.453174 1.5766141\n"
     ]
    },
    {
     "name": "stderr",
     "output_type": "stream",
     "text": [
      "\r",
      "Running 200 simulations.:  82%|████████████▍  | 165/200 [00:44<00:10,  3.38it/s]"
     ]
    },
    {
     "name": "stdout",
     "output_type": "stream",
     "text": [
      "7.539899 1.094546\n"
     ]
    },
    {
     "name": "stderr",
     "output_type": "stream",
     "text": [
      "\r",
      "Running 200 simulations.:  83%|████████████▍  | 166/200 [00:44<00:09,  3.51it/s]"
     ]
    },
    {
     "name": "stdout",
     "output_type": "stream",
     "text": [
      "7.598037 0.35943028\n"
     ]
    },
    {
     "name": "stderr",
     "output_type": "stream",
     "text": [
      "\r",
      "Running 200 simulations.:  84%|████████████▌  | 167/200 [00:45<00:10,  3.15it/s]"
     ]
    },
    {
     "name": "stdout",
     "output_type": "stream",
     "text": [
      "8.851449 1.7922355\n"
     ]
    },
    {
     "name": "stderr",
     "output_type": "stream",
     "text": [
      "\r",
      "Running 200 simulations.:  84%|████████████▌  | 168/200 [00:45<00:10,  3.19it/s]"
     ]
    },
    {
     "name": "stdout",
     "output_type": "stream",
     "text": [
      "6.381084 0.4971241\n"
     ]
    },
    {
     "name": "stderr",
     "output_type": "stream",
     "text": [
      "\r",
      "Running 200 simulations.:  84%|████████████▋  | 169/200 [00:45<00:09,  3.38it/s]"
     ]
    },
    {
     "name": "stdout",
     "output_type": "stream",
     "text": [
      "4.9617987 1.2125381\n"
     ]
    },
    {
     "name": "stderr",
     "output_type": "stream",
     "text": [
      "\r",
      "Running 200 simulations.:  85%|████████████▊  | 170/200 [00:46<00:08,  3.53it/s]"
     ]
    },
    {
     "name": "stdout",
     "output_type": "stream",
     "text": [
      "4.097983 0.45937848\n"
     ]
    },
    {
     "name": "stderr",
     "output_type": "stream",
     "text": [
      "\r",
      "Running 200 simulations.:  86%|████████████▊  | 171/200 [00:46<00:08,  3.61it/s]"
     ]
    },
    {
     "name": "stdout",
     "output_type": "stream",
     "text": [
      "4.4498305 0.74784255\n"
     ]
    },
    {
     "name": "stderr",
     "output_type": "stream",
     "text": [
      "\r",
      "Running 200 simulations.:  86%|████████████▉  | 172/200 [00:46<00:07,  3.84it/s]"
     ]
    },
    {
     "name": "stdout",
     "output_type": "stream",
     "text": [
      "4.966387 1.3298179\n"
     ]
    },
    {
     "name": "stderr",
     "output_type": "stream",
     "text": [
      "\r",
      "Running 200 simulations.:  86%|████████████▉  | 173/200 [00:46<00:06,  3.94it/s]"
     ]
    },
    {
     "name": "stdout",
     "output_type": "stream",
     "text": [
      "9.065506 1.6890144\n"
     ]
    },
    {
     "name": "stderr",
     "output_type": "stream",
     "text": [
      "\r",
      "Running 200 simulations.:  87%|█████████████  | 174/200 [00:47<00:06,  3.94it/s]"
     ]
    },
    {
     "name": "stdout",
     "output_type": "stream",
     "text": [
      "4.3457127 1.1272993\n"
     ]
    },
    {
     "name": "stderr",
     "output_type": "stream",
     "text": [
      "\r",
      "Running 200 simulations.:  88%|█████████████▏ | 175/200 [00:47<00:06,  3.96it/s]"
     ]
    },
    {
     "name": "stdout",
     "output_type": "stream",
     "text": [
      "9.625107 0.6141794\n"
     ]
    },
    {
     "name": "stderr",
     "output_type": "stream",
     "text": [
      "\r",
      "Running 200 simulations.:  88%|█████████████▏ | 176/200 [00:47<00:06,  3.73it/s]"
     ]
    },
    {
     "name": "stdout",
     "output_type": "stream",
     "text": [
      "9.530884 1.0082316\n"
     ]
    },
    {
     "name": "stderr",
     "output_type": "stream",
     "text": [
      "\r",
      "Running 200 simulations.:  88%|█████████████▎ | 177/200 [00:47<00:06,  3.72it/s]"
     ]
    },
    {
     "name": "stdout",
     "output_type": "stream",
     "text": [
      "4.6502004 0.5862632\n"
     ]
    },
    {
     "name": "stderr",
     "output_type": "stream",
     "text": [
      "\r",
      "Running 200 simulations.:  89%|█████████████▎ | 178/200 [00:48<00:06,  3.50it/s]"
     ]
    },
    {
     "name": "stdout",
     "output_type": "stream",
     "text": [
      "5.759811 0.5061545\n"
     ]
    },
    {
     "name": "stderr",
     "output_type": "stream",
     "text": [
      "\r",
      "Running 200 simulations.:  90%|█████████████▍ | 179/200 [00:48<00:05,  3.63it/s]"
     ]
    },
    {
     "name": "stdout",
     "output_type": "stream",
     "text": [
      "8.602514 0.857151\n"
     ]
    },
    {
     "name": "stderr",
     "output_type": "stream",
     "text": [
      "\r",
      "Running 200 simulations.:  90%|█████████████▌ | 180/200 [00:48<00:05,  3.76it/s]"
     ]
    },
    {
     "name": "stdout",
     "output_type": "stream",
     "text": [
      "9.055853 0.8465947\n"
     ]
    },
    {
     "name": "stderr",
     "output_type": "stream",
     "text": [
      "\r",
      "Running 200 simulations.:  90%|█████████████▌ | 181/200 [00:49<00:04,  3.85it/s]"
     ]
    },
    {
     "name": "stdout",
     "output_type": "stream",
     "text": [
      "9.553698 0.75452954\n"
     ]
    },
    {
     "name": "stderr",
     "output_type": "stream",
     "text": [
      "\r",
      "Running 200 simulations.:  91%|█████████████▋ | 182/200 [00:49<00:04,  3.90it/s]"
     ]
    },
    {
     "name": "stdout",
     "output_type": "stream",
     "text": [
      "9.308294 0.14381042\n"
     ]
    },
    {
     "name": "stderr",
     "output_type": "stream",
     "text": [
      "\r",
      "Running 200 simulations.:  92%|█████████████▋ | 183/200 [00:49<00:04,  3.92it/s]"
     ]
    },
    {
     "name": "stdout",
     "output_type": "stream",
     "text": [
      "6.7430353 1.9056448\n"
     ]
    },
    {
     "name": "stderr",
     "output_type": "stream",
     "text": [
      "\r",
      "Running 200 simulations.:  92%|█████████████▊ | 184/200 [00:49<00:04,  3.94it/s]"
     ]
    },
    {
     "name": "stdout",
     "output_type": "stream",
     "text": [
      "9.439388 1.9775394\n"
     ]
    },
    {
     "name": "stderr",
     "output_type": "stream",
     "text": [
      "\r",
      "Running 200 simulations.:  92%|█████████████▉ | 185/200 [00:50<00:03,  3.98it/s]"
     ]
    },
    {
     "name": "stdout",
     "output_type": "stream",
     "text": [
      "9.348557 1.5502596\n"
     ]
    },
    {
     "name": "stderr",
     "output_type": "stream",
     "text": [
      "\r",
      "Running 200 simulations.:  93%|█████████████▉ | 186/200 [00:50<00:03,  3.95it/s]"
     ]
    },
    {
     "name": "stdout",
     "output_type": "stream",
     "text": [
      "6.638366 1.927248\n"
     ]
    },
    {
     "name": "stderr",
     "output_type": "stream",
     "text": [
      "\r",
      "Running 200 simulations.:  94%|██████████████ | 187/200 [00:50<00:03,  3.92it/s]"
     ]
    },
    {
     "name": "stdout",
     "output_type": "stream",
     "text": [
      "6.013542 1.3880984\n"
     ]
    },
    {
     "name": "stderr",
     "output_type": "stream",
     "text": [
      "\r",
      "Running 200 simulations.:  94%|██████████████ | 188/200 [00:50<00:03,  3.95it/s]"
     ]
    },
    {
     "name": "stdout",
     "output_type": "stream",
     "text": [
      "6.303555 1.3312597\n"
     ]
    },
    {
     "name": "stderr",
     "output_type": "stream",
     "text": [
      "\r",
      "Running 200 simulations.:  94%|██████████████▏| 189/200 [00:51<00:02,  3.91it/s]"
     ]
    },
    {
     "name": "stdout",
     "output_type": "stream",
     "text": [
      "8.86602 0.5686678\n"
     ]
    },
    {
     "name": "stderr",
     "output_type": "stream",
     "text": [
      "\r",
      "Running 200 simulations.:  95%|██████████████▎| 190/200 [00:51<00:02,  3.93it/s]"
     ]
    },
    {
     "name": "stdout",
     "output_type": "stream",
     "text": [
      "6.2247767 0.14961115\n"
     ]
    },
    {
     "name": "stderr",
     "output_type": "stream",
     "text": [
      "\r",
      "Running 200 simulations.:  96%|██████████████▎| 191/200 [00:51<00:02,  3.93it/s]"
     ]
    },
    {
     "name": "stdout",
     "output_type": "stream",
     "text": [
      "5.222682 1.9024669\n"
     ]
    },
    {
     "name": "stderr",
     "output_type": "stream",
     "text": [
      "\r",
      "Running 200 simulations.:  96%|██████████████▍| 192/200 [00:51<00:02,  3.97it/s]"
     ]
    },
    {
     "name": "stdout",
     "output_type": "stream",
     "text": [
      "5.4569235 1.4182688\n"
     ]
    },
    {
     "name": "stderr",
     "output_type": "stream",
     "text": [
      "\r",
      "Running 200 simulations.:  96%|██████████████▍| 193/200 [00:52<00:01,  4.00it/s]"
     ]
    },
    {
     "name": "stdout",
     "output_type": "stream",
     "text": [
      "4.426002 0.59077185\n"
     ]
    },
    {
     "name": "stderr",
     "output_type": "stream",
     "text": [
      "\r",
      "Running 200 simulations.:  97%|██████████████▌| 194/200 [00:52<00:01,  3.94it/s]"
     ]
    },
    {
     "name": "stdout",
     "output_type": "stream",
     "text": [
      "4.7439375 1.6825534\n"
     ]
    },
    {
     "name": "stderr",
     "output_type": "stream",
     "text": [
      "\r",
      "Running 200 simulations.:  98%|██████████████▋| 195/200 [00:52<00:01,  3.89it/s]"
     ]
    },
    {
     "name": "stdout",
     "output_type": "stream",
     "text": [
      "5.2299957 1.9244787\n"
     ]
    },
    {
     "name": "stderr",
     "output_type": "stream",
     "text": [
      "\r",
      "Running 200 simulations.:  98%|██████████████▋| 196/200 [00:52<00:01,  3.90it/s]"
     ]
    },
    {
     "name": "stdout",
     "output_type": "stream",
     "text": [
      "4.994739 0.6106144\n"
     ]
    },
    {
     "name": "stderr",
     "output_type": "stream",
     "text": [
      "\r",
      "Running 200 simulations.:  98%|██████████████▊| 197/200 [00:53<00:00,  3.86it/s]"
     ]
    },
    {
     "name": "stdout",
     "output_type": "stream",
     "text": [
      "4.632041 1.3752766\n"
     ]
    },
    {
     "name": "stderr",
     "output_type": "stream",
     "text": [
      "\r",
      "Running 200 simulations.:  99%|██████████████▊| 198/200 [00:53<00:00,  3.86it/s]"
     ]
    },
    {
     "name": "stdout",
     "output_type": "stream",
     "text": [
      "7.8207264 0.89980614\n"
     ]
    },
    {
     "name": "stderr",
     "output_type": "stream",
     "text": [
      "\r",
      "Running 200 simulations.: 100%|██████████████▉| 199/200 [00:53<00:00,  3.74it/s]"
     ]
    },
    {
     "name": "stdout",
     "output_type": "stream",
     "text": [
      "4.3784094 1.7736944\n"
     ]
    },
    {
     "name": "stderr",
     "output_type": "stream",
     "text": [
      "Running 200 simulations.: 100%|███████████████| 200/200 [00:53<00:00,  3.71it/s]\n"
     ]
    },
    {
     "name": "stdout",
     "output_type": "stream",
     "text": [
      " Neural network successfully converged after 53 epochs."
     ]
    }
   ],
   "source": [
    "num_dim = 2\n",
    "prior = utils.BoxUniform(low= torch.tensor([4, 0.1]), high= torch.tensor([10, 2]))\n",
    "bins=100\n",
    "\n",
    "def simulator(parameter_set, bins=bins, z =5.8):\n",
    "    small_h = 0.68\n",
    "    #print(\"parameter set\", parameter_set)\n",
    "    parameter_set = parameter_set.numpy()\n",
    "    a_off = parameter_set[0]\n",
    "    b_off = parameter_set[1]\n",
    "    \n",
    "    print(a_off, b_off)\n",
    "    params_fisher={'a_off': a_off, \n",
    "                   'b_off': b_off\n",
    "                  }\n",
    "    \n",
    "\n",
    "    \n",
    "    line_name='CII158'\n",
    "    model_name=\"Alma_scalling\"\n",
    "    sfr_model=\"Behroozi19\"\n",
    "    mmin=1e10\n",
    "    use_scatter=False\n",
    "    halocat_file_type=\"input_cat\"\n",
    "    ngrid=512\n",
    "    boxsize_x = 80 * small_h\n",
    "    boxsize_y = 80 * small_h\n",
    "    boxsize_z = 80 * small_h\n",
    "\n",
    "\n",
    "    hf = \"/Users/anirbanroy/Documents/LIM_data/Box80_new/halos_z5.80_512_80Mpc.npz\"\n",
    "      \n",
    "    Igcal= ll.make_quantity_rectangular_grid_new(hf, \n",
    "                                           z,\n",
    "                                           sfr_model=sfr_model,\n",
    "                                           model_name= model_name,\n",
    "                                           quantity='intensity', \n",
    "                                           line_name = line_name, \n",
    "                                           halo_cutoff_mass= mmin, \n",
    "                                           use_scatter=use_scatter,\n",
    "                                           halocat_type=halocat_file_type,\n",
    "                                           ngrid_x = ngrid, \n",
    "                                           ngrid_y = ngrid, \n",
    "                                           ngrid_z = ngrid,\n",
    "                                           boxsize_x=boxsize_x,\n",
    "                                           boxsize_y=boxsize_y,\n",
    "                                           boxsize_z=boxsize_z,\n",
    "                                           nu_obs = 280,\n",
    "                                           dnu_obs = 2.8,\n",
    "                                           theta_fwhm = 1,\n",
    "                                           z_evolution = False,\n",
    "                                           params_fisher= params_fisher)\n",
    "\n",
    "    \n",
    "    #Igcal[Igcal <= 0] = 1e-20 #[Igcal>=1]\n",
    "    delta_f = Igcal [Igcal>1]\n",
    "    delta_f = delta_f.flatten()\n",
    "    range_pdf = [1e-1, 1e1]\n",
    "    hist, bine = np.histogram(np.log10(delta_f), bins=bins, range = range_pdf, density = True)\n",
    "    \n",
    "    #hist, bine = np.histogram(np.log10(delta_f), bins=50, density = False)\n",
    "    \n",
    "    return torch.tensor(hist)\n",
    "    \n",
    "\n",
    "posterior = infer(simulator, prior, method=\"SNPE\", num_simulations=200)"
   ]
  },
  {
   "cell_type": "code",
   "execution_count": 58,
   "id": "54fbf6b6",
   "metadata": {},
   "outputs": [
    {
     "name": "stdout",
     "output_type": "stream",
     "text": [
      "6.5 0.59\n"
     ]
    }
   ],
   "source": [
    "observation = simulator(torch.tensor([6.5, 0.59]), z =5.8)"
   ]
  },
  {
   "cell_type": "code",
   "execution_count": 59,
   "id": "1ade0558",
   "metadata": {},
   "outputs": [
    {
     "name": "stderr",
     "output_type": "stream",
     "text": [
      "Drawing 100000 posterior samples: 102108it [00:01, 76538.14it/s]                \n"
     ]
    }
   ],
   "source": [
    "samples = posterior.sample((100000,), x=observation)"
   ]
  },
  {
   "cell_type": "code",
   "execution_count": 60,
   "id": "b079ce9a",
   "metadata": {},
   "outputs": [
    {
     "data": {
      "image/png": "[encoded data removed]",
      "text/plain": [
       "<Figure size 600x600 with 4 Axes>"
      ]
     },
     "metadata": {},
     "output_type": "display_data"
    }
   ],
   "source": [
    "log_probability = posterior.log_prob(samples, x=observation)\n",
    "_ = analysis.pairplot(samples, limits=[[4, 10], [0., 2.0]],\n",
    "                      labels=[r'$a_{off}$', r'$b_{\\rm off}$'], figsize=(6, 6))"
   ]
  },
  {
   "cell_type": "code",
   "execution_count": 61,
   "id": "fded858d",
   "metadata": {},
   "outputs": [
    {
     "data": {
      "image/png": "[encoded data removed]",
      "text/plain": [
       "<Figure size 800x800 with 4 Axes>"
      ]
     },
     "metadata": {},
     "output_type": "display_data"
    }
   ],
   "source": [
    "import numpy as np\n",
    "from chainconsumer import ChainConsumer\n",
    "\n",
    "np.random.seed(0)\n",
    "data = samples.numpy()\n",
    "\n",
    "c = ChainConsumer()\n",
    "c.add_chain(data, parameters=[r\"$a_{\\rm off}$\", r\"$b_{\\rm off}$\"])\n",
    "fig = c.plotter.plot(figsize=\"column\", truth=[0.0, 4.0])\n",
    "\n",
    "# If we wanted to save to file, we would instead have written\n",
    "# fig = c.plotter.plot(filename=\"location\", figsize=\"column\", truth=[0.0, 4.0])\n",
    "\n",
    "# If we wanted to display the plot interactively...\n",
    "# fig = c.plotter.plot(display=True, figsize=\"column\", truth=[0.0, 4.0])\n",
    "\n",
    "fig.set_size_inches(3 + fig.get_size_inches())  # Resize fig for doco. You don't need this."
   ]
  },
  {
   "cell_type": "code",
   "execution_count": 62,
   "id": "0a2931b8",
   "metadata": {},
   "outputs": [],
   "source": [
    "def make_grid_rectangular(\n",
    "    grid,\n",
    "    halo_redshift,\n",
    "    ngrid_x=None,\n",
    "    ngrid_y=None,\n",
    "    ngrid_z=None,\n",
    "    boxsize_x=None,\n",
    "    boxsize_y=None,\n",
    "    boxsize_z=None,\n",
    "    nu_obs = None,\n",
    "    dnu_obs =None,\n",
    "):\n",
    "    if (dnu_obs is not None):\n",
    "        zem, dz, dchi, d_ngrid = lu.box_freq_to_quantities(nu_obs=nu_obs, \n",
    "                                                           dnu_obs=dnu_obs, \n",
    "                                                           boxsize= boxsize_z,\n",
    "                                                           ngrid= ngrid_z,\n",
    "                                                           z_start = halo_redshift,\n",
    "                                                           line_name= \"CII158\")\n",
    "        \n",
    "        Ngrid_new = int(ngrid_z/d_ngrid) if d_ngrid < ngrid_z else 1\n",
    "        d_ngrid = d_ngrid if d_ngrid< ngrid_z else ngrid_z\n",
    "    \n",
    "    # if dnu_obs is None, then ngrid along z axis will remain unchanged. \n",
    "    if (dnu_obs is None):\n",
    "        Ngrid_new = ngrid_z\n",
    "        d_ngrid = ngrid_z\n",
    "    \n",
    "\n",
    "    grid_final = np.empty((ngrid_x, ngrid_y))\n",
    "    \n",
    "    grid_final = np.array([])\n",
    "    for i in range(Ngrid_new):\n",
    "        print(i)\n",
    "        start = i * d_ngrid\n",
    "        end = (i + 1) * d_ngrid\n",
    "        noise_cal = np.sum(grid[:, :, start: end], axis = 2)\n",
    "        if i ==0:\n",
    "            grid_final = noise_cal\n",
    "        if i>0:\n",
    "            grid_final = np.dstack([grid_final,noise_cal])\n",
    "       \n",
    "    \n",
    "    return grid_final.reshape(ngrid_x, ngrid_y, Ngrid_new)"
   ]
  },
  {
   "cell_type": "code",
   "execution_count": 63,
   "id": "a035e18d",
   "metadata": {},
   "outputs": [
    {
     "name": "stdout",
     "output_type": "stream",
     "text": [
      "0\n"
     ]
    }
   ],
   "source": [
    "small_h =0.68\n",
    "noise_grid = np.load(\"/Users/anirbanroy/Documents/Lim-cross-correlation/codes/Noise_grid_220.npz\")['grid']\n",
    "boxsize_x = 80 * small_h\n",
    "boxsize_y = 80 * small_h\n",
    "boxsize_z = 80 * small_h\n",
    "\n",
    "\n",
    "\n",
    "Ignoise = make_grid_rectangular(noise_grid, 5.8,\n",
    "                           ngrid_x= 512,\n",
    "                            ngrid_y= 512,\n",
    "                            ngrid_z= 512,\n",
    "                            boxsize_x= boxsize_x,\n",
    "                            boxsize_y= boxsize_y,\n",
    "                            boxsize_z= boxsize_z,\n",
    "                            nu_obs = 280,\n",
    "                            dnu_obs = 2.8)\n",
    "                           "
   ]
  },
  {
   "cell_type": "code",
   "execution_count": 64,
   "id": "3294c51f",
   "metadata": {},
   "outputs": [
    {
     "data": {
      "text/plain": [
       "(512, 512)"
      ]
     },
     "execution_count": 64,
     "metadata": {},
     "output_type": "execute_result"
    }
   ],
   "source": [
    "np.shape(np.sum(noise_grid[:, :, 0:50], axis=2))"
   ]
  },
  {
   "cell_type": "code",
   "execution_count": 65,
   "id": "8bef244d",
   "metadata": {},
   "outputs": [
    {
     "name": "stdout",
     "output_type": "stream",
     "text": [
      "[9.654117   0.14635818] [5.8330474 1.3738583]\n",
      "4.6598387 1.7302061\n",
      "Adding noise\n"
     ]
    },
    {
     "name": "stderr",
     "output_type": "stream",
     "text": [
      "\r",
      "Running 200 simulations.:   0%|                         | 0/200 [00:00<?, ?it/s]"
     ]
    },
    {
     "name": "stdout",
     "output_type": "stream",
     "text": [
      "4.288937 1.2678518\n"
     ]
    },
    {
     "name": "stderr",
     "output_type": "stream",
     "text": [
      "\r",
      "Running 200 simulations.:   0%|                 | 1/200 [00:00<00:49,  3.98it/s]"
     ]
    },
    {
     "name": "stdout",
     "output_type": "stream",
     "text": [
      "Adding noise\n",
      "6.540129 1.0267961\n"
     ]
    },
    {
     "name": "stderr",
     "output_type": "stream",
     "text": [
      "\r",
      "Running 200 simulations.:   1%|▏                | 2/200 [00:00<00:51,  3.85it/s]"
     ]
    },
    {
     "name": "stdout",
     "output_type": "stream",
     "text": [
      "Adding noise\n",
      "5.6357117 1.96326\n"
     ]
    },
    {
     "name": "stderr",
     "output_type": "stream",
     "text": [
      "\r",
      "Running 200 simulations.:   2%|▎                | 3/200 [00:00<00:51,  3.85it/s]"
     ]
    },
    {
     "name": "stdout",
     "output_type": "stream",
     "text": [
      "Adding noise\n",
      "9.247607 0.8526559\n"
     ]
    },
    {
     "name": "stderr",
     "output_type": "stream",
     "text": [
      "\r",
      "Running 200 simulations.:   2%|▎                | 4/200 [00:01<00:50,  3.88it/s]"
     ]
    },
    {
     "name": "stdout",
     "output_type": "stream",
     "text": [
      "Adding noise\n",
      "7.2281547 0.8594098\n"
     ]
    },
    {
     "name": "stderr",
     "output_type": "stream",
     "text": [
      "\r",
      "Running 200 simulations.:   2%|▍                | 5/200 [00:01<00:50,  3.90it/s]"
     ]
    },
    {
     "name": "stdout",
     "output_type": "stream",
     "text": [
      "Adding noise\n",
      "5.253956 1.5840917\n"
     ]
    },
    {
     "name": "stderr",
     "output_type": "stream",
     "text": [
      "\r",
      "Running 200 simulations.:   3%|▌                | 6/200 [00:01<00:49,  3.90it/s]"
     ]
    },
    {
     "name": "stdout",
     "output_type": "stream",
     "text": [
      "Adding noise\n",
      "5.8546796 1.1666842\n"
     ]
    },
    {
     "name": "stderr",
     "output_type": "stream",
     "text": [
      "\r",
      "Running 200 simulations.:   4%|▌                | 7/200 [00:01<00:50,  3.84it/s]"
     ]
    },
    {
     "name": "stdout",
     "output_type": "stream",
     "text": [
      "Adding noise\n",
      "6.4442472 1.8923656\n"
     ]
    },
    {
     "name": "stderr",
     "output_type": "stream",
     "text": [
      "\r",
      "Running 200 simulations.:   4%|▋                | 8/200 [00:02<00:49,  3.89it/s]"
     ]
    },
    {
     "name": "stdout",
     "output_type": "stream",
     "text": [
      "Adding noise\n",
      "4.3034725 1.4204409\n"
     ]
    },
    {
     "name": "stderr",
     "output_type": "stream",
     "text": [
      "\r",
      "Running 200 simulations.:   4%|▊                | 9/200 [00:02<00:49,  3.86it/s]"
     ]
    },
    {
     "name": "stdout",
     "output_type": "stream",
     "text": [
      "Adding noise\n",
      "6.297529 1.1213148\n"
     ]
    },
    {
     "name": "stderr",
     "output_type": "stream",
     "text": [
      "\r",
      "Running 200 simulations.:   5%|▊               | 10/200 [00:02<00:49,  3.81it/s]"
     ]
    },
    {
     "name": "stdout",
     "output_type": "stream",
     "text": [
      "Adding noise\n",
      "5.9441776 0.7455085\n"
     ]
    },
    {
     "name": "stderr",
     "output_type": "stream",
     "text": [
      "\r",
      "Running 200 simulations.:   6%|▉               | 11/200 [00:02<00:49,  3.80it/s]"
     ]
    },
    {
     "name": "stdout",
     "output_type": "stream",
     "text": [
      "Adding noise\n",
      "5.814853 1.6930279\n"
     ]
    },
    {
     "name": "stderr",
     "output_type": "stream",
     "text": [
      "\r",
      "Running 200 simulations.:   6%|▉               | 12/200 [00:03<00:49,  3.77it/s]"
     ]
    },
    {
     "name": "stdout",
     "output_type": "stream",
     "text": [
      "Adding noise\n",
      "8.874208 1.9487326\n"
     ]
    },
    {
     "name": "stderr",
     "output_type": "stream",
     "text": [
      "\r",
      "Running 200 simulations.:   6%|█               | 13/200 [00:03<00:48,  3.82it/s]"
     ]
    },
    {
     "name": "stdout",
     "output_type": "stream",
     "text": [
      "Adding noise\n",
      "8.582797 0.13746384\n"
     ]
    },
    {
     "name": "stderr",
     "output_type": "stream",
     "text": [
      "\r",
      "Running 200 simulations.:   7%|█               | 14/200 [00:03<00:47,  3.88it/s]"
     ]
    },
    {
     "name": "stdout",
     "output_type": "stream",
     "text": [
      "Adding noise\n",
      "6.829874 0.8193645\n"
     ]
    },
    {
     "name": "stderr",
     "output_type": "stream",
     "text": [
      "\r",
      "Running 200 simulations.:   8%|█▏              | 15/200 [00:03<00:47,  3.89it/s]"
     ]
    },
    {
     "name": "stdout",
     "output_type": "stream",
     "text": [
      "Adding noise\n",
      "5.1370354 0.73537904\n"
     ]
    },
    {
     "name": "stderr",
     "output_type": "stream",
     "text": [
      "\r",
      "Running 200 simulations.:   8%|█▎              | 16/200 [00:04<00:48,  3.82it/s]"
     ]
    },
    {
     "name": "stdout",
     "output_type": "stream",
     "text": [
      "Adding noise\n",
      "7.22491 0.6567724\n"
     ]
    },
    {
     "name": "stderr",
     "output_type": "stream",
     "text": [
      "\r",
      "Running 200 simulations.:   8%|█▎              | 17/200 [00:04<00:46,  3.90it/s]"
     ]
    },
    {
     "name": "stdout",
     "output_type": "stream",
     "text": [
      "Adding noise\n",
      "7.3282776 0.7126777\n"
     ]
    },
    {
     "name": "stderr",
     "output_type": "stream",
     "text": [
      "\r",
      "Running 200 simulations.:   9%|█▍              | 18/200 [00:04<00:46,  3.95it/s]"
     ]
    },
    {
     "name": "stdout",
     "output_type": "stream",
     "text": [
      "Adding noise\n",
      "6.068201 0.5746161\n"
     ]
    },
    {
     "name": "stderr",
     "output_type": "stream",
     "text": [
      "\r",
      "Running 200 simulations.:  10%|█▌              | 19/200 [00:04<00:45,  3.95it/s]"
     ]
    },
    {
     "name": "stdout",
     "output_type": "stream",
     "text": [
      "Adding noise\n",
      "6.616024 0.6579907\n"
     ]
    },
    {
     "name": "stderr",
     "output_type": "stream",
     "text": [
      "\r",
      "Running 200 simulations.:  10%|█▌              | 20/200 [00:05<00:45,  3.94it/s]"
     ]
    },
    {
     "name": "stdout",
     "output_type": "stream",
     "text": [
      "Adding noise\n",
      "9.677066 1.4947546\n"
     ]
    },
    {
     "name": "stderr",
     "output_type": "stream",
     "text": [
      "\r",
      "Running 200 simulations.:  10%|█▋              | 21/200 [00:05<00:47,  3.74it/s]"
     ]
    },
    {
     "name": "stdout",
     "output_type": "stream",
     "text": [
      "Adding noise\n",
      "9.780068 0.7730801\n"
     ]
    },
    {
     "name": "stderr",
     "output_type": "stream",
     "text": [
      "\r",
      "Running 200 simulations.:  11%|█▊              | 22/200 [00:05<00:47,  3.78it/s]"
     ]
    },
    {
     "name": "stdout",
     "output_type": "stream",
     "text": [
      "Adding noise\n",
      "6.981562 1.1632394\n"
     ]
    },
    {
     "name": "stderr",
     "output_type": "stream",
     "text": [
      "\r",
      "Running 200 simulations.:  12%|█▊              | 23/200 [00:05<00:47,  3.72it/s]"
     ]
    },
    {
     "name": "stdout",
     "output_type": "stream",
     "text": [
      "Adding noise\n",
      "7.167465 1.2735038\n"
     ]
    },
    {
     "name": "stderr",
     "output_type": "stream",
     "text": [
      "\r",
      "Running 200 simulations.:  12%|█▉              | 24/200 [00:06<00:47,  3.67it/s]"
     ]
    },
    {
     "name": "stdout",
     "output_type": "stream",
     "text": [
      "Adding noise\n",
      "6.512272 1.6291136\n"
     ]
    },
    {
     "name": "stderr",
     "output_type": "stream",
     "text": [
      "\r",
      "Running 200 simulations.:  12%|██              | 25/200 [00:06<00:52,  3.31it/s]"
     ]
    },
    {
     "name": "stdout",
     "output_type": "stream",
     "text": [
      "Adding noise\n",
      "6.6078897 0.9156167\n"
     ]
    },
    {
     "name": "stderr",
     "output_type": "stream",
     "text": [
      "\r",
      "Running 200 simulations.:  13%|██              | 26/200 [00:06<00:53,  3.27it/s]"
     ]
    },
    {
     "name": "stdout",
     "output_type": "stream",
     "text": [
      "Adding noise\n",
      "9.145937 0.25357717\n"
     ]
    },
    {
     "name": "stderr",
     "output_type": "stream",
     "text": [
      "\r",
      "Running 200 simulations.:  14%|██▏             | 27/200 [00:07<00:50,  3.40it/s]"
     ]
    },
    {
     "name": "stdout",
     "output_type": "stream",
     "text": [
      "Adding noise\n",
      "8.300841 1.066951\n"
     ]
    },
    {
     "name": "stderr",
     "output_type": "stream",
     "text": [
      "\r",
      "Running 200 simulations.:  14%|██▏             | 28/200 [00:07<00:49,  3.50it/s]"
     ]
    },
    {
     "name": "stdout",
     "output_type": "stream",
     "text": [
      "Adding noise\n",
      "6.305268 1.6698091\n"
     ]
    },
    {
     "name": "stderr",
     "output_type": "stream",
     "text": [
      "\r",
      "Running 200 simulations.:  14%|██▎             | 29/200 [00:07<00:47,  3.63it/s]"
     ]
    },
    {
     "name": "stdout",
     "output_type": "stream",
     "text": [
      "Adding noise\n",
      "6.091606 1.303404\n"
     ]
    },
    {
     "name": "stderr",
     "output_type": "stream",
     "text": [
      "\r",
      "Running 200 simulations.:  15%|██▍             | 30/200 [00:08<00:46,  3.68it/s]"
     ]
    },
    {
     "name": "stdout",
     "output_type": "stream",
     "text": [
      "Adding noise\n",
      "8.795757 0.71802866\n"
     ]
    },
    {
     "name": "stderr",
     "output_type": "stream",
     "text": [
      "\r",
      "Running 200 simulations.:  16%|██▍             | 31/200 [00:08<00:45,  3.70it/s]"
     ]
    },
    {
     "name": "stdout",
     "output_type": "stream",
     "text": [
      "Adding noise\n",
      "5.8781238 0.12040098\n"
     ]
    },
    {
     "name": "stderr",
     "output_type": "stream",
     "text": [
      "\r",
      "Running 200 simulations.:  16%|██▌             | 32/200 [00:08<00:44,  3.76it/s]"
     ]
    },
    {
     "name": "stdout",
     "output_type": "stream",
     "text": [
      "Adding noise\n",
      "4.2058077 0.79964095\n"
     ]
    },
    {
     "name": "stderr",
     "output_type": "stream",
     "text": [
      "\r",
      "Running 200 simulations.:  16%|██▋             | 33/200 [00:08<00:43,  3.80it/s]"
     ]
    },
    {
     "name": "stdout",
     "output_type": "stream",
     "text": [
      "Adding noise\n",
      "4.624966 1.6009579\n"
     ]
    },
    {
     "name": "stderr",
     "output_type": "stream",
     "text": [
      "\r",
      "Running 200 simulations.:  17%|██▋             | 34/200 [00:09<00:43,  3.84it/s]"
     ]
    },
    {
     "name": "stdout",
     "output_type": "stream",
     "text": [
      "Adding noise\n",
      "7.4651546 0.20522673\n"
     ]
    },
    {
     "name": "stderr",
     "output_type": "stream",
     "text": [
      "\r",
      "Running 200 simulations.:  18%|██▊             | 35/200 [00:09<00:42,  3.84it/s]"
     ]
    },
    {
     "name": "stdout",
     "output_type": "stream",
     "text": [
      "Adding noise\n",
      "5.796193 1.7037152\n"
     ]
    },
    {
     "name": "stderr",
     "output_type": "stream",
     "text": [
      "\r",
      "Running 200 simulations.:  18%|██▉             | 36/200 [00:09<00:42,  3.89it/s]"
     ]
    },
    {
     "name": "stdout",
     "output_type": "stream",
     "text": [
      "Adding noise\n",
      "9.685002 1.8133076\n"
     ]
    },
    {
     "name": "stderr",
     "output_type": "stream",
     "text": [
      "\r",
      "Running 200 simulations.:  18%|██▉             | 37/200 [00:09<00:41,  3.92it/s]"
     ]
    },
    {
     "name": "stdout",
     "output_type": "stream",
     "text": [
      "Adding noise\n",
      "8.130943 0.59089166\n"
     ]
    },
    {
     "name": "stderr",
     "output_type": "stream",
     "text": [
      "\r",
      "Running 200 simulations.:  19%|███             | 38/200 [00:10<00:41,  3.90it/s]"
     ]
    },
    {
     "name": "stdout",
     "output_type": "stream",
     "text": [
      "Adding noise\n",
      "5.807419 0.5581585\n"
     ]
    },
    {
     "name": "stderr",
     "output_type": "stream",
     "text": [
      "\r",
      "Running 200 simulations.:  20%|███             | 39/200 [00:10<00:41,  3.89it/s]"
     ]
    },
    {
     "name": "stdout",
     "output_type": "stream",
     "text": [
      "Adding noise\n",
      "4.4691377 1.1772485\n"
     ]
    },
    {
     "name": "stderr",
     "output_type": "stream",
     "text": [
      "\r",
      "Running 200 simulations.:  20%|███▏            | 40/200 [00:10<00:41,  3.88it/s]"
     ]
    },
    {
     "name": "stdout",
     "output_type": "stream",
     "text": [
      "Adding noise\n",
      "6.7924337 1.6213273\n"
     ]
    },
    {
     "name": "stderr",
     "output_type": "stream",
     "text": [
      "\r",
      "Running 200 simulations.:  20%|███▎            | 41/200 [00:10<00:40,  3.90it/s]"
     ]
    },
    {
     "name": "stdout",
     "output_type": "stream",
     "text": [
      "Adding noise\n",
      "6.9485455 1.659197\n"
     ]
    },
    {
     "name": "stderr",
     "output_type": "stream",
     "text": [
      "\r",
      "Running 200 simulations.:  21%|███▎            | 42/200 [00:11<00:40,  3.89it/s]"
     ]
    },
    {
     "name": "stdout",
     "output_type": "stream",
     "text": [
      "Adding noise\n",
      "7.938232 1.5083302\n"
     ]
    },
    {
     "name": "stderr",
     "output_type": "stream",
     "text": [
      "\r",
      "Running 200 simulations.:  22%|███▍            | 43/200 [00:11<00:40,  3.89it/s]"
     ]
    },
    {
     "name": "stdout",
     "output_type": "stream",
     "text": [
      "Adding noise\n",
      "9.255457 1.6565855\n"
     ]
    },
    {
     "name": "stderr",
     "output_type": "stream",
     "text": [
      "\r",
      "Running 200 simulations.:  22%|███▌            | 44/200 [00:11<00:41,  3.72it/s]"
     ]
    },
    {
     "name": "stdout",
     "output_type": "stream",
     "text": [
      "Adding noise\n",
      "6.6275063 1.4127791\n"
     ]
    },
    {
     "name": "stderr",
     "output_type": "stream",
     "text": [
      "\r",
      "Running 200 simulations.:  22%|███▌            | 45/200 [00:11<00:40,  3.81it/s]"
     ]
    },
    {
     "name": "stdout",
     "output_type": "stream",
     "text": [
      "Adding noise\n",
      "7.7011523 1.2393136\n"
     ]
    },
    {
     "name": "stderr",
     "output_type": "stream",
     "text": [
      "\r",
      "Running 200 simulations.:  23%|███▋            | 46/200 [00:12<00:41,  3.74it/s]"
     ]
    },
    {
     "name": "stdout",
     "output_type": "stream",
     "text": [
      "Adding noise\n",
      "5.0804434 0.20516253\n"
     ]
    },
    {
     "name": "stderr",
     "output_type": "stream",
     "text": [
      "\r",
      "Running 200 simulations.:  24%|███▊            | 47/200 [00:12<00:41,  3.71it/s]"
     ]
    },
    {
     "name": "stdout",
     "output_type": "stream",
     "text": [
      "Adding noise\n",
      "6.4232564 0.17091958\n"
     ]
    },
    {
     "name": "stderr",
     "output_type": "stream",
     "text": [
      "\r",
      "Running 200 simulations.:  24%|███▊            | 48/200 [00:12<00:39,  3.83it/s]"
     ]
    },
    {
     "name": "stdout",
     "output_type": "stream",
     "text": [
      "Adding noise\n",
      "6.33919 1.3686826\n"
     ]
    },
    {
     "name": "stderr",
     "output_type": "stream",
     "text": [
      "\r",
      "Running 200 simulations.:  24%|███▉            | 49/200 [00:12<00:38,  3.90it/s]"
     ]
    },
    {
     "name": "stdout",
     "output_type": "stream",
     "text": [
      "Adding noise\n",
      "4.01979 0.97541267\n"
     ]
    },
    {
     "name": "stderr",
     "output_type": "stream",
     "text": [
      "\r",
      "Running 200 simulations.:  25%|████            | 50/200 [00:13<00:41,  3.58it/s]"
     ]
    },
    {
     "name": "stdout",
     "output_type": "stream",
     "text": [
      "Adding noise\n",
      "4.4969583 0.96110046\n"
     ]
    },
    {
     "name": "stderr",
     "output_type": "stream",
     "text": [
      "\r",
      "Running 200 simulations.:  26%|████            | 51/200 [00:13<00:42,  3.50it/s]"
     ]
    },
    {
     "name": "stdout",
     "output_type": "stream",
     "text": [
      "Adding noise\n",
      "6.360327 1.8189855\n"
     ]
    },
    {
     "name": "stderr",
     "output_type": "stream",
     "text": [
      "\r",
      "Running 200 simulations.:  26%|████▏           | 52/200 [00:13<00:42,  3.45it/s]"
     ]
    },
    {
     "name": "stdout",
     "output_type": "stream",
     "text": [
      "Adding noise\n",
      "6.092374 1.1765468\n"
     ]
    },
    {
     "name": "stderr",
     "output_type": "stream",
     "text": [
      "\r",
      "Running 200 simulations.:  26%|████▏           | 53/200 [00:14<00:48,  3.03it/s]"
     ]
    },
    {
     "name": "stdout",
     "output_type": "stream",
     "text": [
      "Adding noise\n",
      "4.141759 1.0721163\n"
     ]
    },
    {
     "name": "stderr",
     "output_type": "stream",
     "text": [
      "\r",
      "Running 200 simulations.:  27%|████▎           | 54/200 [00:14<00:48,  3.04it/s]"
     ]
    },
    {
     "name": "stdout",
     "output_type": "stream",
     "text": [
      "Adding noise\n",
      "6.2755513 0.8096457\n"
     ]
    },
    {
     "name": "stderr",
     "output_type": "stream",
     "text": [
      "\r",
      "Running 200 simulations.:  28%|████▍           | 55/200 [00:14<00:45,  3.22it/s]"
     ]
    },
    {
     "name": "stdout",
     "output_type": "stream",
     "text": [
      "Adding noise\n",
      "6.67375 1.0105416\n"
     ]
    },
    {
     "name": "stderr",
     "output_type": "stream",
     "text": [
      "\r",
      "Running 200 simulations.:  28%|████▍           | 56/200 [00:15<00:42,  3.42it/s]"
     ]
    },
    {
     "name": "stdout",
     "output_type": "stream",
     "text": [
      "Adding noise\n",
      "5.783806 1.6012\n"
     ]
    },
    {
     "name": "stderr",
     "output_type": "stream",
     "text": [
      "\r",
      "Running 200 simulations.:  28%|████▌           | 57/200 [00:15<00:39,  3.59it/s]"
     ]
    },
    {
     "name": "stdout",
     "output_type": "stream",
     "text": [
      "Adding noise\n",
      "4.0843678 1.5436709\n"
     ]
    },
    {
     "name": "stderr",
     "output_type": "stream",
     "text": [
      "\r",
      "Running 200 simulations.:  29%|████▋           | 58/200 [00:15<00:38,  3.73it/s]"
     ]
    },
    {
     "name": "stdout",
     "output_type": "stream",
     "text": [
      "Adding noise\n",
      "6.580663 0.88399106\n"
     ]
    },
    {
     "name": "stderr",
     "output_type": "stream",
     "text": [
      "\r",
      "Running 200 simulations.:  30%|████▋           | 59/200 [00:15<00:37,  3.72it/s]"
     ]
    },
    {
     "name": "stdout",
     "output_type": "stream",
     "text": [
      "Adding noise\n",
      "4.754646 0.20306447\n"
     ]
    },
    {
     "name": "stderr",
     "output_type": "stream",
     "text": [
      "\r",
      "Running 200 simulations.:  30%|████▊           | 60/200 [00:16<00:36,  3.79it/s]"
     ]
    },
    {
     "name": "stdout",
     "output_type": "stream",
     "text": [
      "Adding noise\n",
      "5.9244504 1.319816\n"
     ]
    },
    {
     "name": "stderr",
     "output_type": "stream",
     "text": [
      "\r",
      "Running 200 simulations.:  30%|████▉           | 61/200 [00:16<00:35,  3.87it/s]"
     ]
    },
    {
     "name": "stdout",
     "output_type": "stream",
     "text": [
      "Adding noise\n",
      "6.277708 1.0112915\n"
     ]
    },
    {
     "name": "stderr",
     "output_type": "stream",
     "text": [
      "\r",
      "Running 200 simulations.:  31%|████▉           | 62/200 [00:16<00:35,  3.92it/s]"
     ]
    },
    {
     "name": "stdout",
     "output_type": "stream",
     "text": [
      "Adding noise\n",
      "9.286191 0.9773432\n"
     ]
    },
    {
     "name": "stderr",
     "output_type": "stream",
     "text": [
      "\r",
      "Running 200 simulations.:  32%|█████           | 63/200 [00:16<00:36,  3.76it/s]"
     ]
    },
    {
     "name": "stdout",
     "output_type": "stream",
     "text": [
      "Adding noise\n",
      "8.392886 0.34337342\n"
     ]
    },
    {
     "name": "stderr",
     "output_type": "stream",
     "text": [
      "\r",
      "Running 200 simulations.:  32%|█████           | 64/200 [00:17<00:35,  3.83it/s]"
     ]
    },
    {
     "name": "stdout",
     "output_type": "stream",
     "text": [
      "Adding noise\n",
      "5.9691205 0.76531863\n"
     ]
    },
    {
     "name": "stderr",
     "output_type": "stream",
     "text": [
      "\r",
      "Running 200 simulations.:  32%|█████▏          | 65/200 [00:17<00:35,  3.79it/s]"
     ]
    },
    {
     "name": "stdout",
     "output_type": "stream",
     "text": [
      "Adding noise\n",
      "7.597136 1.7789488\n"
     ]
    },
    {
     "name": "stderr",
     "output_type": "stream",
     "text": [
      "\r",
      "Running 200 simulations.:  33%|█████▎          | 66/200 [00:17<00:35,  3.77it/s]"
     ]
    },
    {
     "name": "stdout",
     "output_type": "stream",
     "text": [
      "Adding noise\n",
      "8.27179 1.082745\n"
     ]
    },
    {
     "name": "stderr",
     "output_type": "stream",
     "text": [
      "\r",
      "Running 200 simulations.:  34%|█████▎          | 67/200 [00:17<00:35,  3.74it/s]"
     ]
    },
    {
     "name": "stdout",
     "output_type": "stream",
     "text": [
      "Adding noise\n",
      "8.835442 0.9202009\n"
     ]
    },
    {
     "name": "stderr",
     "output_type": "stream",
     "text": [
      "\r",
      "Running 200 simulations.:  34%|█████▍          | 68/200 [00:18<00:34,  3.84it/s]"
     ]
    },
    {
     "name": "stdout",
     "output_type": "stream",
     "text": [
      "Adding noise\n",
      "4.9279656 0.92948526\n"
     ]
    },
    {
     "name": "stderr",
     "output_type": "stream",
     "text": [
      "\r",
      "Running 200 simulations.:  34%|█████▌          | 69/200 [00:18<00:33,  3.89it/s]"
     ]
    },
    {
     "name": "stdout",
     "output_type": "stream",
     "text": [
      "Adding noise\n",
      "4.677663 1.3938435\n"
     ]
    },
    {
     "name": "stderr",
     "output_type": "stream",
     "text": [
      "\r",
      "Running 200 simulations.:  35%|█████▌          | 70/200 [00:18<00:34,  3.80it/s]"
     ]
    },
    {
     "name": "stdout",
     "output_type": "stream",
     "text": [
      "Adding noise\n",
      "5.1110945 1.5877761\n"
     ]
    },
    {
     "name": "stderr",
     "output_type": "stream",
     "text": [
      "\r",
      "Running 200 simulations.:  36%|█████▋          | 71/200 [00:19<00:35,  3.66it/s]"
     ]
    },
    {
     "name": "stdout",
     "output_type": "stream",
     "text": [
      "Adding noise\n",
      "4.006731 0.11728132\n"
     ]
    },
    {
     "name": "stderr",
     "output_type": "stream",
     "text": [
      "\r",
      "Running 200 simulations.:  36%|█████▊          | 72/200 [00:19<00:33,  3.79it/s]"
     ]
    },
    {
     "name": "stdout",
     "output_type": "stream",
     "text": [
      "Adding noise\n",
      "6.134535 0.2911622\n"
     ]
    },
    {
     "name": "stderr",
     "output_type": "stream",
     "text": [
      "\r",
      "Running 200 simulations.:  36%|█████▊          | 73/200 [00:19<00:32,  3.88it/s]"
     ]
    },
    {
     "name": "stdout",
     "output_type": "stream",
     "text": [
      "Adding noise\n",
      "5.6966 0.6285664\n"
     ]
    },
    {
     "name": "stderr",
     "output_type": "stream",
     "text": [
      "\r",
      "Running 200 simulations.:  37%|█████▉          | 74/200 [00:19<00:32,  3.94it/s]"
     ]
    },
    {
     "name": "stdout",
     "output_type": "stream",
     "text": [
      "Adding noise\n",
      "4.039074 1.8665717\n"
     ]
    },
    {
     "name": "stderr",
     "output_type": "stream",
     "text": [
      "\r",
      "Running 200 simulations.:  38%|██████          | 75/200 [00:20<00:31,  3.99it/s]"
     ]
    },
    {
     "name": "stdout",
     "output_type": "stream",
     "text": [
      "Adding noise\n",
      "4.106959 0.9198405\n"
     ]
    },
    {
     "name": "stderr",
     "output_type": "stream",
     "text": [
      "\r",
      "Running 200 simulations.:  38%|██████          | 76/200 [00:20<00:30,  4.04it/s]"
     ]
    },
    {
     "name": "stdout",
     "output_type": "stream",
     "text": [
      "Adding noise\n",
      "8.083929 1.7020634\n"
     ]
    },
    {
     "name": "stderr",
     "output_type": "stream",
     "text": [
      "\r",
      "Running 200 simulations.:  38%|██████▏         | 77/200 [00:20<00:30,  4.06it/s]"
     ]
    },
    {
     "name": "stdout",
     "output_type": "stream",
     "text": [
      "Adding noise\n",
      "8.468622 1.7503283\n"
     ]
    },
    {
     "name": "stderr",
     "output_type": "stream",
     "text": [
      "\r",
      "Running 200 simulations.:  39%|██████▏         | 78/200 [00:20<00:30,  4.05it/s]"
     ]
    },
    {
     "name": "stdout",
     "output_type": "stream",
     "text": [
      "Adding noise\n",
      "4.6090155 0.7657724\n"
     ]
    },
    {
     "name": "stderr",
     "output_type": "stream",
     "text": [
      "\r",
      "Running 200 simulations.:  40%|██████▎         | 79/200 [00:21<00:29,  4.06it/s]"
     ]
    },
    {
     "name": "stdout",
     "output_type": "stream",
     "text": [
      "Adding noise\n",
      "8.391921 0.268932\n"
     ]
    },
    {
     "name": "stderr",
     "output_type": "stream",
     "text": [
      "\r",
      "Running 200 simulations.:  40%|██████▍         | 80/200 [00:21<00:29,  4.11it/s]"
     ]
    },
    {
     "name": "stdout",
     "output_type": "stream",
     "text": [
      "Adding noise\n",
      "4.720697 1.7397121\n"
     ]
    },
    {
     "name": "stderr",
     "output_type": "stream",
     "text": [
      "\r",
      "Running 200 simulations.:  40%|██████▍         | 81/200 [00:21<00:28,  4.12it/s]"
     ]
    },
    {
     "name": "stdout",
     "output_type": "stream",
     "text": [
      "Adding noise\n",
      "7.1019764 1.3698416\n"
     ]
    },
    {
     "name": "stderr",
     "output_type": "stream",
     "text": [
      "\r",
      "Running 200 simulations.:  41%|██████▌         | 82/200 [00:21<00:29,  3.97it/s]"
     ]
    },
    {
     "name": "stdout",
     "output_type": "stream",
     "text": [
      "Adding noise\n",
      "7.4505215 1.3830829\n"
     ]
    },
    {
     "name": "stderr",
     "output_type": "stream",
     "text": [
      "\r",
      "Running 200 simulations.:  42%|██████▋         | 83/200 [00:22<00:30,  3.81it/s]"
     ]
    },
    {
     "name": "stdout",
     "output_type": "stream",
     "text": [
      "Adding noise\n",
      "9.088211 1.0412203\n"
     ]
    },
    {
     "name": "stderr",
     "output_type": "stream",
     "text": [
      "\r",
      "Running 200 simulations.:  42%|██████▋         | 84/200 [00:22<00:30,  3.78it/s]"
     ]
    },
    {
     "name": "stdout",
     "output_type": "stream",
     "text": [
      "Adding noise\n",
      "4.6198688 0.13162054\n"
     ]
    },
    {
     "name": "stderr",
     "output_type": "stream",
     "text": [
      "\r",
      "Running 200 simulations.:  42%|██████▊         | 85/200 [00:22<00:29,  3.86it/s]"
     ]
    },
    {
     "name": "stdout",
     "output_type": "stream",
     "text": [
      "Adding noise\n",
      "9.044994 1.8274632\n"
     ]
    },
    {
     "name": "stderr",
     "output_type": "stream",
     "text": [
      "\r",
      "Running 200 simulations.:  43%|██████▉         | 86/200 [00:22<00:29,  3.92it/s]"
     ]
    },
    {
     "name": "stdout",
     "output_type": "stream",
     "text": [
      "Adding noise\n",
      "4.6231823 0.41852692\n"
     ]
    },
    {
     "name": "stderr",
     "output_type": "stream",
     "text": [
      "\r",
      "Running 200 simulations.:  44%|██████▉         | 87/200 [00:23<00:28,  3.98it/s]"
     ]
    },
    {
     "name": "stdout",
     "output_type": "stream",
     "text": [
      "Adding noise\n",
      "7.523262 0.4453063\n"
     ]
    },
    {
     "name": "stderr",
     "output_type": "stream",
     "text": [
      "\r",
      "Running 200 simulations.:  44%|███████         | 88/200 [00:23<00:27,  4.03it/s]"
     ]
    },
    {
     "name": "stdout",
     "output_type": "stream",
     "text": [
      "Adding noise\n",
      "6.0490656 0.40195465\n"
     ]
    },
    {
     "name": "stderr",
     "output_type": "stream",
     "text": [
      "\r",
      "Running 200 simulations.:  44%|███████         | 89/200 [00:23<00:27,  4.08it/s]"
     ]
    },
    {
     "name": "stdout",
     "output_type": "stream",
     "text": [
      "Adding noise\n",
      "5.3420362 1.328274\n"
     ]
    },
    {
     "name": "stderr",
     "output_type": "stream",
     "text": [
      "\r",
      "Running 200 simulations.:  45%|███████▏        | 90/200 [00:23<00:26,  4.09it/s]"
     ]
    },
    {
     "name": "stdout",
     "output_type": "stream",
     "text": [
      "Adding noise\n",
      "8.392567 1.8580358\n"
     ]
    },
    {
     "name": "stderr",
     "output_type": "stream",
     "text": [
      "\r",
      "Running 200 simulations.:  46%|███████▎        | 91/200 [00:24<00:26,  4.09it/s]"
     ]
    },
    {
     "name": "stdout",
     "output_type": "stream",
     "text": [
      "Adding noise\n",
      "9.613705 1.7503146\n"
     ]
    },
    {
     "name": "stderr",
     "output_type": "stream",
     "text": [
      "\r",
      "Running 200 simulations.:  46%|███████▎        | 92/200 [00:24<00:26,  4.02it/s]"
     ]
    },
    {
     "name": "stdout",
     "output_type": "stream",
     "text": [
      "Adding noise\n",
      "5.226899 0.5454101\n"
     ]
    },
    {
     "name": "stderr",
     "output_type": "stream",
     "text": [
      "\r",
      "Running 200 simulations.:  46%|███████▍        | 93/200 [00:24<00:27,  3.92it/s]"
     ]
    },
    {
     "name": "stdout",
     "output_type": "stream",
     "text": [
      "Adding noise\n",
      "4.5696573 0.88623846\n"
     ]
    },
    {
     "name": "stderr",
     "output_type": "stream",
     "text": [
      "\r",
      "Running 200 simulations.:  47%|███████▌        | 94/200 [00:24<00:26,  3.97it/s]"
     ]
    },
    {
     "name": "stdout",
     "output_type": "stream",
     "text": [
      "Adding noise\n",
      "8.734936 1.673014\n"
     ]
    },
    {
     "name": "stderr",
     "output_type": "stream",
     "text": [
      "\r",
      "Running 200 simulations.:  48%|███████▌        | 95/200 [00:25<00:26,  4.00it/s]"
     ]
    },
    {
     "name": "stdout",
     "output_type": "stream",
     "text": [
      "Adding noise\n",
      "4.5909123 0.2672546\n"
     ]
    },
    {
     "name": "stderr",
     "output_type": "stream",
     "text": [
      "\r",
      "Running 200 simulations.:  48%|███████▋        | 96/200 [00:25<00:25,  4.03it/s]"
     ]
    },
    {
     "name": "stdout",
     "output_type": "stream",
     "text": [
      "Adding noise\n",
      "8.82717 0.32196724\n"
     ]
    },
    {
     "name": "stderr",
     "output_type": "stream",
     "text": [
      "\r",
      "Running 200 simulations.:  48%|███████▊        | 97/200 [00:25<00:25,  4.05it/s]"
     ]
    },
    {
     "name": "stdout",
     "output_type": "stream",
     "text": [
      "Adding noise\n",
      "4.8065405 1.1123344\n"
     ]
    },
    {
     "name": "stderr",
     "output_type": "stream",
     "text": [
      "\r",
      "Running 200 simulations.:  49%|███████▊        | 98/200 [00:25<00:25,  4.06it/s]"
     ]
    },
    {
     "name": "stdout",
     "output_type": "stream",
     "text": [
      "Adding noise\n",
      "8.795494 1.2953057\n"
     ]
    },
    {
     "name": "stderr",
     "output_type": "stream",
     "text": [
      "\r",
      "Running 200 simulations.:  50%|███████▉        | 99/200 [00:26<00:24,  4.04it/s]"
     ]
    },
    {
     "name": "stdout",
     "output_type": "stream",
     "text": [
      "Adding noise\n",
      "5.7013607 0.55312926\n"
     ]
    },
    {
     "name": "stderr",
     "output_type": "stream",
     "text": [
      "\r",
      "Running 200 simulations.:  50%|███████▌       | 100/200 [00:26<00:24,  4.05it/s]"
     ]
    },
    {
     "name": "stdout",
     "output_type": "stream",
     "text": [
      "Adding noise\n",
      "5.965801 0.5500616\n"
     ]
    },
    {
     "name": "stderr",
     "output_type": "stream",
     "text": [
      "\r",
      "Running 200 simulations.:  50%|███████▌       | 101/200 [00:26<00:24,  4.06it/s]"
     ]
    },
    {
     "name": "stdout",
     "output_type": "stream",
     "text": [
      "Adding noise\n",
      "8.681739 0.42716295\n"
     ]
    },
    {
     "name": "stderr",
     "output_type": "stream",
     "text": [
      "\r",
      "Running 200 simulations.:  51%|███████▋       | 102/200 [00:26<00:25,  3.91it/s]"
     ]
    },
    {
     "name": "stdout",
     "output_type": "stream",
     "text": [
      "Adding noise\n",
      "9.82939 1.6560215\n"
     ]
    },
    {
     "name": "stderr",
     "output_type": "stream",
     "text": [
      "\r",
      "Running 200 simulations.:  52%|███████▋       | 103/200 [00:27<00:24,  3.91it/s]"
     ]
    },
    {
     "name": "stdout",
     "output_type": "stream",
     "text": [
      "Adding noise\n",
      "9.339099 0.80231917\n"
     ]
    },
    {
     "name": "stderr",
     "output_type": "stream",
     "text": [
      "\r",
      "Running 200 simulations.:  52%|███████▊       | 104/200 [00:27<00:24,  3.93it/s]"
     ]
    },
    {
     "name": "stdout",
     "output_type": "stream",
     "text": [
      "Adding noise\n",
      "6.8914433 0.66939574\n"
     ]
    },
    {
     "name": "stderr",
     "output_type": "stream",
     "text": [
      "\r",
      "Running 200 simulations.:  52%|███████▉       | 105/200 [00:27<00:24,  3.92it/s]"
     ]
    },
    {
     "name": "stdout",
     "output_type": "stream",
     "text": [
      "Adding noise\n",
      "7.735265 1.2743438\n"
     ]
    },
    {
     "name": "stderr",
     "output_type": "stream",
     "text": [
      "\r",
      "Running 200 simulations.:  53%|███████▉       | 106/200 [00:27<00:23,  3.96it/s]"
     ]
    },
    {
     "name": "stdout",
     "output_type": "stream",
     "text": [
      "Adding noise\n",
      "8.303579 0.29783154\n"
     ]
    },
    {
     "name": "stderr",
     "output_type": "stream",
     "text": [
      "\r",
      "Running 200 simulations.:  54%|████████       | 107/200 [00:28<00:23,  4.01it/s]"
     ]
    },
    {
     "name": "stdout",
     "output_type": "stream",
     "text": [
      "Adding noise\n",
      "7.4922657 0.8739136\n"
     ]
    },
    {
     "name": "stderr",
     "output_type": "stream",
     "text": [
      "\r",
      "Running 200 simulations.:  54%|████████       | 108/200 [00:28<00:22,  4.04it/s]"
     ]
    },
    {
     "name": "stdout",
     "output_type": "stream",
     "text": [
      "Adding noise\n",
      "8.774691 0.44690028\n"
     ]
    },
    {
     "name": "stderr",
     "output_type": "stream",
     "text": [
      "\r",
      "Running 200 simulations.:  55%|████████▏      | 109/200 [00:28<00:22,  4.10it/s]"
     ]
    },
    {
     "name": "stdout",
     "output_type": "stream",
     "text": [
      "Adding noise\n",
      "9.4982815 0.98072356\n"
     ]
    },
    {
     "name": "stderr",
     "output_type": "stream",
     "text": [
      "\r",
      "Running 200 simulations.:  55%|████████▎      | 110/200 [00:28<00:21,  4.11it/s]"
     ]
    },
    {
     "name": "stdout",
     "output_type": "stream",
     "text": [
      "Adding noise\n",
      "4.5293465 0.9026229\n"
     ]
    },
    {
     "name": "stderr",
     "output_type": "stream",
     "text": [
      "\r",
      "Running 200 simulations.:  56%|████████▎      | 111/200 [00:28<00:21,  4.12it/s]"
     ]
    },
    {
     "name": "stdout",
     "output_type": "stream",
     "text": [
      "Adding noise\n",
      "4.333326 0.88945913\n"
     ]
    },
    {
     "name": "stderr",
     "output_type": "stream",
     "text": [
      "\r",
      "Running 200 simulations.:  56%|████████▍      | 112/200 [00:29<00:21,  4.13it/s]"
     ]
    },
    {
     "name": "stdout",
     "output_type": "stream",
     "text": [
      "Adding noise\n",
      "8.050352 0.16738452\n"
     ]
    },
    {
     "name": "stderr",
     "output_type": "stream",
     "text": [
      "\r",
      "Running 200 simulations.:  56%|████████▍      | 113/200 [00:29<00:21,  4.12it/s]"
     ]
    },
    {
     "name": "stdout",
     "output_type": "stream",
     "text": [
      "Adding noise\n",
      "7.962941 1.2477508\n"
     ]
    },
    {
     "name": "stderr",
     "output_type": "stream",
     "text": [
      "\r",
      "Running 200 simulations.:  57%|████████▌      | 114/200 [00:29<00:20,  4.15it/s]"
     ]
    },
    {
     "name": "stdout",
     "output_type": "stream",
     "text": [
      "Adding noise\n",
      "9.3268175 1.4518377\n"
     ]
    },
    {
     "name": "stderr",
     "output_type": "stream",
     "text": [
      "\r",
      "Running 200 simulations.:  57%|████████▋      | 115/200 [00:29<00:20,  4.14it/s]"
     ]
    },
    {
     "name": "stdout",
     "output_type": "stream",
     "text": [
      "Adding noise\n",
      "9.144294 0.41058365\n"
     ]
    },
    {
     "name": "stderr",
     "output_type": "stream",
     "text": [
      "\r",
      "Running 200 simulations.:  58%|████████▋      | 116/200 [00:30<00:20,  4.12it/s]"
     ]
    },
    {
     "name": "stdout",
     "output_type": "stream",
     "text": [
      "Adding noise\n",
      "9.141411 0.53185755\n"
     ]
    },
    {
     "name": "stderr",
     "output_type": "stream",
     "text": [
      "\r",
      "Running 200 simulations.:  58%|████████▊      | 117/200 [00:30<00:20,  4.14it/s]"
     ]
    },
    {
     "name": "stdout",
     "output_type": "stream",
     "text": [
      "Adding noise\n",
      "5.444216 0.18831189\n"
     ]
    },
    {
     "name": "stderr",
     "output_type": "stream",
     "text": [
      "\r",
      "Running 200 simulations.:  59%|████████▊      | 118/200 [00:30<00:19,  4.15it/s]"
     ]
    },
    {
     "name": "stdout",
     "output_type": "stream",
     "text": [
      "Adding noise\n",
      "8.113617 1.5507662\n"
     ]
    },
    {
     "name": "stderr",
     "output_type": "stream",
     "text": [
      "\r",
      "Running 200 simulations.:  60%|████████▉      | 119/200 [00:30<00:19,  4.05it/s]"
     ]
    },
    {
     "name": "stdout",
     "output_type": "stream",
     "text": [
      "Adding noise\n",
      "4.465093 1.1580507\n"
     ]
    },
    {
     "name": "stderr",
     "output_type": "stream",
     "text": [
      "\r",
      "Running 200 simulations.:  60%|█████████      | 120/200 [00:31<00:20,  3.99it/s]"
     ]
    },
    {
     "name": "stdout",
     "output_type": "stream",
     "text": [
      "Adding noise\n",
      "8.202677 1.7914392\n"
     ]
    },
    {
     "name": "stderr",
     "output_type": "stream",
     "text": [
      "\r",
      "Running 200 simulations.:  60%|█████████      | 121/200 [00:31<00:19,  4.07it/s]"
     ]
    },
    {
     "name": "stdout",
     "output_type": "stream",
     "text": [
      "Adding noise\n",
      "8.796371 0.7710158\n"
     ]
    },
    {
     "name": "stderr",
     "output_type": "stream",
     "text": [
      "\r",
      "Running 200 simulations.:  61%|█████████▏     | 122/200 [00:31<00:19,  4.10it/s]"
     ]
    },
    {
     "name": "stdout",
     "output_type": "stream",
     "text": [
      "Adding noise\n",
      "7.339251 0.24078664\n"
     ]
    },
    {
     "name": "stderr",
     "output_type": "stream",
     "text": [
      "\r",
      "Running 200 simulations.:  62%|█████████▏     | 123/200 [00:31<00:18,  4.10it/s]"
     ]
    },
    {
     "name": "stdout",
     "output_type": "stream",
     "text": [
      "Adding noise\n",
      "4.7229023 0.42378473\n"
     ]
    },
    {
     "name": "stderr",
     "output_type": "stream",
     "text": [
      "\r",
      "Running 200 simulations.:  62%|█████████▎     | 124/200 [00:32<00:18,  4.09it/s]"
     ]
    },
    {
     "name": "stdout",
     "output_type": "stream",
     "text": [
      "Adding noise\n",
      "5.307057 1.3533155\n"
     ]
    },
    {
     "name": "stderr",
     "output_type": "stream",
     "text": [
      "\r",
      "Running 200 simulations.:  62%|█████████▍     | 125/200 [00:32<00:18,  4.13it/s]"
     ]
    },
    {
     "name": "stdout",
     "output_type": "stream",
     "text": [
      "Adding noise\n",
      "9.3795395 0.71657735\n"
     ]
    },
    {
     "name": "stderr",
     "output_type": "stream",
     "text": [
      "\r",
      "Running 200 simulations.:  63%|█████████▍     | 126/200 [00:32<00:17,  4.17it/s]"
     ]
    },
    {
     "name": "stdout",
     "output_type": "stream",
     "text": [
      "Adding noise\n",
      "8.386187 0.63081336\n"
     ]
    },
    {
     "name": "stderr",
     "output_type": "stream",
     "text": [
      "\r",
      "Running 200 simulations.:  64%|█████████▌     | 127/200 [00:32<00:17,  4.16it/s]"
     ]
    },
    {
     "name": "stdout",
     "output_type": "stream",
     "text": [
      "Adding noise\n",
      "7.790015 1.3402227\n"
     ]
    },
    {
     "name": "stderr",
     "output_type": "stream",
     "text": [
      "\r",
      "Running 200 simulations.:  64%|█████████▌     | 128/200 [00:33<00:17,  4.09it/s]"
     ]
    },
    {
     "name": "stdout",
     "output_type": "stream",
     "text": [
      "Adding noise\n",
      "9.695747 0.40688846\n"
     ]
    },
    {
     "name": "stderr",
     "output_type": "stream",
     "text": [
      "\r",
      "Running 200 simulations.:  64%|█████████▋     | 129/200 [00:33<00:17,  4.14it/s]"
     ]
    },
    {
     "name": "stdout",
     "output_type": "stream",
     "text": [
      "Adding noise\n",
      "6.3290114 0.33456424\n"
     ]
    },
    {
     "name": "stderr",
     "output_type": "stream",
     "text": [
      "\r",
      "Running 200 simulations.:  65%|█████████▊     | 130/200 [00:33<00:16,  4.18it/s]"
     ]
    },
    {
     "name": "stdout",
     "output_type": "stream",
     "text": [
      "Adding noise\n",
      "8.069757 0.5707107\n"
     ]
    },
    {
     "name": "stderr",
     "output_type": "stream",
     "text": [
      "\r",
      "Running 200 simulations.:  66%|█████████▊     | 131/200 [00:33<00:16,  4.20it/s]"
     ]
    },
    {
     "name": "stdout",
     "output_type": "stream",
     "text": [
      "Adding noise\n",
      "4.392781 0.785034\n"
     ]
    },
    {
     "name": "stderr",
     "output_type": "stream",
     "text": [
      "\r",
      "Running 200 simulations.:  66%|█████████▉     | 132/200 [00:34<00:16,  4.20it/s]"
     ]
    },
    {
     "name": "stdout",
     "output_type": "stream",
     "text": [
      "Adding noise\n",
      "8.56904 0.57287276\n"
     ]
    },
    {
     "name": "stderr",
     "output_type": "stream",
     "text": [
      "\r",
      "Running 200 simulations.:  66%|█████████▉     | 133/200 [00:34<00:15,  4.23it/s]"
     ]
    },
    {
     "name": "stdout",
     "output_type": "stream",
     "text": [
      "Adding noise\n",
      "8.81409 1.0021336\n"
     ]
    },
    {
     "name": "stderr",
     "output_type": "stream",
     "text": [
      "\r",
      "Running 200 simulations.:  67%|██████████     | 134/200 [00:34<00:15,  4.27it/s]"
     ]
    },
    {
     "name": "stdout",
     "output_type": "stream",
     "text": [
      "Adding noise\n",
      "6.5834646 1.4563224\n"
     ]
    },
    {
     "name": "stderr",
     "output_type": "stream",
     "text": [
      "\r",
      "Running 200 simulations.:  68%|██████████▏    | 135/200 [00:34<00:15,  4.24it/s]"
     ]
    },
    {
     "name": "stdout",
     "output_type": "stream",
     "text": [
      "Adding noise\n",
      "5.0112243 1.4506865\n"
     ]
    },
    {
     "name": "stderr",
     "output_type": "stream",
     "text": [
      "\r",
      "Running 200 simulations.:  68%|██████████▏    | 136/200 [00:35<00:15,  4.23it/s]"
     ]
    },
    {
     "name": "stdout",
     "output_type": "stream",
     "text": [
      "Adding noise\n",
      "8.147657 1.6993454\n"
     ]
    },
    {
     "name": "stderr",
     "output_type": "stream",
     "text": [
      "\r",
      "Running 200 simulations.:  68%|██████████▎    | 137/200 [00:35<00:14,  4.24it/s]"
     ]
    },
    {
     "name": "stdout",
     "output_type": "stream",
     "text": [
      "Adding noise\n",
      "8.885458 1.7407469\n"
     ]
    },
    {
     "name": "stderr",
     "output_type": "stream",
     "text": [
      "\r",
      "Running 200 simulations.:  69%|██████████▎    | 138/200 [00:35<00:14,  4.25it/s]"
     ]
    },
    {
     "name": "stdout",
     "output_type": "stream",
     "text": [
      "Adding noise\n",
      "4.3475957 0.7298739\n"
     ]
    },
    {
     "name": "stderr",
     "output_type": "stream",
     "text": [
      "\r",
      "Running 200 simulations.:  70%|██████████▍    | 139/200 [00:35<00:14,  4.27it/s]"
     ]
    },
    {
     "name": "stdout",
     "output_type": "stream",
     "text": [
      "Adding noise\n",
      "8.701178 1.3666885\n"
     ]
    },
    {
     "name": "stderr",
     "output_type": "stream",
     "text": [
      "\r",
      "Running 200 simulations.:  70%|██████████▌    | 140/200 [00:35<00:14,  4.26it/s]"
     ]
    },
    {
     "name": "stdout",
     "output_type": "stream",
     "text": [
      "Adding noise\n",
      "9.449346 0.79253167\n"
     ]
    },
    {
     "name": "stderr",
     "output_type": "stream",
     "text": [
      "\r",
      "Running 200 simulations.:  70%|██████████▌    | 141/200 [00:36<00:13,  4.27it/s]"
     ]
    },
    {
     "name": "stdout",
     "output_type": "stream",
     "text": [
      "Adding noise\n",
      "9.870972 1.5769646\n"
     ]
    },
    {
     "name": "stderr",
     "output_type": "stream",
     "text": [
      "\r",
      "Running 200 simulations.:  71%|██████████▋    | 142/200 [00:36<00:13,  4.29it/s]"
     ]
    },
    {
     "name": "stdout",
     "output_type": "stream",
     "text": [
      "Adding noise\n",
      "6.4417167 1.8696427\n"
     ]
    },
    {
     "name": "stderr",
     "output_type": "stream",
     "text": [
      "\r",
      "Running 200 simulations.:  72%|██████████▋    | 143/200 [00:36<00:13,  4.32it/s]"
     ]
    },
    {
     "name": "stdout",
     "output_type": "stream",
     "text": [
      "Adding noise\n",
      "5.7833796 0.348513\n"
     ]
    },
    {
     "name": "stderr",
     "output_type": "stream",
     "text": [
      "\r",
      "Running 200 simulations.:  72%|██████████▊    | 144/200 [00:36<00:12,  4.31it/s]"
     ]
    },
    {
     "name": "stdout",
     "output_type": "stream",
     "text": [
      "Adding noise\n",
      "9.292362 1.2723241\n"
     ]
    },
    {
     "name": "stderr",
     "output_type": "stream",
     "text": [
      "\r",
      "Running 200 simulations.:  72%|██████████▉    | 145/200 [00:37<00:12,  4.30it/s]"
     ]
    },
    {
     "name": "stdout",
     "output_type": "stream",
     "text": [
      "Adding noise\n",
      "9.127266 1.7167499\n"
     ]
    },
    {
     "name": "stderr",
     "output_type": "stream",
     "text": [
      "\r",
      "Running 200 simulations.:  73%|██████████▉    | 146/200 [00:37<00:12,  4.30it/s]"
     ]
    },
    {
     "name": "stdout",
     "output_type": "stream",
     "text": [
      "Adding noise\n",
      "8.454719 0.5074055\n"
     ]
    },
    {
     "name": "stderr",
     "output_type": "stream",
     "text": [
      "\r",
      "Running 200 simulations.:  74%|███████████    | 147/200 [00:37<00:12,  4.29it/s]"
     ]
    },
    {
     "name": "stdout",
     "output_type": "stream",
     "text": [
      "Adding noise\n",
      "4.0948086 1.2579637\n"
     ]
    },
    {
     "name": "stderr",
     "output_type": "stream",
     "text": [
      "\r",
      "Running 200 simulations.:  74%|███████████    | 148/200 [00:37<00:12,  4.30it/s]"
     ]
    },
    {
     "name": "stdout",
     "output_type": "stream",
     "text": [
      "Adding noise\n",
      "9.26712 0.32116726\n"
     ]
    },
    {
     "name": "stderr",
     "output_type": "stream",
     "text": [
      "\r",
      "Running 200 simulations.:  74%|███████████▏   | 149/200 [00:38<00:11,  4.27it/s]"
     ]
    },
    {
     "name": "stdout",
     "output_type": "stream",
     "text": [
      "Adding noise\n",
      "9.943544 1.1604607\n"
     ]
    },
    {
     "name": "stderr",
     "output_type": "stream",
     "text": [
      "\r",
      "Running 200 simulations.:  75%|███████████▎   | 150/200 [00:38<00:11,  4.27it/s]"
     ]
    },
    {
     "name": "stdout",
     "output_type": "stream",
     "text": [
      "Adding noise\n",
      "7.4973154 1.3250577\n"
     ]
    },
    {
     "name": "stderr",
     "output_type": "stream",
     "text": [
      "\r",
      "Running 200 simulations.:  76%|███████████▎   | 151/200 [00:38<00:11,  4.32it/s]"
     ]
    },
    {
     "name": "stdout",
     "output_type": "stream",
     "text": [
      "Adding noise\n",
      "8.353691 1.8012534\n"
     ]
    },
    {
     "name": "stderr",
     "output_type": "stream",
     "text": [
      "\r",
      "Running 200 simulations.:  76%|███████████▍   | 152/200 [00:38<00:11,  4.25it/s]"
     ]
    },
    {
     "name": "stdout",
     "output_type": "stream",
     "text": [
      "Adding noise\n",
      "8.72258 0.19453593\n"
     ]
    },
    {
     "name": "stderr",
     "output_type": "stream",
     "text": [
      "\r",
      "Running 200 simulations.:  76%|███████████▍   | 153/200 [00:39<00:11,  4.01it/s]"
     ]
    },
    {
     "name": "stdout",
     "output_type": "stream",
     "text": [
      "Adding noise\n",
      "6.79033 1.5060059\n"
     ]
    },
    {
     "name": "stderr",
     "output_type": "stream",
     "text": [
      "\r",
      "Running 200 simulations.:  77%|███████████▌   | 154/200 [00:39<00:11,  3.99it/s]"
     ]
    },
    {
     "name": "stdout",
     "output_type": "stream",
     "text": [
      "Adding noise\n",
      "6.5078387 0.970449\n"
     ]
    },
    {
     "name": "stderr",
     "output_type": "stream",
     "text": [
      "\r",
      "Running 200 simulations.:  78%|███████████▋   | 155/200 [00:39<00:11,  4.00it/s]"
     ]
    },
    {
     "name": "stdout",
     "output_type": "stream",
     "text": [
      "Adding noise\n",
      "8.7911415 0.20357466\n"
     ]
    },
    {
     "name": "stderr",
     "output_type": "stream",
     "text": [
      "\r",
      "Running 200 simulations.:  78%|███████████▋   | 156/200 [00:39<00:11,  3.97it/s]"
     ]
    },
    {
     "name": "stdout",
     "output_type": "stream",
     "text": [
      "Adding noise\n",
      "4.8992057 1.2294478\n"
     ]
    },
    {
     "name": "stderr",
     "output_type": "stream",
     "text": [
      "\r",
      "Running 200 simulations.:  78%|███████████▊   | 157/200 [00:40<00:10,  4.05it/s]"
     ]
    },
    {
     "name": "stdout",
     "output_type": "stream",
     "text": [
      "Adding noise\n",
      "5.518735 0.5697925\n"
     ]
    },
    {
     "name": "stderr",
     "output_type": "stream",
     "text": [
      "\r",
      "Running 200 simulations.:  79%|███████████▊   | 158/200 [00:40<00:10,  4.06it/s]"
     ]
    },
    {
     "name": "stdout",
     "output_type": "stream",
     "text": [
      "Adding noise\n",
      "8.129078 1.0359437\n"
     ]
    },
    {
     "name": "stderr",
     "output_type": "stream",
     "text": [
      "\r",
      "Running 200 simulations.:  80%|███████████▉   | 159/200 [00:40<00:10,  3.94it/s]"
     ]
    },
    {
     "name": "stdout",
     "output_type": "stream",
     "text": [
      "Adding noise\n",
      "5.452263 0.3024949\n"
     ]
    },
    {
     "name": "stderr",
     "output_type": "stream",
     "text": [
      "\r",
      "Running 200 simulations.:  80%|████████████   | 160/200 [00:40<00:09,  4.02it/s]"
     ]
    },
    {
     "name": "stdout",
     "output_type": "stream",
     "text": [
      "Adding noise\n",
      "7.317911 1.9487847\n"
     ]
    },
    {
     "name": "stderr",
     "output_type": "stream",
     "text": [
      "\r",
      "Running 200 simulations.:  80%|████████████   | 161/200 [00:41<00:09,  4.08it/s]"
     ]
    },
    {
     "name": "stdout",
     "output_type": "stream",
     "text": [
      "Adding noise\n",
      "7.8907523 1.2068216\n"
     ]
    },
    {
     "name": "stderr",
     "output_type": "stream",
     "text": [
      "\r",
      "Running 200 simulations.:  81%|████████████▏  | 162/200 [00:41<00:09,  4.09it/s]"
     ]
    },
    {
     "name": "stdout",
     "output_type": "stream",
     "text": [
      "Adding noise\n",
      "8.255968 1.2542489\n"
     ]
    },
    {
     "name": "stderr",
     "output_type": "stream",
     "text": [
      "\r",
      "Running 200 simulations.:  82%|████████████▏  | 163/200 [00:41<00:09,  4.10it/s]"
     ]
    },
    {
     "name": "stdout",
     "output_type": "stream",
     "text": [
      "Adding noise\n",
      "6.156117 0.21852136\n"
     ]
    },
    {
     "name": "stderr",
     "output_type": "stream",
     "text": [
      "\r",
      "Running 200 simulations.:  82%|████████████▎  | 164/200 [00:41<00:09,  3.95it/s]"
     ]
    },
    {
     "name": "stdout",
     "output_type": "stream",
     "text": [
      "Adding noise\n",
      "8.211909 0.76046187\n"
     ]
    },
    {
     "name": "stderr",
     "output_type": "stream",
     "text": [
      "\r",
      "Running 200 simulations.:  82%|████████████▍  | 165/200 [00:42<00:09,  3.84it/s]"
     ]
    },
    {
     "name": "stdout",
     "output_type": "stream",
     "text": [
      "Adding noise\n",
      "7.778638 0.47398034\n"
     ]
    },
    {
     "name": "stderr",
     "output_type": "stream",
     "text": [
      "\r",
      "Running 200 simulations.:  83%|████████████▍  | 166/200 [00:42<00:08,  3.91it/s]"
     ]
    },
    {
     "name": "stdout",
     "output_type": "stream",
     "text": [
      "Adding noise\n",
      "6.405522 1.6115245\n"
     ]
    },
    {
     "name": "stderr",
     "output_type": "stream",
     "text": [
      "\r",
      "Running 200 simulations.:  84%|████████████▌  | 167/200 [00:42<00:08,  4.00it/s]"
     ]
    },
    {
     "name": "stdout",
     "output_type": "stream",
     "text": [
      "Adding noise\n",
      "4.052931 1.6351846\n"
     ]
    },
    {
     "name": "stderr",
     "output_type": "stream",
     "text": [
      "\r",
      "Running 200 simulations.:  84%|████████████▌  | 168/200 [00:42<00:07,  4.02it/s]"
     ]
    },
    {
     "name": "stdout",
     "output_type": "stream",
     "text": [
      "Adding noise\n",
      "5.865235 1.5443758\n"
     ]
    },
    {
     "name": "stderr",
     "output_type": "stream",
     "text": [
      "\r",
      "Running 200 simulations.:  84%|████████████▋  | 169/200 [00:43<00:07,  4.05it/s]"
     ]
    },
    {
     "name": "stdout",
     "output_type": "stream",
     "text": [
      "Adding noise\n",
      "5.2914896 1.7437705\n"
     ]
    },
    {
     "name": "stderr",
     "output_type": "stream",
     "text": [
      "\r",
      "Running 200 simulations.:  85%|████████████▊  | 170/200 [00:43<00:07,  4.03it/s]"
     ]
    },
    {
     "name": "stdout",
     "output_type": "stream",
     "text": [
      "Adding noise\n",
      "9.124251 0.5619424\n"
     ]
    },
    {
     "name": "stderr",
     "output_type": "stream",
     "text": [
      "\r",
      "Running 200 simulations.:  86%|████████████▊  | 171/200 [00:43<00:07,  4.01it/s]"
     ]
    },
    {
     "name": "stdout",
     "output_type": "stream",
     "text": [
      "Adding noise\n",
      "4.3193955 1.095009\n"
     ]
    },
    {
     "name": "stderr",
     "output_type": "stream",
     "text": [
      "\r",
      "Running 200 simulations.:  86%|████████████▉  | 172/200 [00:43<00:06,  4.04it/s]"
     ]
    },
    {
     "name": "stdout",
     "output_type": "stream",
     "text": [
      "Adding noise\n",
      "6.7367964 0.74491775\n"
     ]
    },
    {
     "name": "stderr",
     "output_type": "stream",
     "text": [
      "\r",
      "Running 200 simulations.:  86%|████████████▉  | 173/200 [00:44<00:06,  3.98it/s]"
     ]
    },
    {
     "name": "stdout",
     "output_type": "stream",
     "text": [
      "Adding noise\n",
      "6.772338 1.9978398\n"
     ]
    },
    {
     "name": "stderr",
     "output_type": "stream",
     "text": [
      "\r",
      "Running 200 simulations.:  87%|█████████████  | 174/200 [00:44<00:06,  3.85it/s]"
     ]
    },
    {
     "name": "stdout",
     "output_type": "stream",
     "text": [
      "Adding noise\n",
      "8.590078 1.7230823\n"
     ]
    },
    {
     "name": "stderr",
     "output_type": "stream",
     "text": [
      "\r",
      "Running 200 simulations.:  88%|█████████████▏ | 175/200 [00:44<00:06,  3.89it/s]"
     ]
    },
    {
     "name": "stdout",
     "output_type": "stream",
     "text": [
      "Adding noise\n",
      "9.093913 1.1206925\n"
     ]
    },
    {
     "name": "stderr",
     "output_type": "stream",
     "text": [
      "\r",
      "Running 200 simulations.:  88%|█████████████▏ | 176/200 [00:44<00:06,  3.85it/s]"
     ]
    },
    {
     "name": "stdout",
     "output_type": "stream",
     "text": [
      "Adding noise\n",
      "9.899616 1.8765109\n"
     ]
    },
    {
     "name": "stderr",
     "output_type": "stream",
     "text": [
      "\r",
      "Running 200 simulations.:  88%|█████████████▎ | 177/200 [00:45<00:06,  3.76it/s]"
     ]
    },
    {
     "name": "stdout",
     "output_type": "stream",
     "text": [
      "Adding noise\n",
      "4.207448 0.64504236\n"
     ]
    },
    {
     "name": "stderr",
     "output_type": "stream",
     "text": [
      "\r",
      "Running 200 simulations.:  89%|█████████████▎ | 178/200 [00:45<00:05,  3.87it/s]"
     ]
    },
    {
     "name": "stdout",
     "output_type": "stream",
     "text": [
      "Adding noise\n",
      "7.263395 0.9879462\n"
     ]
    },
    {
     "name": "stderr",
     "output_type": "stream",
     "text": [
      "\r",
      "Running 200 simulations.:  90%|█████████████▍ | 179/200 [00:45<00:05,  3.88it/s]"
     ]
    },
    {
     "name": "stdout",
     "output_type": "stream",
     "text": [
      "Adding noise\n",
      "5.699099 1.9001902\n"
     ]
    },
    {
     "name": "stderr",
     "output_type": "stream",
     "text": [
      "\r",
      "Running 200 simulations.:  90%|█████████████▌ | 180/200 [00:45<00:05,  3.75it/s]"
     ]
    },
    {
     "name": "stdout",
     "output_type": "stream",
     "text": [
      "Adding noise\n",
      "6.4152536 0.9277984\n"
     ]
    },
    {
     "name": "stderr",
     "output_type": "stream",
     "text": [
      "\r",
      "Running 200 simulations.:  90%|█████████████▌ | 181/200 [00:46<00:05,  3.47it/s]"
     ]
    },
    {
     "name": "stdout",
     "output_type": "stream",
     "text": [
      "Adding noise\n",
      "5.0661573 0.89852995\n"
     ]
    },
    {
     "name": "stderr",
     "output_type": "stream",
     "text": [
      "\r",
      "Running 200 simulations.:  91%|█████████████▋ | 182/200 [00:46<00:05,  3.44it/s]"
     ]
    },
    {
     "name": "stdout",
     "output_type": "stream",
     "text": [
      "Adding noise\n",
      "8.176977 1.2180285\n"
     ]
    },
    {
     "name": "stderr",
     "output_type": "stream",
     "text": [
      "\r",
      "Running 200 simulations.:  92%|█████████████▋ | 183/200 [00:46<00:04,  3.59it/s]"
     ]
    },
    {
     "name": "stdout",
     "output_type": "stream",
     "text": [
      "Adding noise\n",
      "9.804686 1.6210816\n"
     ]
    },
    {
     "name": "stderr",
     "output_type": "stream",
     "text": [
      "\r",
      "Running 200 simulations.:  92%|█████████████▊ | 184/200 [00:47<00:04,  3.71it/s]"
     ]
    },
    {
     "name": "stdout",
     "output_type": "stream",
     "text": [
      "Adding noise\n",
      "4.7184668 0.38497978\n"
     ]
    },
    {
     "name": "stderr",
     "output_type": "stream",
     "text": [
      "\r",
      "Running 200 simulations.:  92%|█████████████▉ | 185/200 [00:47<00:03,  3.84it/s]"
     ]
    },
    {
     "name": "stdout",
     "output_type": "stream",
     "text": [
      "Adding noise\n",
      "4.0900908 0.245839\n"
     ]
    },
    {
     "name": "stderr",
     "output_type": "stream",
     "text": [
      "\r",
      "Running 200 simulations.:  93%|█████████████▉ | 186/200 [00:47<00:03,  3.90it/s]"
     ]
    },
    {
     "name": "stdout",
     "output_type": "stream",
     "text": [
      "Adding noise\n",
      "7.7823234 1.54817\n"
     ]
    },
    {
     "name": "stderr",
     "output_type": "stream",
     "text": [
      "\r",
      "Running 200 simulations.:  94%|██████████████ | 187/200 [00:47<00:03,  4.00it/s]"
     ]
    },
    {
     "name": "stdout",
     "output_type": "stream",
     "text": [
      "Adding noise\n",
      "5.3163376 1.6851468\n"
     ]
    },
    {
     "name": "stderr",
     "output_type": "stream",
     "text": [
      "\r",
      "Running 200 simulations.:  94%|██████████████ | 188/200 [00:48<00:03,  3.98it/s]"
     ]
    },
    {
     "name": "stdout",
     "output_type": "stream",
     "text": [
      "Adding noise\n",
      "4.496972 0.35220116\n"
     ]
    },
    {
     "name": "stderr",
     "output_type": "stream",
     "text": [
      "\r",
      "Running 200 simulations.:  94%|██████████████▏| 189/200 [00:48<00:02,  3.98it/s]"
     ]
    },
    {
     "name": "stdout",
     "output_type": "stream",
     "text": [
      "Adding noise\n",
      "9.400712 1.6867313\n"
     ]
    },
    {
     "name": "stderr",
     "output_type": "stream",
     "text": [
      "\r",
      "Running 200 simulations.:  95%|██████████████▎| 190/200 [00:48<00:02,  4.08it/s]"
     ]
    },
    {
     "name": "stdout",
     "output_type": "stream",
     "text": [
      "Adding noise\n",
      "9.841932 0.5995697\n"
     ]
    },
    {
     "name": "stderr",
     "output_type": "stream",
     "text": [
      "\r",
      "Running 200 simulations.:  96%|██████████████▎| 191/200 [00:48<00:02,  4.09it/s]"
     ]
    },
    {
     "name": "stdout",
     "output_type": "stream",
     "text": [
      "Adding noise\n",
      "4.528117 1.6802149\n"
     ]
    },
    {
     "name": "stderr",
     "output_type": "stream",
     "text": [
      "\r",
      "Running 200 simulations.:  96%|██████████████▍| 192/200 [00:48<00:01,  4.06it/s]"
     ]
    },
    {
     "name": "stdout",
     "output_type": "stream",
     "text": [
      "Adding noise\n",
      "4.0321093 0.76022947\n"
     ]
    },
    {
     "name": "stderr",
     "output_type": "stream",
     "text": [
      "\r",
      "Running 200 simulations.:  96%|██████████████▍| 193/200 [00:49<00:01,  4.04it/s]"
     ]
    },
    {
     "name": "stdout",
     "output_type": "stream",
     "text": [
      "Adding noise\n",
      "8.864024 1.2266229\n"
     ]
    },
    {
     "name": "stderr",
     "output_type": "stream",
     "text": [
      "\r",
      "Running 200 simulations.:  97%|██████████████▌| 194/200 [00:49<00:01,  4.11it/s]"
     ]
    },
    {
     "name": "stdout",
     "output_type": "stream",
     "text": [
      "Adding noise\n",
      "5.958113 0.5589862\n"
     ]
    },
    {
     "name": "stderr",
     "output_type": "stream",
     "text": [
      "\r",
      "Running 200 simulations.:  98%|██████████████▋| 195/200 [00:49<00:01,  4.07it/s]"
     ]
    },
    {
     "name": "stdout",
     "output_type": "stream",
     "text": [
      "Adding noise\n",
      "7.7415857 0.4139623\n"
     ]
    },
    {
     "name": "stderr",
     "output_type": "stream",
     "text": [
      "\r",
      "Running 200 simulations.:  98%|██████████████▋| 196/200 [00:49<00:01,  3.89it/s]"
     ]
    },
    {
     "name": "stdout",
     "output_type": "stream",
     "text": [
      "Adding noise\n",
      "8.898162 1.0866919\n"
     ]
    },
    {
     "name": "stderr",
     "output_type": "stream",
     "text": [
      "\r",
      "Running 200 simulations.:  98%|██████████████▊| 197/200 [00:50<00:00,  3.82it/s]"
     ]
    },
    {
     "name": "stdout",
     "output_type": "stream",
     "text": [
      "Adding noise\n",
      "9.394958 1.8675421\n"
     ]
    },
    {
     "name": "stderr",
     "output_type": "stream",
     "text": [
      "\r",
      "Running 200 simulations.:  99%|██████████████▊| 198/200 [00:50<00:00,  3.81it/s]"
     ]
    },
    {
     "name": "stdout",
     "output_type": "stream",
     "text": [
      "Adding noise\n",
      "9.46162 1.348558\n"
     ]
    },
    {
     "name": "stderr",
     "output_type": "stream",
     "text": [
      "\r",
      "Running 200 simulations.: 100%|██████████████▉| 199/200 [00:50<00:00,  3.83it/s]"
     ]
    },
    {
     "name": "stdout",
     "output_type": "stream",
     "text": [
      "Adding noise\n",
      "5.447887 1.2468009\n"
     ]
    },
    {
     "name": "stderr",
     "output_type": "stream",
     "text": [
      "Running 200 simulations.: 100%|███████████████| 200/200 [00:51<00:00,  3.92it/s]"
     ]
    },
    {
     "name": "stdout",
     "output_type": "stream",
     "text": [
      "Adding noise\n",
      "\r",
      " Training neural network. Epochs trained: 1\r",
      " Training neural network. Epochs trained: 2\r",
      " Training neural network. Epochs trained: 3\r",
      " Training neural network. Epochs trained: 4\r",
      " Training neural network. Epochs trained: 5\r",
      " Training neural network. Epochs trained: 6"
     ]
    },
    {
     "name": "stderr",
     "output_type": "stream",
     "text": [
      "\n"
     ]
    },
    {
     "name": "stdout",
     "output_type": "stream",
     "text": [
      " Neural network successfully converged after 70 epochs."
     ]
    }
   ],
   "source": [
    "num_dim = 2\n",
    "prior = utils.BoxUniform(low= torch.tensor([4, 0.1]), high= torch.tensor([10, 2]))\n",
    "bins=40\n",
    "\n",
    "#noise_grid = np.load(\"/Users/anirbanroy/Documents/Lim-cross-correlation/codes/Noise_grid_220.npz\")['grid']\n",
    "\n",
    "\n",
    "\n",
    "def simulator1(parameter_set, noise=True, bins=bins, z =5.8):\n",
    "    small_h = 0.68\n",
    "    #print(\"parameter set\", parameter_set)\n",
    "    parameter_set = parameter_set.numpy()\n",
    "    a_off = parameter_set[0]\n",
    "    b_off = parameter_set[1]\n",
    "    \n",
    "    print(a_off, b_off)\n",
    "    params_fisher={'a_off': a_off, \n",
    "                   'b_off': b_off\n",
    "                  }\n",
    "    \n",
    "\n",
    "    \n",
    "    line_name='CII158'\n",
    "    model_name=\"Alma_scalling\"\n",
    "    sfr_model=\"Behroozi19\"\n",
    "    mmin=1e10\n",
    "    use_scatter=False\n",
    "    halocat_file_type=\"input_cat\"\n",
    "    ngrid=512\n",
    "    boxsize_x = 80 * small_h\n",
    "    boxsize_y = 80 * small_h\n",
    "    boxsize_z = 80 * small_h\n",
    "\n",
    "\n",
    "    hf = \"/Users/anirbanroy/Documents/LIM_data/Box80_new/halos_z5.80_512_80Mpc.npz\"\n",
    "      \n",
    "    Igcal= ll.make_quantity_rectangular_grid_new(hf, \n",
    "                                           z,\n",
    "                                           sfr_model=sfr_model,\n",
    "                                           model_name= model_name,\n",
    "                                           quantity='intensity', \n",
    "                                           line_name = line_name, \n",
    "                                           halo_cutoff_mass= mmin, \n",
    "                                           use_scatter=use_scatter,\n",
    "                                           halocat_type=halocat_file_type,\n",
    "                                           ngrid_x = ngrid, \n",
    "                                           ngrid_y = ngrid, \n",
    "                                           ngrid_z = ngrid,\n",
    "                                           boxsize_x=boxsize_x,\n",
    "                                           boxsize_y=boxsize_y,\n",
    "                                           boxsize_z=boxsize_z,\n",
    "                                           nu_obs = 280,\n",
    "                                           dnu_obs = 2.8,\n",
    "                                           theta_fwhm = 1,\n",
    "                                           z_evolution = False,\n",
    "                                           params_fisher= params_fisher)\n",
    "\n",
    "    \n",
    "    #Igcal[Igcal <= 0] = 1e-20 #[Igcal>=1]\n",
    "    if noise:\n",
    "        print(\"Adding noise\")\n",
    "        Igcal += Ignoise\n",
    "        \n",
    "    delta_f = Igcal [Igcal>1]\n",
    "    delta_f = delta_f.flatten()\n",
    "    range_pdf = [1e-1, 1e1]\n",
    "    hist, bine = np.histogram(np.log10(delta_f), bins=bins, range = range_pdf, density = True)\n",
    "    \n",
    "    #hist, bine = np.histogram(np.log10(delta_f), bins=50, density = False)\n",
    "    \n",
    "    return torch.tensor(hist)\n",
    "    \n",
    "\n",
    "posterior1 = infer(simulator1, prior, method=\"SNPE\", num_simulations=200)"
   ]
  },
  {
   "cell_type": "code",
   "execution_count": 66,
   "id": "4714cec0",
   "metadata": {},
   "outputs": [
    {
     "name": "stdout",
     "output_type": "stream",
     "text": [
      "6.5 0.59\n",
      "Adding noise\n"
     ]
    }
   ],
   "source": [
    "\n",
    "observation1 = simulator1(torch.tensor([6.5, 0.59]), z =5.8)\n"
   ]
  },
  {
   "cell_type": "code",
   "execution_count": 67,
   "id": "376160ff",
   "metadata": {},
   "outputs": [
    {
     "name": "stderr",
     "output_type": "stream",
     "text": [
      "Drawing 100000 posterior samples: 102274it [00:00, 146347.01it/s]               \n"
     ]
    }
   ],
   "source": [
    "samples1 = posterior1.sample((100000,), x=observation1)"
   ]
  },
  {
   "cell_type": "code",
   "execution_count": 1,
   "id": "bfc17301",
   "metadata": {},
   "outputs": [
    {
     "ename": "NameError",
     "evalue": "name 'posterior1' is not defined",
     "output_type": "error",
     "traceback": [
      "\u001b[0;31m---------------------------------------------------------------------------\u001b[0m",
      "\u001b[0;31mNameError\u001b[0m                                 Traceback (most recent call last)",
      "\u001b[0;32m/var/folders/l9/0clfq78540nc4fm782rtkbkc0000gn/T/ipykernel_52756/2596697586.py\u001b[0m in \u001b[0;36m<module>\u001b[0;34m\u001b[0m\n\u001b[0;32m----> 1\u001b[0;31m \u001b[0mlog_probability\u001b[0m \u001b[0;34m=\u001b[0m \u001b[0mposterior1\u001b[0m\u001b[0;34m.\u001b[0m\u001b[0mlog_prob\u001b[0m\u001b[0;34m(\u001b[0m\u001b[0msamples1\u001b[0m\u001b[0;34m,\u001b[0m \u001b[0mx\u001b[0m\u001b[0;34m=\u001b[0m\u001b[0mobservation1\u001b[0m\u001b[0;34m)\u001b[0m\u001b[0;34m\u001b[0m\u001b[0;34m\u001b[0m\u001b[0m\n\u001b[0m\u001b[1;32m      2\u001b[0m \u001b[0;31m#_ = analysis.pairplot(samples1, limits=[[4, 10], [0., 2.0]],\u001b[0m\u001b[0;34m\u001b[0m\u001b[0;34m\u001b[0m\u001b[0m\n\u001b[1;32m      3\u001b[0m \u001b[0;31m#                      labels=[r'$a_{\\rm off}$', r'$b_{\\rm off}$'], figsize=(6, 6))\u001b[0m\u001b[0;34m\u001b[0m\u001b[0;34m\u001b[0m\u001b[0m\n\u001b[1;32m      4\u001b[0m \u001b[0;34m\u001b[0m\u001b[0m\n\u001b[1;32m      5\u001b[0m _ = analysis.pairplot([samples,  samples1], limits=[[4, 10], [0., 2.0]],\n",
      "\u001b[0;31mNameError\u001b[0m: name 'posterior1' is not defined"
     ]
    }
   ],
   "source": [
    "log_probability = posterior1.log_prob(samples1, x=observation1)\n",
    "#_ = analysis.pairplot(samples1, limits=[[4, 10], [0., 2.0]],\n",
    "#                      labels=[r'$a_{\\rm off}$', r'$b_{\\rm off}$'], figsize=(6, 6))\n",
    "\n",
    "_ = analysis.pairplot([samples,  samples1], limits=[[4, 10], [0., 2.0]],\n",
    "                      labels=[r'$a_{\\rm off}$', r'$b_{\\rm off}$'], show_legend=True, figsize=(6, 6))\n",
    "\n",
    "plt.savefig(\"LIM_posterior_noise.pdf\")"
   ]
  },
  {
   "cell_type": "code",
   "execution_count": 75,
   "id": "aa9813e3",
   "metadata": {},
   "outputs": [
    {
     "data": {
      "text/plain": [
       "0.0002908882086657216"
      ]
     },
     "execution_count": 75,
     "metadata": {},
     "output_type": "execute_result"
    }
   ],
   "source": [
    "np.pi/180 * (1.0/60)"
   ]
  },
  {
   "cell_type": "code",
   "execution_count": 69,
   "id": "0f6d7399",
   "metadata": {},
   "outputs": [
    {
     "data": {
      "image/png": "[encoded data removed]",
      "text/plain": [
       "<Figure size 800x800 with 4 Axes>"
      ]
     },
     "metadata": {},
     "output_type": "display_data"
    }
   ],
   "source": [
    "data1 = samples1.numpy()\n",
    "c = ChainConsumer()\n",
    "c.add_chain(data1, parameters=[r\"$a_{\\rm off}$\", r\"$b_{\\rm off}$\"])\n",
    "fig = c.plotter.plot(figsize=\"column\", truth=[0.0, 4.0])\n",
    "\n",
    "# If we wanted to save to file, we would instead have written\n",
    "# fig = c.plotter.plot(filename=\"location\", figsize=\"column\", truth=[0.0, 4.0])\n",
    "\n",
    "# If we wanted to display the plot interactively...\n",
    "# fig = c.plotter.plot(display=True, figsize=\"column\", truth=[0.0, 4.0])\n",
    "\n",
    "fig.set_size_inches(3 + fig.get_size_inches())  # Resize fig for doco. You don't need this.\n"
   ]
  },
  {
   "cell_type": "code",
   "execution_count": 70,
   "id": "629a2a8c",
   "metadata": {},
   "outputs": [
    {
     "data": {
      "image/png": "[encoded data removed]",
      "text/plain": [
       "<Figure size 800x800 with 4 Axes>"
      ]
     },
     "metadata": {},
     "output_type": "display_data"
    }
   ],
   "source": [
    "import numpy as np\n",
    "from chainconsumer import ChainConsumer\n",
    "\n",
    "colors=['red', 'green', '#FF0101', 'brown', 'magenta']\n",
    "c = ChainConsumer()\n",
    "\n",
    "c.add_chain(data, parameters=[r\"$a_{\\rm off}$\", r\"$b_{\\rm off}$\"], name = 'signal + beam')\n",
    "\n",
    "c.add_chain(data1, parameters=[r\"$a_{\\rm off}$\", r\"$b_{\\rm off}$\"], name = 'signal + noise + beam')\n",
    "\n",
    "c.configure(usetex=True, serif=True, diagonal_tick_labels=False, tick_font_size=15, label_font_size=25, max_ticks=2,\n",
    "               colors=colors, shade=True, spacing=1.5, shade_alpha=[0.5,0.5,0.7,0.7],\n",
    "            bar_shade=True, linewidths=[2.0, 2.0, 2.0, 2.0],\n",
    "           legend_kwargs={\"loc\": \"upper right\", \"fontsize\": 25})\n",
    "\n",
    "fig = c.plotter.plot(figsize=(7,7))\n",
    "fig.set_size_inches(1+ fig.get_size_inches())\n",
    "\n",
    "plt.savefig(\"contours_LIM.pdf\")\n"
   ]
  },
  {
   "cell_type": "code",
   "execution_count": 81,
   "id": "8534a43c",
   "metadata": {},
   "outputs": [
    {
     "name": "stdout",
     "output_type": "stream",
     "text": [
      "6.5 0.99\n",
      "7.0 0.99\n",
      "7.5 0.99\n",
      "8.0 0.99\n"
     ]
    }
   ],
   "source": [
    "x1 = simulator(torch.tensor([6.5, 0.99]), z =5.8).numpy()\n",
    "x2 = simulator(torch.tensor([7.0, 0.99]), z =5.8).numpy()\n",
    "x3 = simulator(torch.tensor([7.5, 0.99]\n",
    "                           ), z =5.8).numpy()\n",
    "x4 = simulator(torch.tensor([8.0, 0.99]), z =5.8).numpy()"
   ]
  },
  {
   "cell_type": "code",
   "execution_count": 88,
   "id": "490fdc95",
   "metadata": {},
   "outputs": [
    {
     "data": {
      "text/plain": [
       "40"
      ]
     },
     "execution_count": 88,
     "metadata": {},
     "output_type": "execute_result"
    }
   ],
   "source": [
    "len(bine)"
   ]
  },
  {
   "cell_type": "code",
   "execution_count": 91,
   "id": "222fd422",
   "metadata": {},
   "outputs": [
    {
     "name": "stdout",
     "output_type": "stream",
     "text": [
      "6.5 0.99\n",
      "Adding noise\n"
     ]
    }
   ],
   "source": [
    "x5 = simulator1(torch.tensor([6.5, 0.99]), z =5.8).numpy()"
   ]
  },
  {
   "cell_type": "code",
   "execution_count": 92,
   "id": "6bca4b8c",
   "metadata": {},
   "outputs": [
    {
     "data": {
      "text/plain": [
       "100"
      ]
     },
     "execution_count": 92,
     "metadata": {},
     "output_type": "execute_result"
    }
   ],
   "source": [
    "bine = np.linspace(-1, 1e1, num=100)\n",
    "len(x1)"
   ]
  },
  {
   "cell_type": "code",
   "execution_count": 96,
   "id": "e03c549e",
   "metadata": {},
   "outputs": [
    {
     "data": {
      "text/plain": [
       "Text(0.5, 0, 'Intensity')"
      ]
     },
     "execution_count": 96,
     "metadata": {},
     "output_type": "execute_result"
    },
    {
     "data": {
      "image/png": "[encoded data removed]",
      "text/plain": [
       "<Figure size 700x700 with 1 Axes>"
      ]
     },
     "metadata": {},
     "output_type": "display_data"
    }
   ],
   "source": [
    "from limpy.plotsettings import *\n",
    "plt.figure(figsize=[7,7], dpi=100)\n",
    "\n",
    "xarray = [x1, x2, x3, x4]\n",
    "xlabel = [r'$a_{\\rm off}= 6.5$', r'$a_{\\rm off}= 7.0$', r'$a_{\\rm off}= 7.5$', r'$a_{\\rm off}= 8.0$']\n",
    "num_plots = 6\n",
    "\n",
    "colormap = plt.cm.gist_ncar\n",
    "plt.gca().set_prop_cycle(plt.cycler('color', plt.cm.inferno(np.linspace(0, 1, num_plots))))\n",
    "\n",
    "\n",
    "for i in range(len(xarray)):\n",
    "    plt.plot(bine, xarray[i],linestyle='--', lw=1,label = xlabel[i])\n",
    "    \n",
    "#plt.plot(bine, x5,linestyle='-', lw=3, label = xlabel[i])\n",
    "    \n",
    "plt.legend(loc=0, frameon=False)\n",
    "\n",
    "plt.ylabel(\"PDF\")\n",
    "plt.xlabel(\"Intensity\")"
   ]
  },
  {
   "cell_type": "code",
   "execution_count": null,
   "id": "7b958623",
   "metadata": {},
   "outputs": [],
   "source": []
  }
 ],
 "metadata": {
  "kernelspec": {
   "display_name": "Python 3 (ipykernel)",
   "language": "python",
   "name": "python3"
  },
  "language_info": {
   "codemirror_mode": {
    "name": "ipython",
    "version": 3
   },
   "file_extension": ".py",
   "mimetype": "text/x-python",
   "name": "python",
   "nbconvert_exporter": "python",
   "pygments_lexer": "ipython3",
   "version": "3.9.13"
  }
 },
 "nbformat": 4,
 "nbformat_minor": 5
}

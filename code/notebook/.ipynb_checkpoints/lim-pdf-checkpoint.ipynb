{
 "cells": [
  {
   "cell_type": "code",
   "execution_count": 1,
   "id": "b681453a",
   "metadata": {},
   "outputs": [
    {
     "ename": "ModuleNotFoundError",
     "evalue": "No module named 'limpy'",
     "output_type": "error",
     "traceback": [
      "\u001b[0;31m---------------------------------------------------------------------------\u001b[0m",
      "\u001b[0;31mModuleNotFoundError\u001b[0m                       Traceback (most recent call last)",
      "\u001b[0;32m/var/folders/l9/0clfq78540nc4fm782rtkbkc0000gn/T/ipykernel_5753/2524280616.py\u001b[0m in \u001b[0;36m<module>\u001b[0;34m\u001b[0m\n\u001b[1;32m      1\u001b[0m \u001b[0;32mimport\u001b[0m \u001b[0mnumpy\u001b[0m \u001b[0;32mas\u001b[0m \u001b[0mnp\u001b[0m\u001b[0;34m\u001b[0m\u001b[0;34m\u001b[0m\u001b[0m\n\u001b[0;32m----> 2\u001b[0;31m \u001b[0;32mimport\u001b[0m \u001b[0mlimpy\u001b[0m\u001b[0;34m.\u001b[0m\u001b[0mlline\u001b[0m \u001b[0;32mas\u001b[0m \u001b[0mll\u001b[0m\u001b[0;34m\u001b[0m\u001b[0;34m\u001b[0m\u001b[0m\n\u001b[0m\u001b[1;32m      3\u001b[0m \u001b[0;32mimport\u001b[0m \u001b[0mlimpy\u001b[0m\u001b[0;34m.\u001b[0m\u001b[0mtheory\u001b[0m \u001b[0;32mas\u001b[0m \u001b[0mlt\u001b[0m\u001b[0;34m\u001b[0m\u001b[0;34m\u001b[0m\u001b[0m\n\u001b[1;32m      4\u001b[0m \u001b[0;32mimport\u001b[0m \u001b[0mlimpy\u001b[0m\u001b[0;34m.\u001b[0m\u001b[0mutils\u001b[0m \u001b[0;32mas\u001b[0m \u001b[0mlu\u001b[0m\u001b[0;34m\u001b[0m\u001b[0;34m\u001b[0m\u001b[0m\n\u001b[1;32m      5\u001b[0m \u001b[0;32mimport\u001b[0m \u001b[0mlimpy\u001b[0m\u001b[0;34m.\u001b[0m\u001b[0mparams\u001b[0m \u001b[0;32mas\u001b[0m \u001b[0mp\u001b[0m\u001b[0;34m\u001b[0m\u001b[0;34m\u001b[0m\u001b[0m\n",
      "\u001b[0;31mModuleNotFoundError\u001b[0m: No module named 'limpy'"
     ]
    }
   ],
   "source": [
    "import numpy as np\n",
    "import limpy.lline as ll\n",
    "import limpy.theory as lt\n",
    "import limpy.utils as lu\n",
    "import limpy.params as p\n",
    "import limpy.powerspectra as lp\n",
    "import matplotlib.pyplot as plt\n",
    "plt.style.use('seaborn-colorblind')\n",
    "\n",
    "from limpy.plotsettings import *\n",
    "\n",
    "\n",
    "import matplotlib as mpl\n",
    "import matplotlib.colors as colors\n",
    "from matplotlib import gridspec"
   ]
  },
  {
   "cell_type": "code",
   "execution_count": null,
   "id": "c870f86d",
   "metadata": {},
   "outputs": [],
   "source": [
    "import limpy.params as p\n",
    "def configure_params_fisher(line_name=\"CII158\", step_size=50):\n",
    "    line_name=line_name\n",
    "    step_size=step_size\n",
    "    params_default=np.array(p.line_scattered_params(line_name))\n",
    "    params_fisher_names=['a_off', 'b_off']      \n",
    "    params_fisher={'a_off': params_default[0], \n",
    "                   'b_off':params_default[2]\n",
    "                  }\n",
    "\n",
    "    steps={'a_off': params_default[0]/step_size,\n",
    "           'b_off':params_default[2]/step_size\n",
    "          }\n",
    "    return params_fisher, steps\n",
    "\n",
    "\n",
    "params_fisher, steps= configure_params_fisher(line_name=\"CII158\", step_size=50)\n",
    "p\n",
    "arams_default=params_fisher"
   ]
  },
  {
   "cell_type": "code",
   "execution_count": null,
   "id": "8baa6ba2",
   "metadata": {},
   "outputs": [],
   "source": [
    "import torch\n",
    "from sbi import utils as utils\n",
    "from sbi import analysis as analysis\n",
    "from sbi.inference.base import infer"
   ]
  },
  {
   "cell_type": "code",
   "execution_count": 5,
   "id": "6fa9e876",
   "metadata": {},
   "outputs": [
    {
     "name": "stdout",
     "output_type": "stream",
     "text": [
      "[9.161479   0.75815564] [7.5886283  0.28622139]\n",
      "7.2862144 1.1517619\n"
     ]
    },
    {
     "name": "stderr",
     "output_type": "stream",
     "text": [
      "2023-03-13 12:24:39.411460: I tensorflow/core/platform/cpu_feature_guard.cc:193] This TensorFlow binary is optimized with oneAPI Deep Neural Network Library (oneDNN) to use the following CPU instructions in performance-critical operations:  AVX2 FMA\n",
      "To enable them in other operations, rebuild TensorFlow with the appropriate compiler flags.\n"
     ]
    },
    {
     "data": {
      "application/vnd.jupyter.widget-view+json": {
       "model_id": "becdb468d8274813a13a0ea2bfcff4c1",
       "version_major": 2,
       "version_minor": 0
      },
      "text/plain": [
       "Running 200 simulations.:   0%|          | 0/200 [00:00<?, ?it/s]"
      ]
     },
     "metadata": {},
     "output_type": "display_data"
    },
    {
     "name": "stdout",
     "output_type": "stream",
     "text": [
      "4.844738 1.1561706\n",
      "9.44165 0.8075338\n",
      "7.009119 0.93017256\n",
      "8.208325 1.666339\n",
      "5.9548597 1.3750317\n",
      "6.151599 0.91146725\n",
      "4.46584 0.27421054\n",
      "5.8643064 1.6298671\n",
      "7.8244987 1.0238991\n",
      "8.044975 1.9532756\n",
      "8.020314 0.72216755\n",
      "7.310952 1.4101946\n",
      "9.009502 1.1716177\n",
      "8.836066 0.8286118\n",
      "7.4601765 0.15306807\n",
      "9.327295 0.9743483\n",
      "9.618286 1.0514265\n",
      "7.314084 1.1395987\n",
      "8.434347 1.6532314\n",
      "8.131258 1.5986866\n",
      "6.4015417 0.4967036\n",
      "8.58526 1.8229278\n",
      "4.955454 0.33095706\n",
      "7.834246 0.6093185\n",
      "5.6672387 1.1572313\n",
      "5.2307673 1.5274872\n",
      "5.2451653 1.2283983\n",
      "9.896072 1.6221669\n",
      "4.7364135 0.75506103\n",
      "9.255956 1.445192\n",
      "9.980452 0.6994862\n",
      "6.978155 0.85435903\n",
      "4.032981 0.38632166\n",
      "6.500287 1.2102451\n",
      "9.756413 1.693065\n",
      "6.487727 0.6257485\n",
      "8.579638 0.28122395\n",
      "9.183464 1.1332736\n",
      "5.044937 1.2988235\n",
      "6.0349364 1.7175065\n",
      "9.62759 1.515038\n",
      "5.250728 1.6835749\n",
      "6.7485123 0.9430211\n",
      "6.7568345 1.1675123\n",
      "7.2270107 1.8217068\n",
      "8.013356 1.6128874\n",
      "7.430525 0.9267737\n",
      "5.5919285 1.669171\n",
      "9.263199 1.5434146\n",
      "7.280899 1.1460643\n",
      "8.481074 1.7497221\n",
      "7.3588943 0.8064609\n",
      "9.674258 0.37174314\n",
      "9.623634 1.6021724\n",
      "7.961112 1.6034532\n",
      "6.6042995 1.1175928\n",
      "5.567587 1.9629974\n",
      "8.794764 1.9414365\n",
      "9.122694 1.2605917\n",
      "6.589079 1.8855827\n",
      "9.854047 1.0786619\n",
      "7.6023693 1.0998707\n",
      "9.614436 0.5519499\n",
      "7.9879446 1.7986752\n",
      "7.3257637 1.1074226\n",
      "8.302336 0.42473453\n",
      "6.1006365 0.94266343\n",
      "4.343247 0.1550413\n",
      "9.339302 0.26786682\n",
      "7.0648413 1.3112957\n",
      "5.7121935 0.3782896\n",
      "9.525789 1.3183591\n",
      "9.608712 1.0480021\n",
      "9.084763 1.6765647\n",
      "9.528554 1.8371018\n",
      "5.2917776 0.92393416\n",
      "9.408096 0.122811936\n",
      "7.425811 1.9002285\n",
      "9.461196 1.9191904\n",
      "8.543832 1.5828962\n",
      "4.6640787 1.8375828\n",
      "9.195437 1.3187252\n",
      "7.759844 1.2444192\n",
      "8.21173 0.8571213\n",
      "6.8302894 0.9152647\n",
      "7.953063 0.23621151\n",
      "6.8502946 0.45735112\n",
      "7.006907 0.43421823\n",
      "6.503845 0.5385375\n",
      "4.6852345 1.6056873\n",
      "6.0586505 0.5566524\n",
      "4.3499203 0.8050896\n",
      "7.43254 0.5699602\n",
      "5.5102468 0.7809763\n",
      "4.9539137 0.42543033\n",
      "8.918959 0.42099473\n",
      "9.413179 1.2057892\n",
      "6.653795 1.2102764\n",
      "9.399888 1.0557406\n",
      "5.429882 1.0473042\n",
      "6.264187 1.4963917\n",
      "8.30984 1.000921\n",
      "4.6065016 1.1885269\n",
      "5.0897813 1.9986438\n",
      "4.665715 1.9914345\n",
      "4.6475964 1.5871599\n",
      "9.127035 0.70955026\n",
      "4.33087 1.4623064\n",
      "8.471812 1.1309657\n",
      "6.506735 1.4371597\n",
      "7.019363 0.9509482\n",
      "4.9686084 1.8633283\n",
      "5.5090804 0.82708204\n",
      "5.5773244 1.1724821\n",
      "4.0134506 0.7837583\n",
      "8.986751 1.9919697\n",
      "9.252565 1.8660198\n",
      "8.031053 1.6516151\n",
      "5.4938064 1.0249441\n",
      "9.88339 0.32555813\n",
      "5.1781254 0.11570557\n",
      "9.787786 1.1193299\n",
      "8.830878 1.2133628\n",
      "6.462146 0.25538215\n",
      "6.6342435 0.393833\n",
      "9.823912 1.2570233\n",
      "7.992481 0.10106035\n",
      "7.14543 1.135688\n",
      "5.162616 1.0806545\n",
      "7.096007 1.5060256\n",
      "5.150513 0.4732943\n",
      "9.328036 1.9580618\n",
      "9.337877 0.8209828\n",
      "9.035007 0.24467525\n",
      "5.5532923 1.6432955\n",
      "4.750121 1.9482801\n",
      "6.2522883 1.7174104\n",
      "6.047881 0.10983895\n",
      "8.720191 1.5877866\n",
      "5.313882 0.675177\n",
      "7.636121 1.1811215\n",
      "8.627229 0.18846183\n",
      "9.32276 0.61814094\n",
      "7.5407133 0.6337467\n",
      "9.518332 0.86240923\n",
      "9.985666 0.29394734\n",
      "4.822006 0.75035936\n",
      "9.49542 0.5145769\n",
      "7.764102 0.5087304\n",
      "5.5652294 0.45011824\n",
      "7.3631983 0.7770854\n",
      "6.5643964 1.81508\n",
      "4.7971296 0.9026925\n",
      "5.359376 0.47130063\n",
      "4.865609 1.6128267\n",
      "5.4115376 0.100921735\n",
      "8.172148 1.185769\n",
      "8.202111 1.9359014\n",
      "9.997381 0.29610586\n",
      "9.178416 0.13341644\n",
      "5.016074 0.10250914\n",
      "9.197494 1.6180178\n",
      "8.312721 1.4472712\n",
      "7.4875174 1.3399165\n",
      "8.691237 1.0571003\n",
      "5.215432 0.43969074\n",
      "4.0612297 1.8574375\n",
      "5.3562155 1.8296115\n",
      "4.5237083 1.1887653\n",
      "8.814457 0.655394\n",
      "9.282874 0.5198196\n",
      "9.268944 1.9925919\n",
      "9.86637 1.6417257\n",
      "7.3137746 1.6676052\n",
      "8.109741 1.4487932\n",
      "9.910622 1.094145\n",
      "5.220717 0.9780587\n",
      "8.484127 0.63905865\n",
      "5.308631 1.4565213\n",
      "9.650188 1.5080366\n",
      "8.024356 1.4188012\n",
      "9.205276 1.5443153\n",
      "7.92811 1.6125511\n",
      "5.6647677 1.152121\n",
      "7.3358192 0.4796438\n",
      "5.6557236 0.661551\n",
      "9.059422 0.2555005\n",
      "8.180969 0.80237454\n",
      "5.4700375 0.10827045\n",
      "4.1750207 1.5311241\n",
      "5.6702213 0.20269166\n",
      "8.7638855 1.3440043\n",
      "6.350885 1.7961037\n",
      "6.1036277 1.9009844\n",
      "5.681279 0.97175705\n",
      "4.295261 1.634872\n",
      "4.49249 1.3768386\n",
      "9.592068 1.2395878\n",
      "9.977457 1.8151548\n",
      "9.364678 1.3861395\n",
      " Neural network successfully converged after 73 epochs."
     ]
    }
   ],
   "source": [
    "num_dim = 2\n",
    "prior = utils.BoxUniform(low= torch.tensor([4, 0.1]), high= torch.tensor([10, 2]))\n",
    "bins=40\n",
    "\n",
    "def simulator(parameter_set, bins=bins, z =5.8):\n",
    "    small_h = 0.68\n",
    "    #print(\"parameter set\", parameter_set)\n",
    "    parameter_set = parameter_set.numpy()\n",
    "    a_off = parameter_set[0]\n",
    "    b_off = parameter_set[1]\n",
    "    \n",
    "    print(a_off, b_off)\n",
    "    params_fisher={'a_off': a_off, \n",
    "                   'b_off': b_off\n",
    "                  }\n",
    "    \n",
    "\n",
    "    \n",
    "    line_name='CII158'\n",
    "    model_name=\"Alma_scalling\"\n",
    "    sfr_model=\"Behroozi19\"\n",
    "    mmin=1e10\n",
    "    use_scatter=False\n",
    "    halocat_file_type=\"input_cat\"\n",
    "    ngrid=512\n",
    "    boxsize_x = 80 * small_h\n",
    "    boxsize_y = 80 * small_h\n",
    "    boxsize_z = 80 * small_h\n",
    "\n",
    "\n",
    "    hf = \"/Users/anirbanroy/Documents/LIM_data/Box80_new/halos_z5.80_512_80Mpc.npz\"\n",
    "      \n",
    "    Igcal= ll.make_quantity_rectangular_grid_new(hf, \n",
    "                                           z,\n",
    "                                           sfr_model=sfr_model,\n",
    "                                           model_name= model_name,\n",
    "                                           quantity='intensity', \n",
    "                                           line_name = line_name, \n",
    "                                           halo_cutoff_mass= mmin, \n",
    "                                           use_scatter=use_scatter,\n",
    "                                           halocat_type=halocat_file_type,\n",
    "                                           ngrid_x = ngrid, \n",
    "                                           ngrid_y = ngrid, \n",
    "                                           ngrid_z = ngrid,\n",
    "                                           boxsize_x=boxsize_x,\n",
    "                                           boxsize_y=boxsize_y,\n",
    "                                           boxsize_z=boxsize_z,\n",
    "                                           nu_obs = 280,\n",
    "                                           dnu_obs = 2.8,\n",
    "                                           theta_fwhm = 1,\n",
    "                                           z_evolution = False,\n",
    "                                           params_fisher= params_fisher)\n",
    "\n",
    "    \n",
    "    #Igcal[Igcal <= 0] = 1e-20 #[Igcal>=1]\n",
    "    delta_f = Igcal [Igcal>1]\n",
    "    delta_f = delta_f.flatten()\n",
    "    range_pdf = [1e-1, 1e1]\n",
    "    hist, bine = np.histogram(np.log10(delta_f), bins=bins, range = range_pdf, density = True)\n",
    "    \n",
    "    #hist, bine = np.histogram(np.log10(delta_f), bins=50, density = False)\n",
    "    \n",
    "    return torch.tensor(hist)\n",
    "    \n",
    "\n",
    "posterior = infer(simulator, prior, method=\"SNPE\", num_simulations=200)"
   ]
  },
  {
   "cell_type": "code",
   "execution_count": 6,
   "id": "54fbf6b6",
   "metadata": {},
   "outputs": [],
   "source": [
    "observation = torch.tensor([6.6, 0.9])"
   ]
  },
  {
   "cell_type": "code",
   "execution_count": 7,
   "id": "1ade0558",
   "metadata": {},
   "outputs": [
    {
     "ename": "AssertionError",
     "evalue": "Observed data shape (torch.Size([1, 2])) must match the shape of simulated data x (torch.Size([1, 40])).",
     "output_type": "error",
     "traceback": [
      "\u001b[0;31m---------------------------------------------------------------------------\u001b[0m",
      "\u001b[0;31mAssertionError\u001b[0m                            Traceback (most recent call last)",
      "Input \u001b[0;32mIn [7]\u001b[0m, in \u001b[0;36m<cell line: 1>\u001b[0;34m()\u001b[0m\n\u001b[0;32m----> 1\u001b[0m samples \u001b[38;5;241m=\u001b[39m \u001b[43mposterior\u001b[49m\u001b[38;5;241;43m.\u001b[39;49m\u001b[43msample\u001b[49m\u001b[43m(\u001b[49m\u001b[43m(\u001b[49m\u001b[38;5;241;43m100000\u001b[39;49m\u001b[43m,\u001b[49m\u001b[43m)\u001b[49m\u001b[43m,\u001b[49m\u001b[43m \u001b[49m\u001b[43mx\u001b[49m\u001b[38;5;241;43m=\u001b[39;49m\u001b[43mobservation\u001b[49m\u001b[43m)\u001b[49m\n",
      "File \u001b[0;32m~/opt/anaconda3/envs/nbodykit-env/lib/python3.8/site-packages/sbi/inference/posteriors/direct_posterior.py:104\u001b[0m, in \u001b[0;36mDirectPosterior.sample\u001b[0;34m(self, sample_shape, x, max_sampling_batch_size, sample_with, show_progress_bars)\u001b[0m\n\u001b[1;32m     92\u001b[0m \u001b[38;5;124mr\u001b[39m\u001b[38;5;124;03m\"\"\"Return samples from posterior distribution $p(\\theta|x)$.\u001b[39;00m\n\u001b[1;32m     93\u001b[0m \n\u001b[1;32m     94\u001b[0m \u001b[38;5;124;03mArgs:\u001b[39;00m\n\u001b[0;32m   (...)\u001b[0m\n\u001b[1;32m    100\u001b[0m \u001b[38;5;124;03m    show_progress_bars: Whether to show sampling progress monitor.\u001b[39;00m\n\u001b[1;32m    101\u001b[0m \u001b[38;5;124;03m\"\"\"\u001b[39;00m\n\u001b[1;32m    103\u001b[0m num_samples \u001b[38;5;241m=\u001b[39m torch\u001b[38;5;241m.\u001b[39mSize(sample_shape)\u001b[38;5;241m.\u001b[39mnumel()\n\u001b[0;32m--> 104\u001b[0m x \u001b[38;5;241m=\u001b[39m \u001b[38;5;28;43mself\u001b[39;49m\u001b[38;5;241;43m.\u001b[39;49m\u001b[43m_x_else_default_x\u001b[49m\u001b[43m(\u001b[49m\u001b[43mx\u001b[49m\u001b[43m)\u001b[49m\n\u001b[1;32m    105\u001b[0m max_sampling_batch_size \u001b[38;5;241m=\u001b[39m (\n\u001b[1;32m    106\u001b[0m     \u001b[38;5;28mself\u001b[39m\u001b[38;5;241m.\u001b[39mmax_sampling_batch_size\n\u001b[1;32m    107\u001b[0m     \u001b[38;5;28;01mif\u001b[39;00m max_sampling_batch_size \u001b[38;5;129;01mis\u001b[39;00m \u001b[38;5;28;01mNone\u001b[39;00m\n\u001b[1;32m    108\u001b[0m     \u001b[38;5;28;01melse\u001b[39;00m max_sampling_batch_size\n\u001b[1;32m    109\u001b[0m )\n\u001b[1;32m    111\u001b[0m \u001b[38;5;28;01mif\u001b[39;00m sample_with \u001b[38;5;129;01mis\u001b[39;00m \u001b[38;5;129;01mnot\u001b[39;00m \u001b[38;5;28;01mNone\u001b[39;00m:\n",
      "File \u001b[0;32m~/opt/anaconda3/envs/nbodykit-env/lib/python3.8/site-packages/sbi/inference/posteriors/base_posterior.py:137\u001b[0m, in \u001b[0;36mNeuralPosterior._x_else_default_x\u001b[0;34m(self, x)\u001b[0m\n\u001b[1;32m    134\u001b[0m \u001b[38;5;28;01mif\u001b[39;00m x \u001b[38;5;129;01mis\u001b[39;00m \u001b[38;5;129;01mnot\u001b[39;00m \u001b[38;5;28;01mNone\u001b[39;00m:\n\u001b[1;32m    135\u001b[0m     \u001b[38;5;66;03m# New x, reset posterior sampler.\u001b[39;00m\n\u001b[1;32m    136\u001b[0m     \u001b[38;5;28mself\u001b[39m\u001b[38;5;241m.\u001b[39m_posterior_sampler \u001b[38;5;241m=\u001b[39m \u001b[38;5;28;01mNone\u001b[39;00m\n\u001b[0;32m--> 137\u001b[0m     \u001b[38;5;28;01mreturn\u001b[39;00m \u001b[43mprocess_x\u001b[49m\u001b[43m(\u001b[49m\n\u001b[1;32m    138\u001b[0m \u001b[43m        \u001b[49m\u001b[43mx\u001b[49m\u001b[43m,\u001b[49m\u001b[43m \u001b[49m\u001b[43mx_shape\u001b[49m\u001b[38;5;241;43m=\u001b[39;49m\u001b[38;5;28;43mself\u001b[39;49m\u001b[38;5;241;43m.\u001b[39;49m\u001b[43m_x_shape\u001b[49m\u001b[43m,\u001b[49m\u001b[43m \u001b[49m\u001b[43mallow_iid_x\u001b[49m\u001b[38;5;241;43m=\u001b[39;49m\u001b[38;5;28;43mself\u001b[39;49m\u001b[38;5;241;43m.\u001b[39;49m\u001b[43mpotential_fn\u001b[49m\u001b[38;5;241;43m.\u001b[39;49m\u001b[43mallow_iid_x\u001b[49m\n\u001b[1;32m    139\u001b[0m \u001b[43m    \u001b[49m\u001b[43m)\u001b[49m\n\u001b[1;32m    140\u001b[0m \u001b[38;5;28;01melif\u001b[39;00m \u001b[38;5;28mself\u001b[39m\u001b[38;5;241m.\u001b[39mdefault_x \u001b[38;5;129;01mis\u001b[39;00m \u001b[38;5;28;01mNone\u001b[39;00m:\n\u001b[1;32m    141\u001b[0m     \u001b[38;5;28;01mraise\u001b[39;00m \u001b[38;5;167;01mValueError\u001b[39;00m(\n\u001b[1;32m    142\u001b[0m         \u001b[38;5;124m\"\u001b[39m\u001b[38;5;124mContext `x` needed when a default has not been set.\u001b[39m\u001b[38;5;124m\"\u001b[39m\n\u001b[1;32m    143\u001b[0m         \u001b[38;5;124m\"\u001b[39m\u001b[38;5;124mIf you\u001b[39m\u001b[38;5;124m'\u001b[39m\u001b[38;5;124md like to have a default, use the `.set_default_x()` method.\u001b[39m\u001b[38;5;124m\"\u001b[39m\n\u001b[1;32m    144\u001b[0m     )\n",
      "File \u001b[0;32m~/opt/anaconda3/envs/nbodykit-env/lib/python3.8/site-packages/sbi/utils/user_input_checks.py:592\u001b[0m, in \u001b[0;36mprocess_x\u001b[0;34m(x, x_shape, allow_iid_x)\u001b[0m\n\u001b[1;32m    587\u001b[0m     start_idx \u001b[38;5;241m=\u001b[39m \u001b[38;5;241m1\u001b[39m\n\u001b[1;32m    589\u001b[0m \u001b[38;5;28;01mif\u001b[39;00m x_shape \u001b[38;5;129;01mis\u001b[39;00m \u001b[38;5;129;01mnot\u001b[39;00m \u001b[38;5;28;01mNone\u001b[39;00m:\n\u001b[1;32m    590\u001b[0m     \u001b[38;5;66;03m# Number of trials can change for every new x, but single trial x shape must\u001b[39;00m\n\u001b[1;32m    591\u001b[0m     \u001b[38;5;66;03m# match.\u001b[39;00m\n\u001b[0;32m--> 592\u001b[0m     \u001b[38;5;28;01massert\u001b[39;00m input_x_shape[start_idx:] \u001b[38;5;241m==\u001b[39m x_shape[start_idx:], (\n\u001b[1;32m    593\u001b[0m         \u001b[38;5;124mf\u001b[39m\u001b[38;5;124m\"\u001b[39m\u001b[38;5;124mObserved data shape (\u001b[39m\u001b[38;5;132;01m{\u001b[39;00minput_x_shape[start_idx:]\u001b[38;5;132;01m}\u001b[39;00m\u001b[38;5;124m) must match \u001b[39m\u001b[38;5;124m\"\u001b[39m\n\u001b[1;32m    594\u001b[0m         \u001b[38;5;124mf\u001b[39m\u001b[38;5;124m\"\u001b[39m\u001b[38;5;124mthe shape of simulated data x (\u001b[39m\u001b[38;5;132;01m{\u001b[39;00mx_shape[start_idx:]\u001b[38;5;132;01m}\u001b[39;00m\u001b[38;5;124m).\u001b[39m\u001b[38;5;124m\"\u001b[39m\n\u001b[1;32m    595\u001b[0m     )\n\u001b[1;32m    596\u001b[0m \u001b[38;5;28;01mreturn\u001b[39;00m x\n",
      "\u001b[0;31mAssertionError\u001b[0m: Observed data shape (torch.Size([1, 2])) must match the shape of simulated data x (torch.Size([1, 40]))."
     ]
    }
   ],
   "source": [
    "samples = posterior.sample((100000,), x=observation)"
   ]
  },
  {
   "cell_type": "code",
   "execution_count": 29,
   "id": "b079ce9a",
   "metadata": {},
   "outputs": [
    {
     "data": {
      "image/png": "[encoded data removed]",
      "text/plain": [
       "<Figure size 432x432 with 4 Axes>"
      ]
     },
     "metadata": {
      "needs_background": "light"
     },
     "output_type": "display_data"
    }
   ],
   "source": [
    "log_probability = posterior.log_prob(samples, x=observation)\n",
    "_ = analysis.pairplot(samples, limits=[[4, 10], [0., 2.0]],\n",
    "                      labels=[r'$a_{off}$', r'$b_{\\rm off}$'], figsize=(6, 6))"
   ]
  },
  {
   "cell_type": "code",
   "execution_count": 30,
   "id": "fded858d",
   "metadata": {},
   "outputs": [
    {
     "data": {
      "image/png": "[encoded data removed]",
      "text/plain": [
       "<Figure size 576x576 with 4 Axes>"
      ]
     },
     "metadata": {
      "needs_background": "light"
     },
     "output_type": "display_data"
    }
   ],
   "source": [
    "import numpy as np\n",
    "from chainconsumer import ChainConsumer\n",
    "\n",
    "np.random.seed(0)\n",
    "data = samples.numpy()\n",
    "\n",
    "c = ChainConsumer()\n",
    "c.add_chain(data, parameters=[r\"$a_{\\rm off}$\", r\"$b_{\\rm off}$\"])\n",
    "fig = c.plotter.plot(figsize=\"column\", truth=[0.0, 4.0])\n",
    "\n",
    "# If we wanted to save to file, we would instead have written\n",
    "# fig = c.plotter.plot(filename=\"location\", figsize=\"column\", truth=[0.0, 4.0])\n",
    "\n",
    "# If we wanted to display the plot interactively...\n",
    "# fig = c.plotter.plot(display=True, figsize=\"column\", truth=[0.0, 4.0])\n",
    "\n",
    "fig.set_size_inches(3 + fig.get_size_inches())  # Resize fig for doco. You don't need this."
   ]
  },
  {
   "cell_type": "code",
   "execution_count": 40,
   "id": "0a2931b8",
   "metadata": {},
   "outputs": [],
   "source": [
    "def make_grid_rectangular(\n",
    "    grid,\n",
    "    halo_redshift,\n",
    "    ngrid_x=None,\n",
    "    ngrid_y=None,\n",
    "    ngrid_z=None,\n",
    "    boxsize_x=None,\n",
    "    boxsize_y=None,\n",
    "    boxsize_z=None,\n",
    "    nu_obs = None,\n",
    "    dnu_obs =None,\n",
    "):\n",
    "    if (dnu_obs is not None):\n",
    "        zem, dz, dchi, d_ngrid = lu.box_freq_to_quantities(nu_obs=nu_obs, \n",
    "                                                           dnu_obs=dnu_obs, \n",
    "                                                           boxsize= boxsize_z,\n",
    "                                                           ngrid= ngrid_z,\n",
    "                                                           z_start = halo_redshift,\n",
    "                                                           line_name= \"CII158\")\n",
    "        \n",
    "        Ngrid_new = int(ngrid_z/d_ngrid) if d_ngrid < ngrid_z else 1\n",
    "        d_ngrid = d_ngrid if d_ngrid< ngrid_z else ngrid_z\n",
    "    \n",
    "    # if dnu_obs is None, then ngrid along z axis will remain unchanged. \n",
    "    if (dnu_obs is None):\n",
    "        Ngrid_new = ngrid_z\n",
    "        d_ngrid = ngrid_z\n",
    "    \n",
    "\n",
    "    grid_final = np.empty((ngrid_x, ngrid_y))\n",
    "    \n",
    "    grid_final = np.array([])\n",
    "    for i in range(Ngrid_new):\n",
    "        print(i)\n",
    "        start = i * d_ngrid\n",
    "        end = (i + 1) * d_ngrid\n",
    "        noise_cal = np.sum(grid[:, :, start: end], axis = 2)\n",
    "        if i ==0:\n",
    "            grid_final = noise_cal\n",
    "        if i>0:\n",
    "            grid_final = np.dstack([grid_final,noise_cal])\n",
    "       \n",
    "    \n",
    "    return grid_final.reshape(ngrid_x, ngrid_y, Ngrid_new)"
   ]
  },
  {
   "cell_type": "code",
   "execution_count": 45,
   "id": "a035e18d",
   "metadata": {},
   "outputs": [
    {
     "name": "stdout",
     "output_type": "stream",
     "text": [
      "0\n"
     ]
    }
   ],
   "source": [
    "small_h =0.68\n",
    "noise_grid = np.load(\"/Users/anirbanroy/Documents/Lim-cross-correlation/codes/Noise_grid_220.npz\")['grid']\n",
    "boxsize_x = 80 * small_h\n",
    "boxsize_y = 80 * small_h\n",
    "boxsize_z = 80 * small_h\n",
    "\n",
    "\n",
    "\n",
    "Ignoise = make_grid_rectangular(noise_grid, 5.8,\n",
    "                           ngrid_x= 512,\n",
    "                            ngrid_y= 512,\n",
    "                            ngrid_z= 512,\n",
    "                            boxsize_x= boxsize_x,\n",
    "                            boxsize_y= boxsize_y,\n",
    "                            boxsize_z= boxsize_z,\n",
    "                            nu_obs = 280,\n",
    "                            dnu_obs = 2.8)\n",
    "                           "
   ]
  },
  {
   "cell_type": "code",
   "execution_count": 42,
   "id": "3294c51f",
   "metadata": {},
   "outputs": [
    {
     "data": {
      "text/plain": [
       "(512, 512)"
      ]
     },
     "execution_count": 42,
     "metadata": {},
     "output_type": "execute_result"
    }
   ],
   "source": [
    "np.shape(np.sum(noise_grid[:, :, 0:50], axis=2))"
   ]
  },
  {
   "cell_type": "code",
   "execution_count": 91,
   "id": "8bef244d",
   "metadata": {},
   "outputs": [],
   "source": [
    "num_dim = 2\n",
    "prior = utils.BoxUniform(low= torch.tensor([4, 0.1]), high= torch.tensor([10, 2]))\n",
    "bins=40\n",
    "\n",
    "#noise_grid = np.load(\"/Users/anirbanroy/Documents/Lim-cross-correlation/codes/Noise_grid_220.npz\")['grid']\n",
    "\n",
    "\n",
    "\n",
    "def simulator1(parameter_set, noise=True, bins=bins, z =5.8):\n",
    "    small_h = 0.68\n",
    "    #print(\"parameter set\", parameter_set)\n",
    "    parameter_set = parameter_set.numpy()\n",
    "    a_off = parameter_set[0]\n",
    "    b_off = parameter_set[1]\n",
    "    \n",
    "    print(a_off, b_off)\n",
    "    params_fisher={'a_off': a_off, \n",
    "                   'b_off': b_off\n",
    "                  }\n",
    "    \n",
    "\n",
    "    \n",
    "    line_name='CII158'\n",
    "    model_name=\"Alma_scalling\"\n",
    "    sfr_model=\"Behroozi19\"\n",
    "    mmin=1e10\n",
    "    use_scatter=False\n",
    "    halocat_file_type=\"input_cat\"\n",
    "    ngrid=512\n",
    "    boxsize_x = 80 * small_h\n",
    "    boxsize_y = 80 * small_h\n",
    "    boxsize_z = 80 * small_h\n",
    "\n",
    "\n",
    "    hf = \"/Users/anirbanroy/Documents/LIM_data/Box80_new/halos_z5.80_512_80Mpc.npz\"\n",
    "      \n",
    "    Igcal= ll.make_quantity_rectangular_grid_new(hf, \n",
    "                                           z,\n",
    "                                           sfr_model=sfr_model,\n",
    "                                           model_name= model_name,\n",
    "                                           quantity='intensity', \n",
    "                                           line_name = line_name, \n",
    "                                           halo_cutoff_mass= mmin, \n",
    "                                           use_scatter=use_scatter,\n",
    "                                           halocat_type=halocat_file_type,\n",
    "                                           ngrid_x = ngrid, \n",
    "                                           ngrid_y = ngrid, \n",
    "                                           ngrid_z = ngrid,\n",
    "                                           boxsize_x=boxsize_x,\n",
    "                                           boxsize_y=boxsize_y,\n",
    "                                           boxsize_z=boxsize_z,\n",
    "                                           nu_obs = 280,\n",
    "                                           dnu_obs = 2.8,\n",
    "                                           theta_fwhm = 1,\n",
    "                                           z_evolution = False,\n",
    "                                           params_fisher= params_fisher)\n",
    "\n",
    "    \n",
    "    #Igcal[Igcal <= 0] = 1e-20 #[Igcal>=1]\n",
    "    if noise:\n",
    "        print(\"Adding noise\")\n",
    "        Igcal += Ignoise\n",
    "        \n",
    "    delta_f = Igcal [Igcal>1]\n",
    "    delta_f = delta_f.flatten()\n",
    "    range_pdf = [1e-1, 1e1]\n",
    "    hist, bine = np.histogram(np.log10(delta_f), bins=bins, range = range_pdf, density = True)\n",
    "    \n",
    "    #hist, bine = np.histogram(np.log10(delta_f), bins=50, density = False)\n",
    "    \n",
    "    return torch.tensor(hist)\n",
    "    \n",
    "\n",
    "#posterior1 = infer(simulator1, prior, method=\"SNPE\", num_simulations=200)"
   ]
  },
  {
   "cell_type": "code",
   "execution_count": 48,
   "id": "4714cec0",
   "metadata": {},
   "outputs": [
    {
     "name": "stdout",
     "output_type": "stream",
     "text": [
      "6.5 0.59\n",
      "Adding noise\n"
     ]
    }
   ],
   "source": [
    "\n",
    "observation1 = simulator1(torch.tensor([6.5, 0.59]), z =5.8)\n"
   ]
  },
  {
   "cell_type": "code",
   "execution_count": 49,
   "id": "376160ff",
   "metadata": {},
   "outputs": [
    {
     "data": {
      "application/vnd.jupyter.widget-view+json": {
       "model_id": "45488ff695e2403d9e0ba2f848ba9c22",
       "version_major": 2,
       "version_minor": 0
      },
      "text/plain": [
       "Drawing 100000 posterior samples:   0%|          | 0/100000 [00:00<?, ?it/s]"
      ]
     },
     "metadata": {},
     "output_type": "display_data"
    }
   ],
   "source": [
    "samples1 = posterior1.sample((100000,), x=observation1)"
   ]
  },
  {
   "cell_type": "code",
   "execution_count": 90,
   "id": "bfc17301",
   "metadata": {},
   "outputs": [
    {
     "data": {
      "image/png": "[encoded data removed]",
      "text/plain": [
       "<Figure size 432x432 with 4 Axes>"
      ]
     },
     "metadata": {
      "needs_background": "light"
     },
     "output_type": "display_data"
    }
   ],
   "source": [
    "log_probability = posterior1.log_prob(samples1, x=observation1)\n",
    "#_ = analysis.pairplot(samples1, limits=[[4, 10], [0., 2.0]],\n",
    "#                      labels=[r'$a_{\\rm off}$', r'$b_{\\rm off}$'], figsize=(6, 6))\n",
    "\n",
    "_ = analysis.pairplot([samples, samples1], limits=[[4, 10], [0., 2.0]],\n",
    "                      labels=[r'$a_{\\rm off}$', r'$b_{\\rm off}$'], figsize=(6, 6))\n",
    "\n",
    "plt.savefig(\"LIM_posterior_noise.pdf\")"
   ]
  },
  {
   "cell_type": "code",
   "execution_count": 89,
   "id": "629a2a8c",
   "metadata": {},
   "outputs": [
    {
     "data": {
      "image/png": "[encoded data removed]",
      "text/plain": [
       "<Figure size 576x576 with 4 Axes>"
      ]
     },
     "metadata": {
      "needs_background": "light"
     },
     "output_type": "display_data"
    }
   ],
   "source": [
    "import numpy as np\n",
    "from chainconsumer import ChainConsumer\n",
    "\n",
    "colors=['red', 'green', '#FF0101', 'brown', 'magenta']\n",
    "c = ChainConsumer()\n",
    "\n",
    "c.add_chain(data, parameters=[r\"$a_{\\rm off}$\", r\"$b_{\\rm off}$\"], name = 'signal + beam')\n",
    "\n",
    "c.add_chain(data1, parameters=[r\"$a_{\\rm off}$\", r\"$b_{\\rm off}$\"], name = 'signal + noise + beam')\n",
    "\n",
    "c.configure(usetex=True, serif=True, diagonal_tick_labels=False, tick_font_size=15, label_font_size=25, max_ticks=2,\n",
    "               colors=colors, shade=True, spacing=1.5, shade_alpha=[0.5,0.5,0.7,0.7],\n",
    "            bar_shade=True, linewidths=[2.0, 2.0, 2.0, 2.0],\n",
    "           legend_kwargs={\"loc\": \"upper right\", \"fontsize\": 25})\n",
    "\n",
    "fig = c.plotter.plot(figsize=(7,7))\n",
    "fig.set_size_inches(1+ fig.get_size_inches())\n",
    "\n",
    "plt.savefig(\"contours_LIM.pdf\")\n"
   ]
  },
  {
   "cell_type": "code",
   "execution_count": null,
   "id": "eb278da7",
   "metadata": {},
   "outputs": [],
   "source": [
    "c = ChainConsumer()\n",
    "    \n",
    "    if colors==None:\n",
    "        colors=['#C70039', '#C59A06', '#046DD0', 'green', 'm', 'orange', 'brown', 'magenta']\n",
    "    \n",
    "    array_len=len(mean_array)\n",
    "    for i in range( array_len):\n",
    "        c.add_covariance(mean_array[i], cov_array[i], parameters=params_label, name=model_names[i])\n",
    "        \n",
    "    c.configure(usetex=True, serif=True, diagonal_tick_labels=False, tick_font_size=17, label_font_size=25, max_ticks=5,\n",
    "               colors=colors, shade=True, spacing=1.5, shade_alpha=[1.0, 0.8, 0.7], bar_shade=True, linewidths=[3.0, 3.0, 3.0])\n",
    "    \n",
    "    fig = c.plotter.plot(figsize=(8,8))\n",
    "\n",
    "    fig.set_size_inches(3+ fig.get_size_inches()) \n",
    "    #plt.tight_layout()\n",
    "    plt.savefig(\"constraints_y.pdf\")"
   ]
  },
  {
   "cell_type": "code",
   "execution_count": null,
   "id": "0f1d94f6",
   "metadata": {},
   "outputs": [],
   "source": []
  },
  {
   "cell_type": "code",
   "execution_count": 74,
   "id": "8534a43c",
   "metadata": {},
   "outputs": [
    {
     "name": "stdout",
     "output_type": "stream",
     "text": [
      "6.5 0.99\n",
      "7.0 0.99\n",
      "7.5 0.99\n",
      "8.0 0.99\n"
     ]
    }
   ],
   "source": [
    "x1 = simulator(torch.tensor([6.5, 0.99]), z =5.8).numpy()\n",
    "x2 = simulator(torch.tensor([7.0, 0.99]), z =5.8).numpy()\n",
    "x3 = simulator(torch.tensor([7.5, 0.99]), z =5.8).numpy()\n",
    "x4 = simulator(torch.tensor([8.0, 0.99]), z =5.8).numpy()"
   ]
  },
  {
   "cell_type": "code",
   "execution_count": 83,
   "id": "e03c549e",
   "metadata": {},
   "outputs": [
    {
     "ename": "NameError",
     "evalue": "name 'bine' is not defined",
     "output_type": "error",
     "traceback": [
      "\u001b[0;31m---------------------------------------------------------------------------\u001b[0m",
      "\u001b[0;31mNameError\u001b[0m                                 Traceback (most recent call last)",
      "Input \u001b[0;32mIn [83]\u001b[0m, in \u001b[0;36m<cell line: 12>\u001b[0;34m()\u001b[0m\n\u001b[1;32m      9\u001b[0m plt\u001b[38;5;241m.\u001b[39mgca()\u001b[38;5;241m.\u001b[39mset_prop_cycle(plt\u001b[38;5;241m.\u001b[39mcycler(\u001b[38;5;124m'\u001b[39m\u001b[38;5;124mcolor\u001b[39m\u001b[38;5;124m'\u001b[39m, plt\u001b[38;5;241m.\u001b[39mcm\u001b[38;5;241m.\u001b[39minferno(np\u001b[38;5;241m.\u001b[39mlinspace(\u001b[38;5;241m0\u001b[39m, \u001b[38;5;241m1\u001b[39m, num_plots))))\n\u001b[1;32m     12\u001b[0m \u001b[38;5;28;01mfor\u001b[39;00m i \u001b[38;5;129;01min\u001b[39;00m \u001b[38;5;28mrange\u001b[39m(\u001b[38;5;28mlen\u001b[39m(xarray)):\n\u001b[0;32m---> 13\u001b[0m     plt\u001b[38;5;241m.\u001b[39mplot(\u001b[43mbine\u001b[49m[\u001b[38;5;241m1\u001b[39m:], xarray[i],linestyle\u001b[38;5;241m=\u001b[39m\u001b[38;5;124m'\u001b[39m\u001b[38;5;124m--\u001b[39m\u001b[38;5;124m'\u001b[39m, lw\u001b[38;5;241m=\u001b[39m\u001b[38;5;241m3\u001b[39m, label \u001b[38;5;241m=\u001b[39m xlabel[i])\n\u001b[1;32m     15\u001b[0m plt\u001b[38;5;241m.\u001b[39mlegend(loc\u001b[38;5;241m=\u001b[39m\u001b[38;5;241m0\u001b[39m, frameon\u001b[38;5;241m=\u001b[39m\u001b[38;5;28;01mFalse\u001b[39;00m)\n\u001b[1;32m     17\u001b[0m plt\u001b[38;5;241m.\u001b[39mylabel(\u001b[38;5;124m\"\u001b[39m\u001b[38;5;124mPDF\u001b[39m\u001b[38;5;124m\"\u001b[39m)\n",
      "\u001b[0;31mNameError\u001b[0m: name 'bine' is not defined"
     ]
    },
    {
     "data": {
      "image/png": "[encoded data removed]",
      "text/plain": [
       "<Figure size 700x700 with 1 Axes>"
      ]
     },
     "metadata": {
      "needs_background": "light"
     },
     "output_type": "display_data"
    }
   ],
   "source": [
    "from limpy.plotsettings import *\n",
    "plt.figure(figsize=[7,7], dpi=100)\n",
    "\n",
    "xarray = [x1, x2, x3, x4]\n",
    "xlabel = [r'$a_{\\rm off}= 6.5$', r'$a_{\\rm off}= 7.0$', r'$a_{\\rm off}= 7.5$', r'$a_{\\rm off}= 8.0$']\n",
    "num_plots = 6\n",
    "\n",
    "colormap = plt.cm.gist_ncar\n",
    "plt.gca().set_prop_cycle(plt.cycler('color', plt.cm.inferno(np.linspace(0, 1, num_plots))))\n",
    "\n",
    "\n",
    "for i in range(len(xarray)):\n",
    "    plt.plot(bine[1:], xarray[i],linestyle='--', lw=3, label = xlabel[i])\n",
    "    \n",
    "plt.legend(loc=0, frameon=False)\n",
    "\n",
    "plt.ylabel(\"PDF\")\n",
    "plt.xlabel(\"Intensity\")"
   ]
  },
  {
   "cell_type": "code",
   "execution_count": null,
   "id": "118b09bd",
   "metadata": {},
   "outputs": [],
   "source": [
    " samples"
   ]
  },
  {
   "cell_type": "code",
   "execution_count": null,
   "id": "413fd8a9",
   "metadata": {},
   "outputs": [],
   "source": [
    "x2"
   ]
  },
  {
   "cell_type": "code",
   "execution_count": 95,
   "id": "4b40d795",
   "metadata": {},
   "outputs": [
    {
     "name": "stdout",
     "output_type": "stream",
     "text": [
      "6.5 0.99\n",
      "7.0 0.99\n",
      "Adding noise\n"
     ]
    }
   ],
   "source": [
    "x1_res = simulator(torch.tensor([6.5, 0.99]), z =5.8)\n",
    "x2_res = simulator1(torch.tensor([7.0, 0.99]), z =5.8)"
   ]
  },
  {
   "cell_type": "code",
   "execution_count": 99,
   "id": "f55a4134",
   "metadata": {},
   "outputs": [],
   "source": [
    "x1, b1 = x1_res[0].numpy(), x1_res[1].numpy()"
   ]
  },
  {
   "cell_type": "code",
   "execution_count": 100,
   "id": "178bf7aa",
   "metadata": {},
   "outputs": [],
   "source": [
    "x2, b2 = x2_res[0].numpy(), x2_res[1].numpy()"
   ]
  },
  {
   "cell_type": "code",
   "execution_count": 105,
   "id": "07b25376",
   "metadata": {},
   "outputs": [
    {
     "data": {
      "text/plain": [
       "Text(0.5, 0, 'Intensity')"
      ]
     },
     "execution_count": 105,
     "metadata": {},
     "output_type": "execute_result"
    },
    {
     "data": {
      "image/png": "[encoded data removed]",
      "text/plain": [
       "<Figure size 700x700 with 1 Axes>"
      ]
     },
     "metadata": {
      "needs_background": "light"
     },
     "output_type": "display_data"
    }
   ],
   "source": [
    "from limpy.plotsettings import *\n",
    "plt.figure(figsize=[7,7], dpi=100)\n",
    "\n",
    "xarray = [x1, x2]\n",
    "xlabel = ['w/o noise', 'With noise']\n",
    "num_plots = 3\n",
    "\n",
    "colormap = plt.cm.gist_ncar\n",
    "plt.gca().set_prop_cycle(plt.cycler('color', plt.cm.inferno(np.linspace(0, 1, num_plots))))\n",
    "\n",
    "\n",
    "\n",
    "plt.plot(b1[1:], x1,linestyle='--', lw=3, label = xlabel[0])\n",
    "\n",
    "\n",
    "plt.plot(b2[1:], x2, linestyle='--', lw=3, label = xlabel[1])\n",
    "    \n",
    "plt.legend(loc=0, frameon=False)\n",
    "\n",
    "plt.xscale(\"log\")\n",
    "#plt.yscale(\"log\")\n",
    "\n",
    "plt.ylabel(\"PDF\")\n",
    "plt.xlabel(\"Intensity\")"
   ]
  },
  {
   "cell_type": "code",
   "execution_count": null,
   "id": "ab9c8a90",
   "metadata": {},
   "outputs": [],
   "source": []
  }
 ],
 "metadata": {
  "kernelspec": {
   "display_name": "Python 3 (ipykernel)",
   "language": "python",
   "name": "python3"
  },
  "language_info": {
   "codemirror_mode": {
    "name": "ipython",
    "version": 3
   },
   "file_extension": ".py",
   "mimetype": "text/x-python",
   "name": "python",
   "nbconvert_exporter": "python",
   "pygments_lexer": "ipython3",
   "version": "3.9.13"
  }
 },
 "nbformat": 4,
 "nbformat_minor": 5
}
